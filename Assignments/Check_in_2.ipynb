{
  "cells": [
    {
      "cell_type": "markdown",
      "id": "fe3803fb",
      "metadata": {
        "id": "fe3803fb"
      },
      "source": [
        "Imagine we have 10 people who have all been given 8 cups of tea. The number of cups each person got correct is listed below.\n",
        "\n",
        "    correct_guesses = [4,5,3,7,4,6,4,4,5,3]\n",
        "    \n",
        "So the first person guess 4 / 8, the second guesssed 5 / 8 and so on.\n",
        "\n",
        "1. Use the `scipy.stats` package to compute the likelihood of the data for each person. Assume that each person has a 0.5 chance of getting any cup correct. The answer should be in the form of a list or array. (1 point)"
      ]
    },
    {
      "cell_type": "code",
      "source": [],
      "metadata": {
        "id": "InCf5WQIGZsI"
      },
      "id": "InCf5WQIGZsI",
      "execution_count": null,
      "outputs": []
    },
    {
      "cell_type": "markdown",
      "id": "c7ff45bf",
      "metadata": {
        "id": "c7ff45bf"
      },
      "source": [
        "2. Now we'll do it in reverse. Sample 10 numbers from a binomial distribution where n=8 and p=0.5 using the `scipy.stats` package. The output should be a list or array. In other words, simulate 10 people tasting tea using the assumptions that each has no special ability for discernment. (1 point)"
      ]
    },
    {
      "cell_type": "code",
      "source": [],
      "metadata": {
        "id": "nwQNtu0VGaH0"
      },
      "id": "nwQNtu0VGaH0",
      "execution_count": null,
      "outputs": []
    },
    {
      "cell_type": "markdown",
      "id": "424d08c4",
      "metadata": {
        "id": "424d08c4"
      },
      "source": [
        "3. Take your answer from 2 and plot a bar chart showing how many cups each simulated person got correct. (1 point)"
      ]
    },
    {
      "cell_type": "code",
      "source": [],
      "metadata": {
        "id": "B3y6bom9GanM"
      },
      "id": "B3y6bom9GanM",
      "execution_count": null,
      "outputs": []
    }
  ],
  "metadata": {
    "kernelspec": {
      "display_name": "Python 3 (ipykernel)",
      "language": "python",
      "name": "python3"
    },
    "language_info": {
      "codemirror_mode": {
        "name": "ipython",
        "version": 3
      },
      "file_extension": ".py",
      "mimetype": "text/x-python",
      "name": "python",
      "nbconvert_exporter": "python",
      "pygments_lexer": "ipython3",
      "version": "3.9.15"
    },
    "colab": {
      "provenance": []
    }
  },
  "nbformat": 4,
  "nbformat_minor": 5
}