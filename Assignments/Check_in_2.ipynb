{
 "cells": [
  {
   "cell_type": "markdown",
   "id": "d8f40b49",
   "metadata": {},
   "source": [
    "**Turn in instructions** Do the assignment on Google Colab by making a copy of this document. You can insert code cells below each question to work your answer. Once you are finished, *adjusting the sharing permissions so \"anyone with a link can view the document\"*. Turn in the url of the Colab document to canvas so Natlie and I can review it.\n",
    "\n",
    "(Some students have been having trouble with colab version control and sharing permissions. So if you want to upload a static document instead of a link, download this file as an `.ipynb` file and upload that to Canvas. Either type of submission is fine.)\n"
   ]
  },
  {
   "cell_type": "markdown",
   "id": "66ad23e1",
   "metadata": {},
   "source": [
    "# Question 1\n",
    "\n",
    "Imagine we have 10 people who have all been given 8 cups of tea. Like Lady Bristol, they have to guess whether the cup was prepared milk-first or tea-first. The number of cups each person got correct is listed below.\n",
    "\n",
    "    correct_guesses = [4,5,3,7,4,6,4,4,5,3]\n",
    "    \n",
    "So the first person guess 4 out 8, the second guesssed 5 out 8 and so on. Use the `scipy.stats` package to compute the likelihood of the data for each person. Assume that each person has a 0.5 chance of getting any cup correct. The answer should be in the form of a list or array. (1 point)"
   ]
  },
  {
   "cell_type": "code",
   "execution_count": 1,
   "id": "682f0e21",
   "metadata": {},
   "outputs": [],
   "source": [
    "# answer here"
   ]
  },
  {
   "cell_type": "markdown",
   "id": "b5a81922",
   "metadata": {},
   "source": [
    "# Question 2\n",
    "\n",
    "The intention of this next bit of code is to compute the probability of getting 8 success out of 12 attempts, assuming a binomial distribution where the probability of success is 0.5. However the code returns a object known as as `nan` which is scipy's way of saying the answer is undefined. The correct answer to this problem is close to 0.121. Correct the code to yield the right answer. (1 point)"
   ]
  },
  {
   "cell_type": "code",
   "execution_count": 2,
   "id": "0de214ce",
   "metadata": {},
   "outputs": [
    {
     "data": {
      "text/plain": [
       "nan"
      ]
     },
     "execution_count": 2,
     "metadata": {},
     "output_type": "execute_result"
    }
   ],
   "source": [
    "from scipy import stats\n",
    "\n",
    "stats.binom(0.5,12).pmf(8)"
   ]
  },
  {
   "cell_type": "code",
   "execution_count": 3,
   "id": "76bf627f",
   "metadata": {},
   "outputs": [],
   "source": [
    "## correct code here"
   ]
  },
  {
   "cell_type": "markdown",
   "id": "5799bb4e",
   "metadata": {},
   "source": [
    "# Question 3\n",
    "\n",
    "Below is some code that contains a mistake. Run it, identify the mistake and put the corrected code in the cell below. Your answer should run without throwing an error and should preserve the intention of the original code. (1 point)"
   ]
  },
  {
   "cell_type": "code",
   "execution_count": null,
   "id": "33689720",
   "metadata": {},
   "outputs": [
    {
     "ename": "SyntaxError",
     "evalue": "invalid syntax. Maybe you meant '==' or ':=' instead of '='? (2122719907.py, line 17)",
     "output_type": "error",
     "traceback": [
      "\u001b[1;36m  Cell \u001b[1;32mIn[4], line 17\u001b[1;36m\u001b[0m\n\u001b[1;33m    if cup = False:\u001b[0m\n\u001b[1;37m       ^\u001b[0m\n\u001b[1;31mSyntaxError\u001b[0m\u001b[1;31m:\u001b[0m invalid syntax. Maybe you meant '==' or ':=' instead of '='?\n"
     ]
    }
   ],
   "source": [
    "import numpy as np\n",
    "\n",
    "def gamblers_coin():\n",
    "    '''Returns a list of True/False where True represents heads\n",
    "    and False represents tails. Flips a coin which starts with\n",
    "    a 0.5 probability of heads. Everytime the coin is tails, the probability\n",
    "    of heads increases on the next flip.'''\n",
    "\n",
    "    trial = []\n",
    "\n",
    "    a = 0.5\n",
    "\n",
    "    for i in range(10):\n",
    "\n",
    "        cup = np.random.random() < a\n",
    "\n",
    "        if cup = False:\n",
    "            a = a + 0.1\n",
    "\n",
    "        trial.append(cup)\n",
    "\n",
    "    return trial\n",
    "\n",
    "gamblers_coin()"
   ]
  },
  {
   "cell_type": "code",
   "execution_count": null,
   "id": "d718a242",
   "metadata": {},
   "outputs": [],
   "source": [
    "# correct code here"
   ]
  }
 ],
 "metadata": {
  "kernelspec": {
   "display_name": "Python 3 (ipykernel)",
   "language": "python",
   "name": "python3"
  },
  "language_info": {
   "codemirror_mode": {
    "name": "ipython",
    "version": 3
   },
   "file_extension": ".py",
   "mimetype": "text/x-python",
   "name": "python",
   "nbconvert_exporter": "python",
   "pygments_lexer": "ipython3",
   "version": "3.11.3"
  }
 },
 "nbformat": 4,
 "nbformat_minor": 5
}
