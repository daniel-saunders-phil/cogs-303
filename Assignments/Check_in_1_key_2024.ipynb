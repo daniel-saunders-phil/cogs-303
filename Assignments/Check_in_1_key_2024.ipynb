{
  "cells": [
    {
      "cell_type": "markdown",
      "metadata": {
        "id": "hV_us4XVSg2O"
      },
      "source": [
        "**Turn in instructions** Do the assignment on Google Colab by making a copy of this document. You can insert code cells below each question to work your answer. Once you are finished, **adjusting the sharing permissions so \"anyone with a link can view the document\"**. Turn in the url of the Colab document to canvas so Natalie and I can review it."
      ]
    },
    {
      "cell_type": "markdown",
      "metadata": {
        "id": "ETBwnzcKjDX2"
      },
      "source": [
        "Suppose I had a list of x values:\n",
        "\n",
        "[1, 1.5, 2, 2.5, 3, 3.5, 4, 4.5, 5, 5.5, 6, 6.5, 7]\n",
        "\n",
        "and I wanted to plug these into the linear equation\n",
        "\n",
        "$$ y = 5 + 2x $$\n",
        "\n",
        "How might I do that? Write a block of Python code that accomplishes this goal. (1 point)"
      ]
    },
    {
      "cell_type": "code",
      "execution_count": 2,
      "metadata": {
        "id": "PSi9LmHERfp5"
      },
      "outputs": [],
      "source": [
        "x = [1, 1.5, 2, 2.5, 3, 3.5, 4, 4.5, 5, 5.5, 6, 6.5, 7]\n",
        "ys = []\n",
        "\n",
        "for i in x:\n",
        "    y = 5 + 2*i\n",
        "    ys.append(y)"
      ]
    },
    {
      "cell_type": "code",
      "execution_count": 3,
      "metadata": {},
      "outputs": [],
      "source": [
        "x = [1, 1.5, 2, 2.5, 3, 3.5, 4, 4.5, 5, 5.5, 6, 6.5, 7]\n",
        "ys = [5 + 2*i for i in x]"
      ]
    },
    {
      "cell_type": "markdown",
      "metadata": {},
      "source": [
        "Now I want to plot my results. How might I do that? (1 point)"
      ]
    },
    {
      "cell_type": "code",
      "execution_count": 4,
      "metadata": {},
      "outputs": [
        {
          "data": {
            "text/plain": [
              "[<matplotlib.lines.Line2D at 0x1b8ec1f0f10>]"
            ]
          },
          "execution_count": 4,
          "metadata": {},
          "output_type": "execute_result"
        },
        {
          "data": {
            "image/png": "[encoded data removed]",
            "text/plain": [
              "<Figure size 640x480 with 1 Axes>"
            ]
          },
          "metadata": {},
          "output_type": "display_data"
        }
      ],
      "source": [
        "import matplotlib.pyplot as plt\n",
        "\n",
        "plt.plot(x,ys)"
      ]
    },
    {
      "cell_type": "markdown",
      "metadata": {
        "id": "RjF2TM7Ii3ei"
      },
      "source": [
        "Rewrite your previous answer but define a function called `linear` that takes in a list of x's and returns a list of y's. (1 point)"
      ]
    },
    {
      "cell_type": "code",
      "execution_count": 5,
      "metadata": {
        "id": "m7i8pAIhkD58"
      },
      "outputs": [],
      "source": [
        "def linear(x):\n",
        "    \n",
        "    ys = [5 + 2*i for i in x]\n",
        "    \n",
        "    return ys"
      ]
    },
    {
      "cell_type": "code",
      "execution_count": 6,
      "metadata": {},
      "outputs": [],
      "source": [
        "def linear(x):\n",
        "    ys = []\n",
        "    \n",
        "    for i in x:\n",
        "        y = 5 + 2*i\n",
        "        ys.append(y)\n",
        "    \n",
        "    return ys"
      ]
    },
    {
      "cell_type": "markdown",
      "metadata": {
        "id": "zjxtZNgNkCzj"
      },
      "source": [
        "Use the `numpy` library, a `for` loop, and a range to generate a 10 random numbers between 0 and 1. (1 point)"
      ]
    },
    {
      "cell_type": "code",
      "execution_count": 7,
      "metadata": {
        "colab": {
          "base_uri": "https://localhost:8080/",
          "height": 430
        },
        "id": "wMjEVZvtkcd6",
        "outputId": "40ab1807-af62-44a5-9154-900ed7b33d12"
      },
      "outputs": [
        {
          "data": {
            "text/plain": [
              "[0.31371389833475194,\n",
              " 0.43850160559866136,\n",
              " 0.9839357355901917,\n",
              " 0.470715873864306,\n",
              " 0.30968591670398005,\n",
              " 0.44514185597472467,\n",
              " 0.4450990015350541,\n",
              " 0.998663026281395,\n",
              " 0.4667226217270851,\n",
              " 0.4625632239741524]"
            ]
          },
          "execution_count": 7,
          "metadata": {},
          "output_type": "execute_result"
        }
      ],
      "source": [
        "import numpy as np\n",
        "\n",
        "ys = []\n",
        "for i in range(10):\n",
        "    y = np.random.random()\n",
        "    ys.append(y)\n",
        "\n",
        "ys"
      ]
    }
  ],
  "metadata": {
    "colab": {
      "provenance": []
    },
    "kernelspec": {
      "display_name": "Python 3 (ipykernel)",
      "language": "python",
      "name": "python3"
    },
    "language_info": {
      "codemirror_mode": {
        "name": "ipython",
        "version": 3
      },
      "file_extension": ".py",
      "mimetype": "text/x-python",
      "name": "python",
      "nbconvert_exporter": "python",
      "pygments_lexer": "ipython3",
      "version": "3.9.15"
    }
  },
  "nbformat": 4,
  "nbformat_minor": 0
}
