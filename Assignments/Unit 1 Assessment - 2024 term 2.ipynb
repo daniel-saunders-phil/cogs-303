{
 "cells": [
  {
   "cell_type": "markdown",
   "id": "85f1e1e2",
   "metadata": {},
   "source": [
    "**Turn in instructions** Do the assignment on Google Colab by making a copy of this document. You can insert code cells below each question to work your answer. Once you are finished, *adjusting the sharing permissions so \"anyone with a link can view the document\"*. Turn in the url of the Colab document to canvas so Natalie and I can review it. \n",
    "\n",
    "(Some students have been having trouble with colab version control and sharing permissions. So if you feel more comfortable uploading a static document instead of a link, download this file as an `.ipynb` file and upload that to Canvas. Either type of submission is fine for us.)"
   ]
  },
  {
   "cell_type": "markdown",
   "id": "d228ed98",
   "metadata": {},
   "source": [
    "# Question 1\n",
    "\n",
    "Throughout unit one, we've explored the lady tasting tea problem in some detail. One assumption we made in modeling this problem is that Lady Bristol has the same probability of guessing every cup correctly throughout the experiment. As mathematicians put it, each cup is independent. But this assumption is likely false.\n",
    "\n",
    "In a short text cell, describe an alternative **verbal** model for Lady Bristol's behavior. What factors do you think determine her accuracy as she moves through the experiment? The goal here is to be precise, but not necessarily realistic. We should be able to see how this answer matches up with the algorithm implemented in question 2. You might need to move back and forth between question 1 and 2, refining your description to match your code or refining your code to match your description. (two points)"
   ]
  },
  {
   "cell_type": "markdown",
   "id": "db58fdcd",
   "metadata": {},
   "source": [
    "*Written part*"
   ]
  },
  {
   "cell_type": "markdown",
   "id": "f06ecf0e",
   "metadata": {},
   "source": [
    "# Question 2\n",
    "\n",
    "Implement the verbal model as a computational model. The model should take the form of a Python function. The function should take in some number of parameters and return a list 0s and 1s of length `n`. 0 indicates failure and 1 indicates success and `n` is the number of cups she tastes in a given experiment. Otherwise, the function is up to you. It should be clear how your code is connected to your verbal model. (four points)"
   ]
  },
  {
   "cell_type": "code",
   "execution_count": null,
   "id": "90ca198b",
   "metadata": {},
   "outputs": [],
   "source": []
  },
  {
   "cell_type": "markdown",
   "id": "ddc231ff",
   "metadata": {},
   "source": [
    "# Question 3\n",
    "\n",
    "Use your new model to derive a probability distribution. The distribution should take the form of a bar chart with `n` bars. The bars should shows us the probability Bristol gets each possible outcome for a given set of parameters. To get a bar chart like this, you'll have to follow our usual strategy: simulate a large of number of hypothetical experiments, count up the number of experiments that match a certain outcome and divide by the total number of simulated experiments. (two points)"
   ]
  },
  {
   "cell_type": "code",
   "execution_count": null,
   "id": "b5498923",
   "metadata": {},
   "outputs": [],
   "source": []
  },
  {
   "cell_type": "markdown",
   "id": "ab61d10e",
   "metadata": {},
   "source": [
    "# Question 4\n",
    "\n",
    "Let's evaluate your model. One of the most remarkable properties of the standard probability distributions, like the binomial, is that many processes that do not seem to be binomial can be perfectly well described by binomial distributions. However some processes, like the hot hands model, are not binomial processes. Is there always a binomial distribution that is equivalent to your new model? You should argue for your position in writing and also display bar charts to support your answer.\n",
    "\n",
    "See if you can identify a set of parameters for the binomial distribution that produces a probability distribution that is proximately the same as your new model. If you conclude the two distributions are equivalent, show us that the equivalence holds up in at **least two** sets of parameters. If you conclude the two distributions cannot be made equivalent, show us a least one counter example where no set of parameters for the binomial can match your new distribution. (four points)"
   ]
  },
  {
   "cell_type": "code",
   "execution_count": null,
   "id": "961e44a9",
   "metadata": {},
   "outputs": [],
   "source": [
    "# code here"
   ]
  },
  {
   "cell_type": "markdown",
   "id": "ff4025a9",
   "metadata": {},
   "source": [
    "*written part*"
   ]
  },
  {
   "cell_type": "markdown",
   "id": "2e484f6e",
   "metadata": {},
   "source": [
    "# Question 5\n",
    "\n",
    "Let's do some hypothesis testing on your new model. Pick some parameter values for your model and plot the corresponding probability distribution. Then, in words, tell us what kind of experimental evidence would cause you to reject your model. Or, more simply, how many cups would Lady Bristol have to get right or wrong before your could reject your model? Assume the significance threshold is 0.05 for this problem. (one point)"
   ]
  },
  {
   "cell_type": "code",
   "execution_count": 5,
   "id": "cc1cfdb6",
   "metadata": {},
   "outputs": [],
   "source": [
    "# code part"
   ]
  },
  {
   "cell_type": "markdown",
   "id": "cf291040",
   "metadata": {},
   "source": [
    "*written part*"
   ]
  },
  {
   "cell_type": "markdown",
   "id": "e2251b79",
   "metadata": {},
   "source": [
    "# Question 6\n",
    "\n",
    "Let's do some Bayesian estimation on your new model. For the evidence, assume Fisher gave Bristol 12 cups of tea and she gets 8 of them correct. (7 points in total)"
   ]
  },
  {
   "cell_type": "markdown",
   "id": "6af01cb1",
   "metadata": {},
   "source": [
    "## 6a - Grid\n",
    "\n",
    "Right now we only know how to do Bayesian estimation on one-dimensional problems (one parameter). So if your model has several free parameters, pick plausible values for all but one of them. For the last parameter, pick a grid of possible values. Specify your grid and the fixed parameters in the cell below. (one point)"
   ]
  },
  {
   "cell_type": "markdown",
   "id": "f0c26004",
   "metadata": {},
   "source": [
    "## 6b - Prior\n",
    "\n",
    "For your free parameter, specify a prior distribution over the grid you created in 6a. A prior distribution tells us how plausible do you think each possible value of the parameter is before we consider the evidence. Provide an argument for your choice of prior distribution. (three points)"
   ]
  },
  {
   "cell_type": "markdown",
   "id": "82241fc0",
   "metadata": {},
   "source": [
    "## 6c - Update\n",
    "\n",
    "Finally, let's get a posterior distribution for your parameter. Use Bayes theorem to update your prior distribution in response to the evidence. You should use the simulation technique to approximate the likelihoods. Include a line graph of your new posterior distribution. (three points)"
   ]
  },
  {
   "cell_type": "markdown",
   "id": "cd87a7a5",
   "metadata": {},
   "source": [
    "# Question 7\n",
    "\n",
    "Finally, let's reflect on the model. Do you think the assumptions you made are plausible? \n",
    "\n",
    "- If so, which assumption or feature of the model do you think other researchers might be most skeptical of? How would you defend it?\n",
    "\n",
    "- If not, which assumption are you the most skeptical of? How would you suggest future researchers change that assumption? \n",
    "\n",
    "You don't need to show code for this bit. Just writing. So feel free to describe a model that you, personally, don't know how to code, if you need to. (2 points)"
   ]
  }
 ],
 "metadata": {
  "kernelspec": {
   "display_name": "Python 3 (ipykernel)",
   "language": "python",
   "name": "python3"
  },
  "language_info": {
   "codemirror_mode": {
    "name": "ipython",
    "version": 3
   },
   "file_extension": ".py",
   "mimetype": "text/x-python",
   "name": "python",
   "nbconvert_exporter": "python",
   "pygments_lexer": "ipython3",
   "version": "3.11.3"
  },
  "toc": {
   "base_numbering": 1,
   "nav_menu": {},
   "number_sections": true,
   "sideBar": true,
   "skip_h1_title": false,
   "title_cell": "Table of Contents",
   "title_sidebar": "Contents",
   "toc_cell": false,
   "toc_position": {},
   "toc_section_display": true,
   "toc_window_display": false
  }
 },
 "nbformat": 4,
 "nbformat_minor": 5
}
