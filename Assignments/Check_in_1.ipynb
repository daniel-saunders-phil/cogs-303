{
  "cells": [
    {
      "cell_type": "markdown",
      "metadata": {
        "id": "hV_us4XVSg2O"
      },
      "source": [
        "**Turn in instructions** Do the assignment on Google Colab by making a copy of this document. You can insert code cells below each question to work your answer. Once you are finished, **adjusting the sharing permissions so \"anyone with a link can view the document\"**. Turn in the url of the Colab document to canvas so Natalie and I can review it."
      ]
    },
    {
      "cell_type": "markdown",
      "metadata": {
        "id": "ETBwnzcKjDX2"
      },
      "source": [
        "Suppose I had a list of x values:\n",
        "\n",
        "[1, 1.5, 2, 2.5, 3, 3.5, 4, 4.5, 5, 5.5, 6, 6.5, 7]\n",
        "\n",
        "and I wanted to plug these into the linear equation\n",
        "\n",
        "$$ y = 5 + 2x $$\n",
        "\n",
        "How might I do that? Write a block of Python code that accomplishes this goal. (1 point)"
      ]
    },
    {
      "cell_type": "code",
      "execution_count": null,
      "metadata": {
        "id": "PSi9LmHERfp5"
      },
      "outputs": [],
      "source": []
    },
    {
      "cell_type": "markdown",
      "metadata": {},
      "source": [
        "Now I want to plot my results. How might I do that? (1 point)"
      ]
    },
    {
      "cell_type": "code",
      "execution_count": null,
      "metadata": {},
      "outputs": [],
      "source": []
    },
    {
      "cell_type": "markdown",
      "metadata": {
        "id": "RjF2TM7Ii3ei"
      },
      "source": [
        "Rewrite your previous answer but define a function called `linear` that takes in a list of x's and returns a list of y's. (1 point)"
      ]
    },
    {
      "cell_type": "code",
      "execution_count": 2,
      "metadata": {
        "id": "m7i8pAIhkD58"
      },
      "outputs": [],
      "source": []
    },
    {
      "cell_type": "markdown",
      "metadata": {
        "id": "zjxtZNgNkCzj"
      },
      "source": [
        "Use the `numpy` library, a `for` loop, and a range to generate 10 random numbers between 0 and 1. (1 point)"
      ]
    },
    {
      "cell_type": "code",
      "execution_count": null,
      "metadata": {},
      "outputs": [],
      "source": []
    }
  ],
  "metadata": {
    "colab": {
      "provenance": []
    },
    "kernelspec": {
      "display_name": "Python 3 (ipykernel)",
      "language": "python",
      "name": "python3"
    },
    "language_info": {
      "codemirror_mode": {
        "name": "ipython",
        "version": 3
      },
      "file_extension": ".py",
      "mimetype": "text/x-python",
      "name": "python",
      "nbconvert_exporter": "python",
      "pygments_lexer": "ipython3",
      "version": "3.9.15"
    }
  },
  "nbformat": 4,
  "nbformat_minor": 0
}
