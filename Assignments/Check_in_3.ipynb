{
  "cells": [
    {
      "cell_type": "markdown",
      "id": "3f7ec765",
      "metadata": {
        "id": "3f7ec765"
      },
      "source": [
        "**Turn in instructions** Do the assignment on Google Colab by making a copy of this document. You can insert code cells below each question to work your answer. Once you are finished, *adjusting the sharing permissions so \"anyone with a link can view the document\"*. Turn in the url of the Colab document to canvas so Natlie and I can review it.\n",
        "\n",
        "(Some students have been having trouble with colab version control and sharing permissions. So if you want to upload a static document instead of a link, download this file as an `.ipynb` file and upload that to Canvas. Either type of submission is fine.)"
      ]
    },
    {
      "cell_type": "markdown",
      "id": "ec1957fb",
      "metadata": {
        "id": "ec1957fb"
      },
      "source": [
        "# Question 1\n",
        "\n",
        "For the final weekly assignment, we'll focus on debugging. Below is some code that contains a mistake. Run it, identify the mistake and put the corrected code in the cell below. Your answer should run without throwing an error and should preserve the intention of the original code. (1 point)"
      ]
    },
    {
      "cell_type": "code",
      "execution_count": null,
      "id": "aed620fa",
      "metadata": {
        "id": "aed620fa",
        "outputId": "1f1ed98e-1459-49bc-e38e-05874e2945e9"
      },
      "outputs": [
        {
          "ename": "SyntaxError",
          "evalue": "invalid syntax (3485947632.py, line 17)",
          "output_type": "error",
          "traceback": [
            "\u001b[1;36m  File \u001b[1;32m\"C:\\Users\\dsaun\\AppData\\Local\\Temp\\ipykernel_13112\\3485947632.py\"\u001b[1;36m, line \u001b[1;32m17\u001b[0m\n\u001b[1;33m    if cup = False:\u001b[0m\n\u001b[1;37m           ^\u001b[0m\n\u001b[1;31mSyntaxError\u001b[0m\u001b[1;31m:\u001b[0m invalid syntax\n"
          ]
        }
      ],
      "source": [
        "import numpy as np\n",
        "\n",
        "def gamblers_coin():\n",
        "    '''Returns a list of True/False where True represents heads\n",
        "    and False represents tails. Flips a coin which starts with\n",
        "    a 0.5 probability of heads. Everytime the coin is tails, the probability\n",
        "    of heads increases on the next flip.'''\n",
        "\n",
        "    trial = []\n",
        "\n",
        "    a = 0.5\n",
        "\n",
        "    for i in range(10):\n",
        "\n",
        "        cup = np.random.random() < a\n",
        "\n",
        "        if cup = False:\n",
        "            a = a + 0.1\n",
        "\n",
        "        trial.append(cup)\n",
        "\n",
        "    return trial\n",
        "\n",
        "gamblers_coin()"
      ]
    },
    {
      "cell_type": "code",
      "execution_count": null,
      "id": "c0a197ee",
      "metadata": {
        "id": "c0a197ee"
      },
      "outputs": [],
      "source": [
        "# correct code here"
      ]
    },
    {
      "cell_type": "markdown",
      "id": "de5fd4d7",
      "metadata": {
        "id": "de5fd4d7"
      },
      "source": [
        "# Question 2\n",
        "\n",
        "The intention of this next bit of code is to compute the probability of getting 8 success out of 12 attempts, assuming a binomial distribution where the probability of success is 0.5. However the code returns a object known as as `nan` which is numpy's way of saying it is an invalid expression. The correct answer to this problem is close to 0.121. Correct the code to yield the right answer. (1 point)"
      ]
    },
    {
      "cell_type": "code",
      "execution_count": null,
      "id": "27fa09d2",
      "metadata": {
        "id": "27fa09d2",
        "outputId": "6735a0be-435a-46d7-c00e-c4dc55a72ab7"
      },
      "outputs": [
        {
          "data": {
            "text/plain": [
              "nan"
            ]
          },
          "execution_count": 24,
          "metadata": {},
          "output_type": "execute_result"
        }
      ],
      "source": [
        "from scipy import stats\n",
        "\n",
        "stats.binom(0.5,12).pmf(8)"
      ]
    },
    {
      "cell_type": "code",
      "execution_count": null,
      "id": "3169e1aa",
      "metadata": {
        "id": "3169e1aa"
      },
      "outputs": [],
      "source": [
        "## correct code here"
      ]
    },
    {
      "cell_type": "markdown",
      "id": "98ba0401",
      "metadata": {
        "id": "98ba0401"
      },
      "source": [
        "# Question 3\n",
        "\n",
        "The intention of the next bit of code is to multiply each number in the `x` list by each number in the `y` list so we've found the product of every unique combination of numbers between the two lists. However, our student has noticed that the resulting list is only 10 entries long. That seems incorrect - the resulting list should be 100 entries long because 10 x 10 = 100. They've already started the debugging process by adding a print statement but are unsure why this is happening. Post the corrected code in the next cell. (1 point)"
      ]
    },
    {
      "cell_type": "code",
      "execution_count": null,
      "id": "b4b8586c",
      "metadata": {
        "id": "b4b8586c",
        "outputId": "74e8cbc5-6145-4e25-8c29-62addd6f0dbd"
      },
      "outputs": [
        {
          "name": "stdout",
          "output_type": "stream",
          "text": [
            "False\n"
          ]
        },
        {
          "data": {
            "text/plain": [
              "[0.303390683613982,\n",
              " 0.013192157894812692,\n",
              " 0.13053821526039064,\n",
              " 0.4089751487562825,\n",
              " 0.15663195105797995,\n",
              " 0.5036835480875573,\n",
              " 0.2945217506859934,\n",
              " 0.054588554847102316,\n",
              " 0.2769225164498385,\n",
              " 0.35672114918610637]"
            ]
          },
          "execution_count": 28,
          "metadata": {},
          "output_type": "execute_result"
        }
      ],
      "source": [
        "y = np.random.random(10)\n",
        "x = np.random.random(10)\n",
        "\n",
        "def combinations(x,y):\n",
        "    '''Returns a list containing the product of\n",
        "    every combination of the entries in x and y'''\n",
        "\n",
        "    results = []\n",
        "\n",
        "    for i in y:\n",
        "\n",
        "        for j in x:\n",
        "            result = i*j\n",
        "\n",
        "        results.append(result)\n",
        "\n",
        "    print(len(results) == 100)\n",
        "\n",
        "    return results\n",
        "\n",
        "combinations(x,y)"
      ]
    },
    {
      "cell_type": "code",
      "execution_count": null,
      "id": "c4e199d0",
      "metadata": {
        "id": "c4e199d0"
      },
      "outputs": [],
      "source": [
        "## answer here"
      ]
    }
  ],
  "metadata": {
    "colab": {
      "provenance": []
    },
    "kernelspec": {
      "display_name": "Python 3 (ipykernel)",
      "language": "python",
      "name": "python3"
    },
    "language_info": {
      "codemirror_mode": {
        "name": "ipython",
        "version": 3
      },
      "file_extension": ".py",
      "mimetype": "text/x-python",
      "name": "python",
      "nbconvert_exporter": "python",
      "pygments_lexer": "ipython3",
      "version": "3.9.15"
    }
  },
  "nbformat": 4,
  "nbformat_minor": 5
}
