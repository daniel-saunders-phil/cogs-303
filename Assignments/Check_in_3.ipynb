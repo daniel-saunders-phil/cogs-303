{
 "cells": [
  {
   "cell_type": "markdown",
   "id": "3f7ec765",
   "metadata": {},
   "source": [
    "**Turn in instructions** Do the assignment on Google Colab by making a copy of this document. You can insert code cells below each question to work your answer. Once you are finished, *adjusting the sharing permissions so \"anyone with a link can view the document\"*. Turn in the url of the Colab document to canvas so Akshay and I can review it. \n",
    "\n",
    "(Some students have been having trouble with colab version control and sharing permissions. So if you want to upload a static document instead of a link, download this file as an `.ipynb` file and upload that to Canvas. Either type of submission is fine.)"
   ]
  },
  {
   "cell_type": "markdown",
   "id": "1c575dae",
   "metadata": {},
   "source": [
    "# Question 1\n",
    "\n",
    "Last weekly assignment, we imagined we have 10 people who have all been given 8 cups of tea. Like Lady Bristol, they have to guess whether the cup was prepared milk-first or tea-first. Sample 10 numbers from a binomial distribution where n=8 and p=0.5 using the `scipy.stats` package. The output should be a list or array. In other words, simulate 10 people tasting tea using the assumptions that each has no special ability for discernment. (1 point)"
   ]
  },
  {
   "cell_type": "code",
   "execution_count": 1,
   "id": "a4ff70e9",
   "metadata": {},
   "outputs": [],
   "source": [
    "# answer here"
   ]
  },
  {
   "cell_type": "markdown",
   "id": "7b2d17fe",
   "metadata": {},
   "source": [
    "# Question 2\n",
    "\n",
    "Take your answer from 1 and plot a bar chart showing how many cups each person got correct. (1 point)"
   ]
  },
  {
   "cell_type": "code",
   "execution_count": 2,
   "id": "b7b9104c",
   "metadata": {},
   "outputs": [],
   "source": [
    "# answer here"
   ]
  },
  {
   "cell_type": "markdown",
   "id": "98ba0401",
   "metadata": {},
   "source": [
    "# Question 3\n",
    "\n",
    "The intention of the next bit of code is to multiply each number in the `x` list by each number in the `y` list so we've found the product of every unique combination of numbers between the two lists. However, our student has noticed that the resulting list is only 10 entries long. That seems incorrect - the resulting list should be 100 entries long because 10 x 10 = 100. They've already started the debugging process by adding a print statement but are unsure why this is happening. Post the corrected code in the next cell. (1 point)"
   ]
  },
  {
   "cell_type": "code",
   "execution_count": 4,
   "id": "b4b8586c",
   "metadata": {},
   "outputs": [
    {
     "name": "stdout",
     "output_type": "stream",
     "text": [
      "False\n"
     ]
    },
    {
     "data": {
      "text/plain": [
       "[0.19219868797966205,\n",
       " 0.08193588324157419,\n",
       " 0.10672324267579053,\n",
       " 0.030611004464867836,\n",
       " 0.23759447379654344,\n",
       " 0.15354445994900875,\n",
       " 0.14306541997629285,\n",
       " 0.037088515543535025,\n",
       " 0.14654983840646668,\n",
       " 0.11095638914788876]"
      ]
     },
     "execution_count": 4,
     "metadata": {},
     "output_type": "execute_result"
    }
   ],
   "source": [
    "import numpy as np\n",
    "\n",
    "y = np.random.random(10)\n",
    "x = np.random.random(10)\n",
    "\n",
    "def combinations(x,y):\n",
    "    '''Returns a list containing the product of \n",
    "    every combination of the entries in x and y'''\n",
    "\n",
    "    results = []\n",
    "\n",
    "    for i in y:\n",
    "\n",
    "        for j in x:\n",
    "            result = i*j\n",
    "\n",
    "        results.append(result)\n",
    "\n",
    "    print(len(results) == 100)\n",
    "    \n",
    "    return results\n",
    "\n",
    "combinations(x,y)"
   ]
  },
  {
   "cell_type": "code",
   "execution_count": null,
   "id": "c4e199d0",
   "metadata": {},
   "outputs": [],
   "source": [
    "## answer here"
   ]
  }
 ],
 "metadata": {
  "kernelspec": {
   "display_name": "Python 3 (ipykernel)",
   "language": "python",
   "name": "python3"
  },
  "language_info": {
   "codemirror_mode": {
    "name": "ipython",
    "version": 3
   },
   "file_extension": ".py",
   "mimetype": "text/x-python",
   "name": "python",
   "nbconvert_exporter": "python",
   "pygments_lexer": "ipython3",
   "version": "3.11.3"
  }
 },
 "nbformat": 4,
 "nbformat_minor": 5
}
