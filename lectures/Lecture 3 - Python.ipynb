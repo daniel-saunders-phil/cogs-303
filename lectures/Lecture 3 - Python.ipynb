{
 "cells": [
  {
   "cell_type": "markdown",
   "metadata": {
    "id": "n6ZsHZZ9rK7v"
   },
   "source": [
    "# Introduction\n",
    "\n",
    "20 years ago, you could be a psychologist and never write a single bit of code. Today, that's no longer true. All research is, in part, computational now. The cogs program is nice because it recognizes this fact very explicitly. Most students at this point have either already taken an intro coding class or are taking one right now. One difficulty with the cogs program is the disparity in coding skills between students. For computer science students, you might find this lesson pretty boring. Unfortunately, this lecture isn't really meant for you. Things will get a lot more interesting in the next couple of weeks. For other students, I hope this one is at just the pace you need.\n",
    "\n",
    "We'll be learning Python. Python is great because it is the most widely used language in data science industries. It's easier to learn than many other languages. We'll use Python and google colab throughout the entire semester\n",
    "\n",
    "If it has been awhile since you've learned any coding there are a couple of things to remember:\n",
    "\n",
    "- It won't make sense all at once. Coding is really demanding on your working memory. There are a ton of rules to keep track of, functions that you need to remember what they do and variables names that hide information. Taking two or more passes at the same material can do wonders if you feel your brain getting tired during class today.\n",
    "\n",
    "- Write the code down as we go. Merely retyping the code someone else wrote can do wonders for your understanding. When you make a typo and you're cell doesn't run, you immediately learn why the code needs to be structured the way it is. I know you can download all the code from Canvas after class, but try to keep yourself active during the lecture.\n",
    "\n",
    "- Errors messages are your friend, not your enemy. Sometimes people thing that receiving an error message means they did something bad or they are bad programming. That is simply not true. Errors are just as important to learning as the satisfaction of doing it right the first time.\n",
    "\n",
    "- Tinker. If at any point, you find yourself wondering 'what would happen if I did *this*' please try that out. You can detach from the group lecture for a bit and try things out. You have plenty of tools to learn whatever you missed if you tune out part of the lecture."
   ]
  },
  {
   "cell_type": "markdown",
   "metadata": {},
   "source": [
    "# Reviewing Downey\n",
    "\n",
    "The Downey reading introduced two concepts we'll need a lot: variables and libraries. Let's make sure we all extracted the important bits from the reading. He has an equation for compounding interest.\n",
    "\n",
    "$$V = P(1 + \\frac{r}{n})^{nt}$$\n",
    "\n",
    "Where $P$ is the starting amount in your bank, $r$ is the yearly interest rate, $t$ is the number of years it is in the bank, and $n$ is compounding frequency. He also gives us these three four variables."
   ]
  },
  {
   "cell_type": "code",
   "execution_count": 1,
   "metadata": {},
   "outputs": [],
   "source": [
    "P = 2100\n",
    "r = 0.034\n",
    "n = 4\n",
    "t = 7"
   ]
  },
  {
   "cell_type": "markdown",
   "metadata": {},
   "source": [
    "Finally, he translates the formula into a Python expression:"
   ]
  },
  {
   "cell_type": "code",
   "execution_count": 2,
   "metadata": {},
   "outputs": [
    {
     "data": {
      "text/plain": [
       "2661.6108980682593"
      ]
     },
     "execution_count": 2,
     "metadata": {},
     "output_type": "execute_result"
    }
   ],
   "source": [
    "P * (1 + r/n)**(n*t)"
   ]
  },
  {
   "cell_type": "markdown",
   "metadata": {},
   "source": [
    "I have two questions for you: \n",
    "\n",
    "- First, what if you get paid your interest only twice a year? In other words, modify this example so n = 2 and recalculate."
   ]
  },
  {
   "cell_type": "code",
   "execution_count": null,
   "metadata": {},
   "outputs": [],
   "source": [
    "## Some space for you to work"
   ]
  },
  {
   "cell_type": "code",
   "execution_count": null,
   "metadata": {},
   "outputs": [],
   "source": [
    "## and a second space if you want it"
   ]
  },
  {
   "cell_type": "markdown",
   "metadata": {},
   "source": [
    "- The second question has a bit of a preface. There is another interest formula for continuously compounding interest.\n",
    "\n",
    "$ V = Pe^{rt} $\n",
    "\n",
    "Where `e` is Euler's number, a special irrational number like $\\pi$. Basic python doesn't know about special irrational numbers. So we need libraries (also called packages) to access them. Here is how we do that."
   ]
  },
  {
   "cell_type": "code",
   "execution_count": 3,
   "metadata": {},
   "outputs": [
    {
     "data": {
      "text/plain": [
       "2.718281828459045"
      ]
     },
     "execution_count": 3,
     "metadata": {},
     "output_type": "execute_result"
    }
   ],
   "source": [
    "import numpy as np\n",
    "\n",
    "np.e"
   ]
  },
  {
   "cell_type": "markdown",
   "metadata": {},
   "source": [
    "Implement the continuously compounding interest rate formula and evaluate it."
   ]
  },
  {
   "cell_type": "code",
   "execution_count": null,
   "metadata": {},
   "outputs": [],
   "source": [
    "## implement it here"
   ]
  },
  {
   "cell_type": "markdown",
   "metadata": {},
   "source": [
    "## Handling error messages\n",
    "\n",
    "***\n",
    "\n",
    "Wait. Attempt the problem above before looking at this.\n",
    "\n",
    "***\n",
    "\n",
    "The first time I wrote my solution, I wrote `p * np.e ** (r * t)`. If you try to run this, you get an error message that claims `NameError: name 'p' is not defined`"
   ]
  },
  {
   "cell_type": "code",
   "execution_count": 6,
   "metadata": {},
   "outputs": [
    {
     "ename": "NameError",
     "evalue": "name 'p' is not defined",
     "output_type": "error",
     "traceback": [
      "\u001b[1;31m---------------------------------------------------------------------------\u001b[0m",
      "\u001b[1;31mNameError\u001b[0m                                 Traceback (most recent call last)",
      "\u001b[1;32m~\\AppData\\Local\\Temp\\ipykernel_7156\\2668763304.py\u001b[0m in \u001b[0;36m<module>\u001b[1;34m\u001b[0m\n\u001b[1;32m----> 1\u001b[1;33m \u001b[0mp\u001b[0m \u001b[1;33m*\u001b[0m \u001b[0mnp\u001b[0m\u001b[1;33m.\u001b[0m\u001b[0me\u001b[0m \u001b[1;33m**\u001b[0m \u001b[1;33m(\u001b[0m\u001b[0mr\u001b[0m \u001b[1;33m*\u001b[0m \u001b[0mt\u001b[0m\u001b[1;33m)\u001b[0m\u001b[1;33m\u001b[0m\u001b[1;33m\u001b[0m\u001b[0m\n\u001b[0m",
      "\u001b[1;31mNameError\u001b[0m: name 'p' is not defined"
     ]
    }
   ],
   "source": [
    "p * np.e ** (r * t)"
   ]
  },
  {
   "cell_type": "markdown",
   "metadata": {},
   "source": [
    "This means that, at no prior place in our code, did we define what `p` was. You must define your variables first before Python will allow operations on them. In our case, it's a capitalization problem. We used uppercase `P` as our varible above, instead of lower case `p`. \n",
    "\n",
    "The lesson here: when you see a NameError message, first check if you defined that variable above. If you think you did, pay super close attention to spelling and capitalization."
   ]
  },
  {
   "cell_type": "markdown",
   "metadata": {
    "id": "n6ZsHZZ9rK7v"
   },
   "source": [
    "# Lists\n",
    "\n",
    "Now it is time for new material. Here is what a list looks like."
   ]
  },
  {
   "cell_type": "code",
   "execution_count": null,
   "metadata": {
    "id": "bar7qgwruoP7"
   },
   "outputs": [],
   "source": [
    "a = [5,6,7,8]\n",
    "a"
   ]
  },
  {
   "cell_type": "markdown",
   "metadata": {
    "id": "IYuaCJiowYYP"
   },
   "source": [
    "What's special about lists is that python keeps track of the order items go into the list. And we can use the ordering to pull entries out. The position of each item is called an index. The index of the first item is 0. Annoying, I know but that's how it goes. Respectable computer scientists count up from zero. We stick square brackets next to a list with an index number to pull out the entry."
   ]
  },
  {
   "cell_type": "code",
   "execution_count": null,
   "metadata": {
    "id": "AP1BxZODw970"
   },
   "outputs": [],
   "source": [
    "a[0]"
   ]
  },
  {
   "cell_type": "code",
   "execution_count": null,
   "metadata": {
    "id": "_9vWfySBxA-b"
   },
   "outputs": [],
   "source": [
    "a[3]"
   ]
  },
  {
   "cell_type": "code",
   "execution_count": null,
   "metadata": {
    "id": "0aQ5R2HpxCxn"
   },
   "outputs": [],
   "source": [
    "a[2]"
   ]
  },
  {
   "cell_type": "markdown",
   "metadata": {
    "id": "mwHzq4LdxJTx"
   },
   "source": [
    "Python knows to turn the indexed listed into regular numbers before it runs arithmetic on them. So you can write commands where it all happens together."
   ]
  },
  {
   "cell_type": "code",
   "execution_count": null,
   "metadata": {
    "id": "-OGv2bFfxHpa"
   },
   "outputs": [],
   "source": [
    "# 8 - 5 = 3\n",
    "\n",
    "a[3] - a[0]"
   ]
  },
  {
   "cell_type": "markdown",
   "metadata": {
    "id": "jeNIkX4gxibg"
   },
   "source": [
    "Be careful using arithemtic symbols near lists. They don't always do what you expect. The plus sign combines two lists."
   ]
  },
  {
   "cell_type": "code",
   "execution_count": null,
   "metadata": {
    "id": "okg7BaWAxhlD"
   },
   "outputs": [],
   "source": [
    "a = [6,5,4]\n",
    "b = [5,6,7]\n",
    "\n",
    "a + b"
   ]
  },
  {
   "cell_type": "code",
   "execution_count": null,
   "metadata": {
    "id": "KcBasb6J2RVK"
   },
   "outputs": [],
   "source": [
    "[1,2] + [3]"
   ]
  },
  {
   "cell_type": "markdown",
   "metadata": {
    "id": "g9lOe8hwyKyJ"
   },
   "source": [
    "While multipling a list will expand it."
   ]
  },
  {
   "cell_type": "code",
   "execution_count": null,
   "metadata": {
    "id": "OP9d40kkyZJc"
   },
   "outputs": [],
   "source": [
    "a = [5,5]\n",
    "\n",
    "a * 4"
   ]
  },
  {
   "cell_type": "code",
   "execution_count": null,
   "metadata": {
    "id": "jhnThEHFydRH"
   },
   "outputs": [],
   "source": [
    "a = [6,7,8,9]\n",
    "\n",
    "a * 3"
   ]
  },
  {
   "cell_type": "markdown",
   "metadata": {
    "id": "kNvbWp1ivkf5"
   },
   "source": [
    "## Two primatives\n",
    "\n",
    "Two primative commands are very helpful with lists. `len()` will find out how long the list is. Here's a few examples:"
   ]
  },
  {
   "cell_type": "code",
   "execution_count": null,
   "metadata": {
    "id": "Z_tYcfFNvdwy"
   },
   "outputs": [],
   "source": [
    "len([1,2,3,4,5])"
   ]
  },
  {
   "cell_type": "code",
   "execution_count": null,
   "metadata": {
    "id": "gVAXP1sMvrn8"
   },
   "outputs": [],
   "source": [
    "len([])"
   ]
  },
  {
   "cell_type": "code",
   "execution_count": null,
   "metadata": {
    "id": "MwvheAzqvtDR"
   },
   "outputs": [],
   "source": [
    "len([3,3,3,3])"
   ]
  },
  {
   "cell_type": "markdown",
   "metadata": {
    "id": "vU0i1wTxv58M"
   },
   "source": [
    "Meanwhile, `sum` will add all the entires in the list"
   ]
  },
  {
   "cell_type": "code",
   "execution_count": null,
   "metadata": {
    "id": "9RsL6uXCvhQV"
   },
   "outputs": [],
   "source": [
    "sum([1,2,3,4,5])"
   ]
  },
  {
   "cell_type": "code",
   "execution_count": null,
   "metadata": {
    "id": "TFS4tWng2HZ3"
   },
   "outputs": [],
   "source": [
    "sum([])"
   ]
  },
  {
   "cell_type": "code",
   "execution_count": null,
   "metadata": {
    "id": "wyN8FzeP2It6"
   },
   "outputs": [],
   "source": [
    "sum([3,3,3,3])"
   ]
  },
  {
   "cell_type": "markdown",
   "metadata": {
    "id": "3yB2CWYJdSx7"
   },
   "source": [
    "Notice that `len()` and `sum()` both have parentheses. They are both *functions*. You tell the function which things you are trying to assess the length of by wrapping them in parentheses.\n",
    "\n",
    "Together, len() and sum() can find the average value of a list. See if you can figure out how. Find the average of this list.\n",
    "\n",
    "`[20,40,60,50]`"
   ]
  },
  {
   "cell_type": "markdown",
   "metadata": {
    "id": "onpR6oRMezON"
   },
   "source": [
    "### hide answer\n",
    "\n",
    "Don't peak until you've tried it.\n",
    "\n",
    "*** \n",
    "\n",
    "I formatted this cell so it is hidden. If you peak at the answer before trying it yourself, you're doing a bad thing. "
   ]
  },
  {
   "cell_type": "code",
   "execution_count": null,
   "metadata": {
    "id": "4h2jlZTBe4CF"
   },
   "outputs": [],
   "source": [
    "sum([20,40,60,40]) / len([20,40,60,40])"
   ]
  },
  {
   "cell_type": "markdown",
   "metadata": {},
   "source": [
    "## Handling errors with lists\n",
    "\n",
    "Suppose we wrote this:"
   ]
  },
  {
   "cell_type": "code",
   "execution_count": null,
   "metadata": {},
   "outputs": [],
   "source": [
    "len(1,2,3,4,5)"
   ]
  },
  {
   "cell_type": "markdown",
   "metadata": {},
   "source": [
    "\"argument\" in Python is a technical term. It refers to how many distinct objects you can give to a function. The arguments are seperated by commas. So this function is given 5 distinct arguments, all seperated by commas. `len()` isn't prepared for 5 arguments. It wants only one thing: one list. So once we wrap our numbers in square brackets, we get have a single object.\n",
    "\n",
    "One helpful lesson here: square brackets for lists, parentheses for functions. "
   ]
  },
  {
   "cell_type": "markdown",
   "metadata": {},
   "source": [
    "# Defining your own functions\n",
    "\n",
    "Reading Python code can be mentally draining. It's a strange, foreign language where you have to slowly parse through its sentences and symbols. The mentally draining part doesn't go away even when you become experienced, either. I still find myself constantly overwhelmed by long opaque blocks of code.\n",
    "\n",
    "One strategy for managing the mental strain is to chunk. If you have five operations that always go together to accomplish a task, maybe group them together and give them a simple name. This way, you can just remember what the simple name is and what it does, rather than remembering what all 5 operations every time you need to do that task. We can chunk operations by defining our own functions.\n",
    "\n",
    "The averaging procedure had two things going on, `len()` and `sum()`. But we want to chunk our averaging operation so there is only one thing to remember."
   ]
  },
  {
   "cell_type": "code",
   "execution_count": null,
   "metadata": {},
   "outputs": [],
   "source": [
    "def average(a):\n",
    "    \n",
    "    output = sum(a) / len(a)\n",
    "    \n",
    "    return output"
   ]
  },
  {
   "cell_type": "markdown",
   "metadata": {},
   "source": [
    "Notice a few things. First, the indentation. Indenting indicates that these lines define the function. When you are done writing the function, simply stop indenting. "
   ]
  },
  {
   "cell_type": "code",
   "execution_count": null,
   "metadata": {},
   "outputs": [],
   "source": [
    "def average(a):\n",
    "    \n",
    "    # the function's definition\n",
    "    \n",
    "    output = sum(a) / len(a)\n",
    "    \n",
    "    return output\n",
    "\n",
    "# everything else\n",
    "\n",
    "average([20,40,60,40])"
   ]
  },
  {
   "cell_type": "markdown",
   "metadata": {},
   "source": [
    "Second, notice that we do not use a specific list in the function definition. Instead, we use a variable `a`. So any list we hand over to `average()` will be temporarily renamed `a`.\n",
    "\n",
    "Third, notice the `return` line. This indicates what the output of the function will be. `return` usually goes last in a function. \n",
    "\n",
    "To practice these skills, write a function called `bank` that applies one of the interest rate formulas from Downey. It should consume either three or four arguments and return the amount of money in your bank account after a period of interest. You can use either formula (continuously compounding or the regular compounding interest rate)."
   ]
  },
  {
   "cell_type": "code",
   "execution_count": null,
   "metadata": {},
   "outputs": [],
   "source": [
    "## write it here"
   ]
  },
  {
   "cell_type": "markdown",
   "metadata": {},
   "source": [
    "## Sample answers"
   ]
  },
  {
   "cell_type": "code",
   "execution_count": 27,
   "metadata": {},
   "outputs": [
    {
     "data": {
      "text/plain": [
       "2661.6108980682593"
      ]
     },
     "execution_count": 27,
     "metadata": {},
     "output_type": "execute_result"
    }
   ],
   "source": [
    "def bank(P,r,n,t):\n",
    "    \n",
    "    output = P * (1 + r/n)**(n*t)\n",
    "    \n",
    "    return output\n",
    "\n",
    "bank(P,r,n,t)"
   ]
  },
  {
   "cell_type": "code",
   "execution_count": 29,
   "metadata": {},
   "outputs": [
    {
     "data": {
      "text/plain": [
       "2664.2893049323125"
      ]
     },
     "execution_count": 29,
     "metadata": {},
     "output_type": "execute_result"
    }
   ],
   "source": [
    "def bank(P,r,t):\n",
    "    \n",
    "    import numpy as np\n",
    "    \n",
    "    output = P * np.e ** (r*t)\n",
    "    \n",
    "    return output\n",
    "\n",
    "bank(P,r,t)"
   ]
  },
  {
   "cell_type": "markdown",
   "metadata": {
    "id": "3UPERYJy3gSG"
   },
   "source": [
    "# For loops\n",
    "\n",
    "Most of the problems you'll solve will involve going through each item in a list and using it in some way. Python has a couple of techniques to do this. To keep things simple, we'll only use `for` loops.\n",
    "\n"
   ]
  },
  {
   "cell_type": "code",
   "execution_count": null,
   "metadata": {
    "id": "-E6mujCF4k33"
   },
   "outputs": [],
   "source": [
    "# here's what for statements look like. \n",
    "# Notice the colon.\n",
    "# Notice the indention\n",
    "# `for` comes first, then the name of a local variable, then 'in', then the name of our list\n",
    "\n",
    "a = [1,2,3,4]\n",
    "\n",
    "for item in a:\n",
    "    print(item)"
   ]
  },
  {
   "cell_type": "code",
   "execution_count": null,
   "metadata": {
    "id": "bH6_4HqX44gf"
   },
   "outputs": [],
   "source": [
    "# the word 'item' is arbitrary. It's a local variable that we'll refer \n",
    "# to in the process of running the loop. So we can use silly names\n",
    "# and get the same effect.\n",
    "\n",
    "for big_bird in a:\n",
    "    print(big_bird)"
   ]
  },
  {
   "cell_type": "code",
   "execution_count": null,
   "metadata": {
    "id": "ugH7W_Pn46ob"
   },
   "outputs": [],
   "source": [
    "# we also don't have to use a variable name for the list. \n",
    "# We can just stick the list there.\n",
    "# I've also replaced big_bird with i. Using i the conventional\n",
    "# name for the item during for loops.\n",
    "\n",
    "for i in [1,2,3,4]:\n",
    "    print(i)"
   ]
  },
  {
   "cell_type": "code",
   "execution_count": null,
   "metadata": {
    "id": "tusTsNat48eU"
   },
   "outputs": [],
   "source": [
    "# usually we want to perform an operation on each item in a list.\n",
    "\n",
    "for i in [3,6,9]:\n",
    "    output = i / 3\n",
    "    print(output)"
   ]
  },
  {
   "cell_type": "markdown",
   "metadata": {
    "id": "98tLqdSu5HQQ"
   },
   "source": [
    "## Simulating functions\n",
    "\n",
    "Suppose we have a list of x values and we want to find the corresponding y values, given a function:\n",
    "\n",
    "$$ y = 5 + 2x $$\n",
    "\n",
    "If these are the x values \n",
    "\n",
    "`[1,3,3,5,7,10]`\n",
    "\n",
    "then print out the y values."
   ]
  },
  {
   "cell_type": "code",
   "execution_count": null,
   "metadata": {
    "id": "MnbKaaZI5aT_"
   },
   "outputs": [],
   "source": [
    "# a cell for your answer.\n",
    "\n"
   ]
  },
  {
   "cell_type": "markdown",
   "metadata": {
    "id": "80nkjR6i5h6c"
   },
   "source": [
    "### Hide answer"
   ]
  },
  {
   "cell_type": "code",
   "execution_count": null,
   "metadata": {
    "id": "lNu9nQCT5ebw"
   },
   "outputs": [],
   "source": [
    "x = [1,3,3,5,7,10]\n",
    "\n",
    "for i in x:\n",
    "    y = 5 + 2*i\n",
    "    print(y)"
   ]
  },
  {
   "cell_type": "markdown",
   "metadata": {
    "id": "rcoofQU86JDi"
   },
   "source": [
    "## Building new lists out of old lists\n",
    "\n",
    "When working with lists, we usually want to transform the same list many times. The above approach can't help us here because it just prints out the answers. We need to save our answers to a new list. We'll learn two techniques to accomplish this. Each technique is more convenient in difference situations."
   ]
  },
  {
   "cell_type": "markdown",
   "metadata": {
    "id": "DBTDyK-y7Tif"
   },
   "source": [
    "### Appending\n",
    "\n",
    "The usual technique has us create a blank list first. As we transform the values in the first list, we'll move them into the blank list. `.append()` will get the job done."
   ]
  },
  {
   "cell_type": "code",
   "execution_count": null,
   "metadata": {
    "id": "x9pRvuAw7X83"
   },
   "outputs": [],
   "source": [
    "xs = [1,3,3,5,7,10]\n",
    "ys = []\n",
    "\n",
    "for i in xs:\n",
    "    y = 5 + 2*i\n",
    "    ys.append(y)\n",
    "    \n",
    "ys"
   ]
  },
  {
   "cell_type": "markdown",
   "metadata": {
    "id": "Pe3lREKn-VOg"
   },
   "source": [
    "Notice the odd syntax on `ys.append()`. The little dot notation indicates we are using a special part of Python called a method. Methods and functions are similar but have slightly different syntax. Function spit out values. We need to store them somewhere so we usually use `=` to save their value. Methods are attached to complex objects like lists. They automatically save changes to the underlying list object. So there is no need for '='.\n",
    "\n",
    "If the distinction isn't super clear, do not worry about it. You'll develop an intuition for methods and functions are you work.\n",
    "\n",
    "### List comprehension\n",
    "\n",
    "List comprehension is a really compact way getting the same job done."
   ]
  },
  {
   "cell_type": "code",
   "execution_count": null,
   "metadata": {
    "id": "O-V9KE6YWFe-"
   },
   "outputs": [],
   "source": [
    "xs = [1,3,3,6,7,9,10]\n",
    "ys = [5 + 2*i for i in xs]\n",
    "\n",
    "ys"
   ]
  },
  {
   "cell_type": "markdown",
   "metadata": {
    "id": "wkpIqoXrWU4H"
   },
   "source": [
    "The trick here is that we wrap a 'for each' statement inside square brackets. This means python is automatically building a new list as it works through the entries in the old list. Or, more generally:\n",
    "\n",
    "`NEWLIST = [some_function(i) for i in OLDLIST]`"
   ]
  },
  {
   "cell_type": "markdown",
   "metadata": {},
   "source": [
    "## Defining functions\n",
    "\n",
    "Loop operations are a great place to exercise chunking. They can grow quite complicated and it would be nice if we could organize them into tidy little packages. So we could call the above operation `linear`."
   ]
  },
  {
   "cell_type": "code",
   "execution_count": null,
   "metadata": {},
   "outputs": [],
   "source": [
    "def linear(xs):\n",
    "    \n",
    "    ys = [5 + 2*i for i in xs]\n",
    "    \n",
    "    return ys"
   ]
  },
  {
   "cell_type": "markdown",
   "metadata": {},
   "source": [
    "Try writing another function called `linear2`. This one should implement the same linear equation $ y = 5 + 2x $, except use the append method instead. Verify that they lead you to the same answer."
   ]
  },
  {
   "cell_type": "code",
   "execution_count": null,
   "metadata": {},
   "outputs": [],
   "source": []
  },
  {
   "cell_type": "markdown",
   "metadata": {
    "id": "wkpIqoXrWU4H"
   },
   "source": [
    "# Plotting\n",
    "\n",
    "What we want most in life is beauty. A package called `matplotlib` provides that beauty."
   ]
  },
  {
   "cell_type": "code",
   "execution_count": null,
   "metadata": {
    "id": "jCbjfKqCWTwF"
   },
   "outputs": [],
   "source": [
    "import matplotlib.pyplot"
   ]
  },
  {
   "cell_type": "markdown",
   "metadata": {
    "id": "qwGpzvu8Xp4D"
   },
   "source": [
    "Now we can plot some points."
   ]
  },
  {
   "cell_type": "code",
   "execution_count": null,
   "metadata": {
    "id": "CiTodLDtYNGA"
   },
   "outputs": [],
   "source": [
    "matplotlib.pyplot.plot([0,1,2,3,4,6,8,10])"
   ]
  },
  {
   "cell_type": "markdown",
   "metadata": {
    "id": "wQjMctLwYZTP"
   },
   "source": [
    "Notice the weird dot syntax again. Plotting is a method attached to the complex object `matplotlib`. `matplotlib` has a sub-object called `pyplot` which has a method `plot()`.\n",
    "\n",
    "If we stick a list of numbers into `plot()` it will treat the numbers as the y-axis and the index as the x-axis. Alternatively, if we feed `plot()` with two lists, seperated by a comma, we can control the respective x and y axes."
   ]
  },
  {
   "cell_type": "code",
   "execution_count": null,
   "metadata": {
    "id": "LLp0ATkhZPA_"
   },
   "outputs": [],
   "source": [
    "xs = [2,2.5,6,9,20]\n",
    "ys = [1,2,3,4,5]\n",
    "\n",
    "matplotlib.pyplot.plot(xs,ys)"
   ]
  },
  {
   "cell_type": "markdown",
   "metadata": {
    "id": "6f5S0GgBZhcJ"
   },
   "source": [
    "Let's combine a couple of techniques at this point to check our understanding. Let's use one of techniques for building new lists to transform this list of numbers:\n",
    "\n",
    "`[4,5,4,6,4,7]`\n",
    "\n",
    "with this function:\n",
    "\n",
    "$$ y = -1 + \\frac{1}{2}*x$$\n",
    "\n",
    "and then plot the results."
   ]
  },
  {
   "cell_type": "code",
   "execution_count": null,
   "metadata": {
    "id": "JhkyYbE8amEu"
   },
   "outputs": [],
   "source": [
    "# give it a try\n",
    "\n"
   ]
  },
  {
   "cell_type": "markdown",
   "metadata": {
    "id": "81RUZn7hangP"
   },
   "source": [
    "### hide answer"
   ]
  },
  {
   "cell_type": "code",
   "execution_count": null,
   "metadata": {
    "id": "Q4RJ_-b0aDhz"
   },
   "outputs": [],
   "source": [
    "xs = [4,5,8,10,15,25]\n",
    "ys = [-1 + 0.5*i for i in xs]\n",
    "\n",
    "matplotlib.pyplot.plot(xs,ys)"
   ]
  },
  {
   "cell_type": "markdown",
   "metadata": {
    "id": "pDBUV0MZa0SH"
   },
   "source": [
    "## Abbreviating packages\n",
    "\n",
    "Typing out `matplotlob.pyplot.plot()` all the time is a pain. You can shorten the process by using a special import command."
   ]
  },
  {
   "cell_type": "code",
   "execution_count": null,
   "metadata": {
    "id": "WbU7SlIjbEih"
   },
   "outputs": [],
   "source": [
    "import matplotlib.pyplot as plt\n",
    "\n",
    "plt.plot(xs,ys)"
   ]
  },
  {
   "cell_type": "markdown",
   "metadata": {
    "id": "TuWjv4YTbNMp"
   },
   "source": [
    "Every time you need the phrase `matplotlob.pyplot` you merely type `plt`."
   ]
  },
  {
   "cell_type": "code",
   "execution_count": null,
   "metadata": {
    "id": "d4VQsok-gc9P"
   },
   "outputs": [],
   "source": [
    "plt.plot(xs,ys)"
   ]
  },
  {
   "cell_type": "markdown",
   "metadata": {
    "id": "kpIxrgRXftnI"
   },
   "source": [
    "# Flipping coins\n",
    "\n",
    "We will finish todays notes by building a mechanism that simulates flipping coins. We'll use this simulation to transition into talking about binomial distributions next class. Let's suppose I wanted to flip 10 coins and see how many are heads. We'll build up to this mechanism slowly.\n",
    "\n",
    "## Numpy\n",
    "\n",
    "In working with probabilities, we often need a way to generate random numbers. Base python does not have a great way of making these numbers. But we can use another package called `numpy` to accomplish that. It has a sub-object called `random` which gives us a collection of methods for making random numbers. The simplest one is also called `random()`. So, confusingly, we write our code like this:"
   ]
  },
  {
   "cell_type": "code",
   "execution_count": null,
   "metadata": {
    "id": "KZzvY6Czh8om"
   },
   "outputs": [],
   "source": [
    "np.random.random()"
   ]
  },
  {
   "cell_type": "markdown",
   "metadata": {
    "id": "rL1V_Shch8om"
   },
   "source": [
    "Try repeatedly running the above cell. Notice that all the numbers fall between 0 and 1. We have a trick for simulating a random event with a specific probability. We'll set a threshold value that will classify these random numbers as successes or failures. Then we'll compare whether the randomly generated value is less than the threshold value.\n",
    "\n",
    "If we set it to 0.5, half the time we'll get success and the other half we'll get failure. So this is just like flipping a coin where the probability of heads is $\\frac{1}{2}$."
   ]
  },
  {
   "cell_type": "code",
   "execution_count": null,
   "metadata": {
    "id": "qXawKZr9h8om"
   },
   "outputs": [],
   "source": [
    "np.random.random() < 0.5"
   ]
  },
  {
   "cell_type": "markdown",
   "metadata": {
    "id": "cSVeDE4j5DrK"
   },
   "source": [
    "But if we want the probability to be bigger, we can just set a bigger threshold. Now 80% of the time we get success and the 20% of the time we get failure."
   ]
  },
  {
   "cell_type": "code",
   "execution_count": null,
   "metadata": {
    "id": "P98kluWvh8om"
   },
   "outputs": [],
   "source": [
    "np.random.random() < 0.8"
   ]
  },
  {
   "cell_type": "markdown",
   "metadata": {
    "id": "ZO8i0ksdh8on"
   },
   "source": [
    "## Ranges\n",
    "\n",
    "We often want to repeat a process multiple times. We can use a `for` loop to accomplish this in conjunction with a new kind of object called a range."
   ]
  },
  {
   "cell_type": "code",
   "execution_count": null,
   "metadata": {
    "id": "uPcXBwnVh8on"
   },
   "outputs": [],
   "source": [
    "range(10)"
   ]
  },
  {
   "cell_type": "markdown",
   "metadata": {
    "id": "aTKSAkAHh8on"
   },
   "source": [
    "A range is like list of increasing integers. It's easier to see if you convert it into a list."
   ]
  },
  {
   "cell_type": "code",
   "execution_count": null,
   "metadata": {
    "id": "ooVxyRU4h8on"
   },
   "outputs": [],
   "source": [
    "list(range(10))"
   ]
  },
  {
   "cell_type": "markdown",
   "metadata": {
    "id": "VWRz3z2yh8on"
   },
   "source": [
    "If you want to repeat a process 10 times, you can use a `for` statement that loops over a range object. Let's print the number 5 10 times."
   ]
  },
  {
   "cell_type": "code",
   "execution_count": null,
   "metadata": {
    "id": "niiq8cbJh8oo"
   },
   "outputs": [],
   "source": [
    "for i in range(10):\n",
    "    print(5)"
   ]
  },
  {
   "cell_type": "markdown",
   "metadata": {
    "id": "w-Lk4r-uh8oo"
   },
   "source": [
    "Now we are ready to flip a coin 10 times."
   ]
  },
  {
   "cell_type": "code",
   "execution_count": null,
   "metadata": {
    "id": "I5K9oZM5h8oo"
   },
   "outputs": [],
   "source": [
    "for i in range(10):\n",
    "    print(np.random.random())"
   ]
  },
  {
   "cell_type": "markdown",
   "metadata": {
    "id": "30WVT1fkh8oo"
   },
   "source": [
    "The above code does not classify flips into heads or tails. Rewrite the copy so it classifies them. In this case, we'll call heads True and tails False. Assume the coin has a 50% chance of landing on heads."
   ]
  },
  {
   "cell_type": "code",
   "execution_count": null,
   "metadata": {
    "id": "2ZWc9pOPh8oo"
   },
   "outputs": [],
   "source": [
    "# try it"
   ]
  },
  {
   "cell_type": "markdown",
   "metadata": {
    "id": "JQfruo86h8op"
   },
   "source": [
    "### Hide answer"
   ]
  },
  {
   "cell_type": "code",
   "execution_count": null,
   "metadata": {
    "id": "BLyjOk8oh8op"
   },
   "outputs": [],
   "source": [
    "for i in range(10):\n",
    "    print(np.random.random() < 0.5)"
   ]
  },
  {
   "cell_type": "markdown",
   "metadata": {
    "id": "PW-1et6bh8ot"
   },
   "source": [
    "# Wrap up\n",
    "\n",
    "I hope you found today's material manageable and well-paced. Between the Downey readings and these notes, you have all of the basic skills you need to work on stats problems in Python. So you've accomplished a lot in a couple of sittings. Coding takes practice and the cognitive load can quickly build up. So if you feel uncertain about this material, it would really benefit you to go through some or all of this material again. Reading extra chapters out of the Downey textbook is another good strategy. \n",
    "\n",
    "Next class, we'll look at our main case study for the first unit and start testing hypotheses."
   ]
  }
 ],
 "metadata": {
  "colab": {
   "collapsed_sections": [
    "onpR6oRMezON",
    "ICm4fPdj2p6M",
    "_G_wzuHZ2863",
    "3UPERYJy3gSG",
    "98tLqdSu5HQQ",
    "80nkjR6i5h6c",
    "rcoofQU86JDi",
    "DBTDyK-y7Tif",
    "Pe3lREKn-VOg",
    "81RUZn7hangP",
    "pDBUV0MZa0SH",
    "GP2zKpx9fo4P",
    "ZO8i0ksdh8on",
    "JQfruo86h8op",
    "lZTyzLG6h8op"
   ],
   "provenance": [],
   "toc_visible": true
  },
  "kernelspec": {
   "display_name": "Python 3 (ipykernel)",
   "language": "python",
   "name": "python3"
  },
  "language_info": {
   "codemirror_mode": {
    "name": "ipython",
    "version": 3
   },
   "file_extension": ".py",
   "mimetype": "text/x-python",
   "name": "python",
   "nbconvert_exporter": "python",
   "pygments_lexer": "ipython3",
   "version": "3.9.15"
  }
 },
 "nbformat": 4,
 "nbformat_minor": 1
}
