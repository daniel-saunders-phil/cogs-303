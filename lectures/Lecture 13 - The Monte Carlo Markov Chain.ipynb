{
 "cells": [
  {
   "cell_type": "markdown",
   "id": "8095b97d",
   "metadata": {},
   "source": [
    "# Introduction\n",
    "\n",
    "- Introduce MCMC algorithm\n",
    "- - Shi Feng simulator\n",
    "- PyMC\n",
    "- - Applying it to simple models\n",
    "- - - arviz to plot, summarize\n",
    "- - Using draw to debug, visualize components\n",
    "- - Applying it to mixture models\n",
    "- - - Introduce Dirichlet\n",
    "- - - rhat\n",
    "- - - Introduce regularizing priors\n",
    "- - Prior outcome distributions\n",
    "- - - Divergences\n",
    "\n"
   ]
  },
  {
   "cell_type": "markdown",
   "id": "b3dee995",
   "metadata": {},
   "source": [
    "# The Monte Carlo Markov Chain (MCMC)\n",
    "\n",
    "Last time, we notice that the grid approximation algorithm starts to collapse when try to fit models with three or more parameters. We have a dilemma: either we use an extremely fine-grain to approximate the posterior and blast our computation time through the roof. Or, we use an course-grain and run the risk of missing the most important features of the posterior.\n",
    "\n",
    "One problem with grid approximation is that we spend a lot of time computing in pretty boring regions of the posterior. Take a look at this posterior. Much of the space is basically flat at 0 or nearly 0 posterior probability.\n",
    "\n",
    "!()[]\n"
   ]
  },
  {
   "cell_type": "markdown",
   "id": "7b0ed55f",
   "metadata": {},
   "source": [
    "\n",
    "I'll introduce monte carlo markov chain with a parable. Imagine a skateboard park with a massive bowl at the center. The skateboard park has been carefully measured so we have a grid of x and y coordinates that covers each point in the park. Also imagine there is no friction. A skateboarder rides around the bowl for an hour or so. Every few seconds, an aerial drone stationed directly above the bowl takes a snapshot of the skateboarder. Thousands of snapshots are recorded. In each one, we record the x and y coordinates of the skateboarder. After the hour is over, we compile a list of all the x and y coordinates.\n",
    "\n",
    "In this parable, the depth of the bowl represents areas with high likelihood. The location of the skateboard with respect to x and y represents two different parameter values, perhaps `p` is on one axis and `d` is on another. It turns out that the frequency distribution of locations will perfectly correspond to the depth of the bowl. Or, simply, the skateboarder will get their picture taken most often when they are in the center of the bowl. They will get their picture taken fairly often in the region between the edge and the center. And they will get their picture taken least often at the rim. Why? Well, they are usually only at the rim for a split second before they turn around and go back. But quite often they are flying through the center of the bowl. The laws of gravity and momentum help ensure this is true. Here you can watch a particular version of the MCMC (the Hamiltonian) algorithm working on a bowl shaped distribution.\n",
    "\n",
    "https://chi-feng.github.io/mcmc-demo/app.html?algorithm=HamiltonianMC&target=standard\n",
    "\n",
    "Okay how does this wacky parable help us? Well, it means we only need a finite number of snapshots to get a good approximation of the posterior distribution. As we add more parameters to model, the number of snapshots doesn't grow out of control. Instead of exploring every possible combination of values, we spend more of our time looking at the interesting values (those close to the center). But instead of only looking for the best, we also spend some time exploring the values at the edges (to get a sense of uncertainty).\n",
    "\n",
    "Designing and implementing monte carlo markov chain algorithms is really tough. So we've handed that work off to a package called pymc. Here is how to use it:"
   ]
  },
  {
   "cell_type": "markdown",
   "id": "5139a243",
   "metadata": {},
   "source": [
    "# PyMC"
   ]
  },
  {
   "cell_type": "markdown",
   "id": "06f94626",
   "metadata": {},
   "source": [
    "We import it like this:"
   ]
  },
  {
   "cell_type": "code",
   "execution_count": null,
   "id": "f07849ca",
   "metadata": {},
   "outputs": [],
   "source": [
    "import pymc as pm"
   ]
  },
  {
   "cell_type": "markdown",
   "id": "489fa3d8",
   "metadata": {},
   "source": [
    "## Simple binomial problems in pymc"
   ]
  },
  {
   "cell_type": "markdown",
   "id": "71b26390",
   "metadata": {},
   "source": [
    "We feed pymc our prior and our likelihood function using a `with pm.Model as NAME_OF_MODEL`. Notice the indentation. The `with` structure is a way of grouping a bunch of information under a single object, this time called `model_0`."
   ]
  },
  {
   "cell_type": "code",
   "execution_count": null,
   "id": "7ed9fda2",
   "metadata": {},
   "outputs": [],
   "source": [
    "with pm.Model() as model_0:\n",
    "    \n",
    "    # --priors--\n",
    "    # uniform is another name for a flat prior\n",
    "    # that assigns equal probability to every p in\n",
    "    # between 0 and 1.\n",
    "    \n",
    "    p = pm.Uniform('p',lower=0,upper=1)\n",
    "    \n",
    "    # --likelihood--\n",
    "    # this the pymc syntax equivalent for stats.binom\n",
    "    # n is still n\n",
    "    # p is still p\n",
    "    # but k has been replaced with 'observed'\n",
    "    \n",
    "    y = pm.Binomial('y',n=8,p=p,observed=6)"
   ]
  },
  {
   "cell_type": "markdown",
   "id": "7117c260",
   "metadata": {},
   "source": [
    "You can run the cell with just this information in it to see if everything is well defined. Notice that this is the same Bayesian estimation of the lady tasting tea from before. But we only really need two lines of code to express it: the prior and the likelihood. No need to define a grid. No need to manually normalize things."
   ]
  },
  {
   "cell_type": "code",
   "execution_count": null,
   "id": "5012f7ee",
   "metadata": {},
   "outputs": [],
   "source": [
    "with model_0:\n",
    "    # estimation algorithm\n",
    "    # pm.sample() just uses all the default settings\n",
    "    # the package automatically detects which\n",
    "    # estimation algorithm will work for your model\n",
    "    # and tunes the algorithm for best performance\n",
    "    # rarely, if ever, should use anything but the default settings\n",
    "    \n",
    "    trace = pm.sample()"
   ]
  },
  {
   "cell_type": "markdown",
   "id": "a670241a",
   "metadata": {},
   "source": [
    "Once we check to make sure our model is well-defined, we can do `trace = pm.sample()`. `trace` is the name of the object we store all the information into once we want to analyze the results later. `pm.sample()` is the command to activate the monte carlo markov chain. It will usually call it \"NUTS\" which is a sub-class of monte carlo markov chain that works great on nearly every type of Bayesian problem.\n",
    "\n",
    "Finally, we have a plotting package called arviz which works well for Bayesian models. `plot_posterior` is the main command you'll want."
   ]
  },
  {
   "cell_type": "code",
   "execution_count": null,
   "id": "1008b634",
   "metadata": {},
   "outputs": [
    {
     "data": {
      "image/png": "[encoded data removed]",
      "text/plain": [
       "<Figure size 640x480 with 1 Axes>"
      ]
     },
     "metadata": {},
     "output_type": "display_data"
    }
   ],
   "source": [
    "import arviz as az\n",
    "\n",
    "az.plot_posterior(trace,hdi_prob='hide');"
   ]
  },
  {
   "cell_type": "markdown",
   "id": "68e99d4e",
   "metadata": {},
   "source": [
    "This should look familiar - it's the same posterior distribution chart we got from the grid approximation algorithm."
   ]
  },
  {
   "cell_type": "markdown",
   "id": "ef1b2ec1",
   "metadata": {},
   "source": [
    "## Adjusting priors\n",
    "\n",
    "We can easily adjust our priors using this software. Here is an example."
   ]
  },
  {
   "cell_type": "code",
   "execution_count": null,
   "id": "66747885",
   "metadata": {},
   "outputs": [
    {
     "name": "stderr",
     "output_type": "stream",
     "text": [
      "Auto-assigning NUTS sampler...\n",
      "Initializing NUTS using jitter+adapt_diag...\n",
      "Multiprocess sampling (4 chains in 4 jobs)\n",
      "NUTS: [p]\n"
     ]
    },
    {
     "data": {
      "text/html": [
       "\n",
       "<style>\n",
       "    /* Turns off some styling */\n",
       "    progress {\n",
       "        /* gets rid of default border in Firefox and Opera. */\n",
       "        border: none;\n",
       "        /* Needs to be in here for Safari polyfill so background images work as expected. */\n",
       "        background-size: auto;\n",
       "    }\n",
       "    progress:not([value]), progress:not([value])::-webkit-progress-bar {\n",
       "        background: repeating-linear-gradient(45deg, #7e7e7e, #7e7e7e 10px, #5c5c5c 10px, #5c5c5c 20px);\n",
       "    }\n",
       "    .progress-bar-interrupted, .progress-bar-interrupted::-webkit-progress-bar {\n",
       "        background: #F44336;\n",
       "    }\n",
       "</style>\n"
      ],
      "text/plain": [
       "<IPython.core.display.HTML object>"
      ]
     },
     "metadata": {},
     "output_type": "display_data"
    },
    {
     "data": {
      "text/html": [
       "\n",
       "    <div>\n",
       "      <progress value='8000' class='' max='8000' style='width:300px; height:20px; vertical-align: middle;'></progress>\n",
       "      100.00% [8000/8000 00:07&lt;00:00 Sampling 4 chains, 0 divergences]\n",
       "    </div>\n",
       "    "
      ],
      "text/plain": [
       "<IPython.core.display.HTML object>"
      ]
     },
     "metadata": {},
     "output_type": "display_data"
    },
    {
     "name": "stderr",
     "output_type": "stream",
     "text": [
      "Sampling 4 chains for 1_000 tune and 1_000 draw iterations (4_000 + 4_000 draws total) took 21 seconds.\n"
     ]
    }
   ],
   "source": [
    "with pm.Model() as model_1:\n",
    "    \n",
    "    # you can play around with different priors\n",
    "    # I switched out the uniform distribution for a beta\n",
    "    # that puts more credibility toward medium values of p\n",
    "    # and less credibility to extreme values of p\n",
    "    \n",
    "    p = pm.Beta('p',alpha=3,beta=3)\n",
    "    \n",
    "    y = pm.Binomial('y',n=8,p=p,observed=6)\n",
    "    \n",
    "    trace = pm.sample()"
   ]
  },
  {
   "cell_type": "code",
   "execution_count": null,
   "id": "6442face",
   "metadata": {},
   "outputs": [
    {
     "data": {
      "image/png": "[encoded data removed]",
      "text/plain": [
       "<Figure size 640x480 with 1 Axes>"
      ]
     },
     "metadata": {},
     "output_type": "display_data"
    }
   ],
   "source": [
    "az.summary(trace);"
   ]
  },
  {
   "cell_type": "markdown",
   "id": "32499028",
   "metadata": {},
   "source": [
    "# Mixture models"
   ]
  },
  {
   "cell_type": "code",
   "execution_count": null,
   "id": "5636e0f3",
   "metadata": {},
   "outputs": [],
   "source": [
    "url = \"https://raw.githubusercontent.com/daniel-saunders-phil/cogs-303/main/Asch_experiment_1_data\"\n",
    "# url = r\"C:\\Users\\dsaun\\github_projects\\cogs-303\\Asch_experiment_1_data\" # local path - ignore this\n",
    "\n",
    "df = pd.read_csv(url)\n",
    "df_treatment = df[df.treatment == 1]\n",
    "mistakes_treatment = df_treatment.mistakes.values"
   ]
  },
  {
   "cell_type": "code",
   "execution_count": null,
   "id": "7a9b8c02",
   "metadata": {},
   "outputs": [],
   "source": [
    "with pm.Model() as model_2:\n",
    "\n",
    "    # mixture weights\n",
    "\n",
    "    w = pm.Dirichlet('w',[1,1])\n",
    "\n",
    "    # mixture components\n",
    "\n",
    "    p0 = pm.Beta('p0',1,1) # independent component\n",
    "    p1 = pm.Beta('p1',1,1) # conformist component\n",
    "    components = [pm.Binomial.dist(n=12,p=p0),pm.Binomial.dist(n=12,p=p1)]\n",
    "\n",
    "    # likelihood\n",
    "\n",
    "    y = pm.Mixture('error',w=w,comp_dists=components,observed=mistakes_treatment)\n",
    "\n",
    "pm.draw(y)"
   ]
  },
  {
   "cell_type": "markdown",
   "id": "75389661",
   "metadata": {},
   "source": [
    "## The Dirichlet distribution"
   ]
  },
  {
   "cell_type": "code",
   "execution_count": null,
   "id": "57a15f68",
   "metadata": {},
   "outputs": [],
   "source": [
    "with pm.Model() as explore_dirichlet:\n",
    "    w = pm.Dirichlet('w',[1,1])\n",
    "\n",
    "pm.draw(w)"
   ]
  },
  {
   "cell_type": "code",
   "execution_count": null,
   "id": "9e5a8a68",
   "metadata": {},
   "outputs": [],
   "source": [
    "with pm.Model() as explore_dirichlet:\n",
    "    w = pm.Dirichlet('w',[1,1,1])\n",
    "\n",
    "pm.draw(w)"
   ]
  },
  {
   "cell_type": "code",
   "execution_count": null,
   "id": "5a76fbb6",
   "metadata": {},
   "outputs": [],
   "source": [
    "with pm.Model() as explore_dirichlet:\n",
    "    w = pm.Dirichlet('w',[100,100])\n",
    "\n",
    "draws = pm.draw(w,draws=1000)\n",
    "plt.hist(draws)"
   ]
  },
  {
   "cell_type": "markdown",
   "id": "7ef3b638",
   "metadata": {},
   "source": [
    "## Markov Chain Convergence"
   ]
  },
  {
   "cell_type": "code",
   "execution_count": null,
   "id": "aa9379e3",
   "metadata": {},
   "outputs": [],
   "source": [
    "with model_2:\n",
    "    trace_2 = pm.sample()"
   ]
  },
  {
   "cell_type": "code",
   "execution_count": null,
   "id": "45b56c10",
   "metadata": {},
   "outputs": [],
   "source": [
    "az.summary(trace_2)"
   ]
  },
  {
   "cell_type": "markdown",
   "id": "eb54f710",
   "metadata": {},
   "source": [
    "## Regularizing priors"
   ]
  },
  {
   "cell_type": "code",
   "execution_count": null,
   "id": "f4eef892",
   "metadata": {},
   "outputs": [],
   "source": [
    "rate = 0.5\n",
    "n = 12\n",
    "\n",
    "independents_grid = np.linspace(0,1,100)\n",
    "conformist_grid = np.linspace(0,1,100)\n",
    "\n",
    "ind_prior = stats.beta(0.5,2).pdf(independents_grid)\n",
    "ind_prior = ind_prior / sum(ind_prior)\n",
    "\n",
    "con_prior = stats.beta(2,0.5).pdf(conformist_grid)\n",
    "con_prior = con_prior / sum(con_prior)"
   ]
  },
  {
   "cell_type": "code",
   "execution_count": null,
   "id": "5490267f",
   "metadata": {},
   "outputs": [],
   "source": [
    "posterior_table = []\n",
    "\n",
    "for row in range(100):\n",
    "\n",
    "    # row is a counter from 0 to 99\n",
    "\n",
    "    posterior_row = []\n",
    "\n",
    "    for column in range(100):\n",
    "\n",
    "        # we use row to index which parameter \n",
    "        # we'll need in the likelihood calculation\n",
    "        # and which prior we'll need for the posterior\n",
    "        # calculation.\n",
    "\n",
    "        p1 = independents_grid[row]\n",
    "        p2 = conformist_grid[column]\n",
    "        prior1 = ind_prior[row]\n",
    "        prior2 = con_prior[column]\n",
    "\n",
    "        likelihood = mixture_likelihood(mistakes_treatment,rate,p1,p2,n)\n",
    "\n",
    "        posterior = likelihood * prior1 * prior2\n",
    "        posterior_row.append(posterior)\n",
    "\n",
    "    posterior_table.append(posterior_row)\n",
    "\n",
    "# convert to numpy array\n",
    "\n",
    "posterior_table = np.array(posterior_table)\n",
    "\n",
    "# normalize the posterior by finding an expectation\n",
    "\n",
    "posterior_table = posterior_table / np.sum(posterior_table)\n",
    "\n",
    "# package it into a dataframe to make visualization easier\n",
    "\n",
    "posterior_distribution = pd.DataFrame(posterior_table,columns=independents_grid,index=conformist_grid)"
   ]
  },
  {
   "cell_type": "code",
   "execution_count": null,
   "id": "d9be520e",
   "metadata": {},
   "outputs": [],
   "source": [
    "# You don't need to spend time learning this bit of code\n",
    "# it is unnecessarily complex\n",
    "# I've put it in the lecture for illustrative purposes\n",
    "\n",
    "fig, ax = plt.subplots(subplot_kw={\"projection\": \"3d\"},figsize=(10,10))\n",
    "\n",
    "x_coord, y_coord = np.meshgrid(independents_grid,conformist_grid)\n",
    "\n",
    "surf = ax.plot_surface(x_coord, y_coord, posterior_table)\n",
    "plt.ylabel(\"Independents error rate\")\n",
    "plt.xlabel(\"Conformist error rate\");"
   ]
  },
  {
   "cell_type": "code",
   "execution_count": null,
   "id": "f7f9dd15",
   "metadata": {},
   "outputs": [],
   "source": [
    "with pm.Model() as model_3:\n",
    "\n",
    "    # mixture weights\n",
    "\n",
    "    w = pm.Dirichlet('w',[1,1])\n",
    "\n",
    "    # mixture components\n",
    "\n",
    "    p0 = pm.Beta('p0',0.5,2) # independent component\n",
    "    p1 = pm.Beta('p1',2,0.5) # conformist component\n",
    "    components = [pm.Binomial.dist(n=12,p=p0),pm.Binomial.dist(n=12,p=p1)]\n",
    "\n",
    "    # likelihood\n",
    "\n",
    "    y = pm.Mixture('error',w=w,comp_dists=components,observed=mistakes_treatment)\n",
    "\n",
    "    trace_3 = pm.sample()"
   ]
  },
  {
   "cell_type": "markdown",
   "id": "052658de",
   "metadata": {},
   "source": [
    "## Understanding the model ouput"
   ]
  },
  {
   "cell_type": "code",
   "execution_count": null,
   "id": "3d3fc9ef",
   "metadata": {},
   "outputs": [],
   "source": [
    "with model_3:\n",
    "    spp = pm.sample_posterior_predictive(trace_3)"
   ]
  },
  {
   "cell_type": "code",
   "execution_count": null,
   "id": "9c4ffa7b",
   "metadata": {},
   "outputs": [],
   "source": [
    "spp"
   ]
  },
  {
   "cell_type": "code",
   "execution_count": null,
   "id": "8010643f",
   "metadata": {},
   "outputs": [],
   "source": [
    "for i in range(4):\n",
    "    predict = spp.posterior_predictive.error.values[i].flatten()\n",
    "    plt.hist(predict,alpha=0.1,color=\"tab:blue\")"
   ]
  }
 ],
 "metadata": {
  "kernelspec": {
   "display_name": "Python [conda env:pymc_env]",
   "language": "python",
   "name": "conda-env-pymc_env-py"
  },
  "language_info": {
   "codemirror_mode": {
    "name": "ipython",
    "version": 3
   },
   "file_extension": ".py",
   "mimetype": "text/x-python",
   "name": "python",
   "nbconvert_exporter": "python",
   "pygments_lexer": "ipython3",
   "version": "3.11.0"
  }
 },
 "nbformat": 4,
 "nbformat_minor": 5
}
