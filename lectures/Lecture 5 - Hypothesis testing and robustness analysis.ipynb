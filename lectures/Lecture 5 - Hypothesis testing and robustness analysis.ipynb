{
 "cells": [
  {
   "cell_type": "markdown",
   "id": "03ffbcb5",
   "metadata": {},
   "source": [
    "# The logic of hypothesis testing\n",
    "\n",
    "Earlier in the term, we took a first look at the problem of induction. Let's recap a couple of key points. First, we noted then that there were broadly two strategies for getting around the problem:\n",
    "\n",
    "- Advocates of Bayesian inference promoted a model of scientific reasoning where we rank theories from most to least credible. We'll revisit this approach in a few classes.\n",
    "\n",
    "- Karl Popper and a few others defended a deduction-only model of scientific reasoning. Science proceeds by eliminating bad hypotheses with refutation-style arguments. Whatever theories are left are \"corroborated\", meaning they have survived difficult tests. But they are not necessarily true. Formally, refutation arguments look like:\n",
    "\n",
    "$$ H \\supset O $$\n",
    "$$ \\thicksim O $$\n",
    "$$ \\therefore \\, \\thicksim H $$\n",
    "\n",
    "Second, we noted that, usually, scientific theories do not strictly entail their evidence. Instead, they say the evidence should *probably* look like this or that. For example, if our hypothesis $H$ is that Lady Bristol doesn't possess the ability to distinguish milk-first and tea-first cups of tea, that theory doesn't exactly tell you how many cups she is suppose to get right. It doesn't even say it is impossible she gets makes 8 out 8 correct guesses. It just say there is a low probability that she gets that many right. So standard deductive logic can't help you refute the hypothesis Lady Bristol is just guessing.\n",
    "\n",
    "However, we can extend our logical toolkit to get an inference that's pretty similar. Recall our notation for conditional probability:\n",
    "\n",
    "$$ P(O|H) $$\n",
    "\n",
    "Notice that conditional probabilities are a lot like logical conditional. $ H \\supset O $ this sentence says 'if we assume H is true, then O must happen.' $ P(O|H) $ this sentence says 'if we assume H is true, then O happens with this probability'. Moreover, if $P(O|H)$ is low enough, it's an awful lot like $ \\thicksim O$. It's like saying $O$ is almost impossible or $O$ didn't happen. So we get an analogy. If refutation arguments work to absolutely rule out certain hypotheses, we should also be able to partially rule out hypotheses. Partially ruling things out is what hypothesis testing does. However, we need to say more precisely what counts as \"low enough.\" So now we turn to significance testing."
   ]
  },
  {
   "cell_type": "markdown",
   "id": "c8138aea",
   "metadata": {},
   "source": [
    "## P-values and significance thresholds\n",
    "\n",
    "A **P-value** is the probability of the evidence, assuming some hypothesis. This just another way of saying a p-value is a conditional probability. We've already calculated a few. For example, this is a p-value:\n",
    "\n",
    "$$ P(six \\, cups \\,|H) = 0.125 $$\n",
    "\n",
    "And so is this:\n",
    "\n",
    "$$ P(seven \\, cups \\,|H) = 0.03125 $$\n",
    "\n",
    "In hypothesis testing, after calculating a p-value, you have to make a decision about what it means. As we just noted, $P(O|H)$ might be very low, but it's not zero. So the hypothesis still *could* be true, although it's unlikely. What we do is set a threshold - some p-values are so low, we'll decided our hypothesis is false. Often, that value is 0.05. But 0.05 is just conventional. The standard is called the significance threshold. We could set a more stringent standard or a more relaxed standard.\n",
    "\n",
    "> If $P(O|H) < 0.05$, then we reject $H_0$\n",
    "\n",
    "It is worth noticing that hypothesis testing arguments are not strictly valid. It all depends on a rough analogy to refutation. The fact that a very improbable thing happened doesn't mean $H$ is false. Sometimes improbable things *do* happen. What's really going on in the inference is that we are willing to take a risk that we've jumped to the wrong conclusion. Setting your significance threshold in different places helps you control how much risk you take. If you are willing to erroneously reject a lot of true theories, you can set it to be high. If you only want to reject theories when you have extremely strong evidence, set your threshold low."
   ]
  },
  {
   "cell_type": "markdown",
   "id": "2d0d5035",
   "metadata": {},
   "source": [
    "## The hypothesis testing framework\n",
    "\n",
    "At this point, we've walked through all the hypothesis testing steps. Let me make it explicit.\n",
    "\n",
    "1. Formulate a hypothesis - Bristol has no special ability or, more specifically, the probability of success with each cup is 0.5.\n",
    "\n",
    "2. Derive a probability distribution from your hypothesis. Enumeration, simulation and the binomial distribution formula* (coming up next) are all good ways of deriving this distribution.\n",
    "\n",
    "3. Collect data. See how many cups Lady Bristol actually gets right.\n",
    "\n",
    "4. Make a decision about your hypothesis..\n",
    "\n",
    "When people talk about \"statistically significant\" results, this is what they mean. They mean that probability of the data showing up given some set of assumptions is very low. "
   ]
  },
  {
   "cell_type": "markdown",
   "id": "32226532",
   "metadata": {},
   "source": [
    "## Hypothesis testing illustrated\n",
    "\n",
    "Let's look at a couple of examples to see how hypothesis testing does and doesn't work. The question we'll explore is, \"how many cups does Bristol have to get correct before you should reject the idea she's just guessing. Let's start by reloading our model code from a prior class."
   ]
  },
  {
   "cell_type": "code",
   "execution_count": 7,
   "id": "64133bf5",
   "metadata": {},
   "outputs": [],
   "source": [
    "# packages we'll need\n",
    "\n",
    "import numpy as np\n",
    "import matplotlib.pyplot as plt\n",
    "\n",
    "def simulate_bristol(a,n):\n",
    "    '''Returns a list of 0s and 1s of lengeth n\n",
    "    with 0 indicating failure and 1 indicating success.\n",
    "    \n",
    "    a = accuracy on each cup\n",
    "    n = the number of cups'''\n",
    "\n",
    "    experiment = []\n",
    "\n",
    "    for i in range(n):\n",
    "        \n",
    "        outcome = np.random.choice([1,0],p=[a,1-a])\n",
    "        experiment.append(outcome)\n",
    "        \n",
    "    return experiment\n",
    "\n",
    "def run_experiments(a,n,precision):\n",
    "    '''Returns a list containing the number of cups lady bristol\n",
    "    guessed correctly over many experiments\n",
    "    \n",
    "    a = accuracy on each cup\n",
    "    n = number of cups per experiment\n",
    "    precision = the number of experiments'''\n",
    "    \n",
    "    \n",
    "    all_trials = []\n",
    "\n",
    "    for i in range(precision):\n",
    "\n",
    "        correct = sum(simulate_bristol(a,n))\n",
    "        all_trials.append(correct)\n",
    "\n",
    "    return all_trials"
   ]
  },
  {
   "cell_type": "markdown",
   "id": "c2b289af",
   "metadata": {},
   "source": [
    "Run that cell to get everything ready. Now we'll find the probability getting 6 cups out 8 again."
   ]
  },
  {
   "cell_type": "code",
   "execution_count": 8,
   "id": "910bcc92",
   "metadata": {},
   "outputs": [
    {
     "data": {
      "text/plain": [
       "0.1129"
      ]
     },
     "execution_count": 8,
     "metadata": {},
     "output_type": "execute_result"
    }
   ],
   "source": [
    "a = 0.5\n",
    "n = 8\n",
    "k = 6\n",
    "precision = 10000\n",
    "\n",
    "all_trials = run_experiments(a,n,precision)\n",
    "matches = all_trials.count(k)\n",
    "prob = matches / precision\n",
    "prob"
   ]
  },
  {
   "cell_type": "markdown",
   "id": "2490fd1b",
   "metadata": {},
   "source": [
    "It is around 0.1, which is greater than 0.05. So we do not reject the hypothesis. In other words, we don't have enough evidence to rule out the idea she's just guessing. But imagine she got 7 cups correct."
   ]
  },
  {
   "cell_type": "code",
   "execution_count": 9,
   "id": "0a41b042",
   "metadata": {},
   "outputs": [
    {
     "data": {
      "text/plain": [
       "0.0302"
      ]
     },
     "execution_count": 9,
     "metadata": {},
     "output_type": "execute_result"
    }
   ],
   "source": [
    "a = 0.5\n",
    "n = 8\n",
    "k = 7\n",
    "precision = 10000\n",
    "\n",
    "all_trials = run_experiments(a,n,precision)\n",
    "matches = all_trials.count(k)\n",
    "prob = matches / precision\n",
    "prob"
   ]
  },
  {
   "cell_type": "markdown",
   "id": "6aa51fda",
   "metadata": {},
   "source": [
    "This probability is below 0.05 so we can reject our hypothesis.\n",
    "\n",
    "We can draw a convenient graph to understand what kind of evidence would be statistically significant in different situations. So everything below the line counts as statistically significant and everything above the line wouldn't be sufficient evidence."
   ]
  },
  {
   "cell_type": "code",
   "execution_count": 10,
   "id": "0114964a",
   "metadata": {},
   "outputs": [
    {
     "data": {
      "text/plain": [
       "[<matplotlib.lines.Line2D at 0x246802ddaf0>]"
      ]
     },
     "execution_count": 10,
     "metadata": {},
     "output_type": "execute_result"
    },
    {
     "data": {
      "image/png": "[encoded data removed]",
      "text/plain": [
       "<Figure size 640x480 with 1 Axes>"
      ]
     },
     "metadata": {},
     "output_type": "display_data"
    }
   ],
   "source": [
    "a = 0.5\n",
    "n = 8\n",
    "precision = 10000\n",
    "\n",
    "all_trials = run_experiments(a,n,precision)\n",
    "probs = []\n",
    "\n",
    "for i in range(n+1):\n",
    "\n",
    "    matches = all_trials.count(i)\n",
    "    prob = matches / precision\n",
    "    probs.append(prob)\n",
    "    \n",
    "plt.bar(range(n+1),probs)\n",
    "plt.plot([-1,n+1],[0.05,0.05],'--',color=\"grey\")"
   ]
  },
  {
   "cell_type": "markdown",
   "id": "2ef1667b",
   "metadata": {},
   "source": [
    "You'll see some new code `plt.plot([-1,n+1],[0.05,0.05],'--',color=\"grey\")`. Let me break it down. The first argument is a list `[-1,n+1]` which tells us the start and stop points for our line alone the x-axis. The second argument is the height of the line at both points `[0.05,0.05]`. The third argument `\"--\"` tells us the type of line, a dashed line. Finally, we can pass it a color with `color=\"grey\"`. But you could put other words like blue or orange in the quotation marks.\n",
    "\n",
    "This chart helps us illustrate two points. "
   ]
  },
  {
   "cell_type": "markdown",
   "id": "ab8aed21",
   "metadata": {},
   "source": [
    "### Sample sizes\n",
    "\n",
    "First, as the number of trials we put Lady Bristol through increases, so does the number of possible outcomes which could reject our hypothesis. Let's look at `n = 16`."
   ]
  },
  {
   "cell_type": "code",
   "execution_count": 11,
   "id": "58238adc",
   "metadata": {},
   "outputs": [
    {
     "data": {
      "text/plain": [
       "[<matplotlib.lines.Line2D at 0x24680287d90>]"
      ]
     },
     "execution_count": 11,
     "metadata": {},
     "output_type": "execute_result"
    },
    {
     "data": {
      "image/png": "[encoded data removed]",
      "text/plain": [
       "<Figure size 640x480 with 1 Axes>"
      ]
     },
     "metadata": {},
     "output_type": "display_data"
    }
   ],
   "source": [
    "a = 0.5\n",
    "n = 16\n",
    "precision = 10000\n",
    "\n",
    "all_trials = run_experiments(a,n,precision)\n",
    "probs = []\n",
    "\n",
    "for i in range(n+1):\n",
    "\n",
    "    matches = all_trials.count(i)\n",
    "    prob = matches / precision\n",
    "    probs.append(prob)\n",
    "    \n",
    "plt.bar(range(n+1),probs)\n",
    "plt.plot([-1,n+1],[0.05,0.05],'--',color=\"grey\")"
   ]
  },
  {
   "cell_type": "markdown",
   "id": "9cc6ce93",
   "metadata": {},
   "source": [
    "Now if she gets any more than 12 correct, that's statistically significant. A quick general lesson from this graph is: as the sample size of any study grows, it becomes easier and easier to reject the null hypothesis."
   ]
  },
  {
   "cell_type": "markdown",
   "id": "10f7a1d8",
   "metadata": {},
   "source": [
    "### Alternative null hypotheses\n",
    "\n",
    "there is nothing special about `p=0.5` as our hypothesis. We can test hypotheses where she has some ability too. So let us imagine she's really good and `p=0.9`. "
   ]
  },
  {
   "cell_type": "code",
   "execution_count": 12,
   "id": "33255d91",
   "metadata": {},
   "outputs": [
    {
     "data": {
      "text/plain": [
       "[<matplotlib.lines.Line2D at 0x24680ac0e80>]"
      ]
     },
     "execution_count": 12,
     "metadata": {},
     "output_type": "execute_result"
    },
    {
     "data": {
      "image/png": "[encoded data removed]",
      "text/plain": [
       "<Figure size 640x480 with 1 Axes>"
      ]
     },
     "metadata": {},
     "output_type": "display_data"
    }
   ],
   "source": [
    "a = 0.9\n",
    "n = 16\n",
    "precision = 10000\n",
    "\n",
    "all_trials = run_experiments(a,n,precision)\n",
    "probs = []\n",
    "\n",
    "for i in range(n+1):\n",
    "\n",
    "    matches = all_trials.count(i)\n",
    "    prob = matches / precision\n",
    "    probs.append(prob)\n",
    "    \n",
    "plt.bar(range(n+1),probs)\n",
    "plt.plot([-1,n+1],[0.05,0.05],'--',color=\"grey\")"
   ]
  },
  {
   "cell_type": "markdown",
   "id": "868bc9a8",
   "metadata": {},
   "source": [
    "In this case, if she gets a moderate score like 12 / 16 correct, that's enough to reject our hypothesis.\n",
    "\n",
    "There is a common misconception that hypothesis testing only works on so-called \"null\" hypotheses. That's usually the way it goes. But any hypothesis you can dream up can be tested in this manner as long as you have data and a model."
   ]
  },
  {
   "cell_type": "markdown",
   "id": "fdba8d20",
   "metadata": {},
   "source": [
    "# Formula for probability distributions\n",
    "\n",
    "We've been deriving our p-values in a very unusual way. Building a model and simulating it 10000 times isn't what people do in most statistics classes. Instead, they learn a variety of formulas that have special names and give you a fast, exact answer. If you've taken one of these classes before you might even recognize the distribution our model is generating as the *binomial distribution*. \n",
    "\n",
    "I want to briefly introduce the binomial distribution. I'll show you the formula just for kicks but we won't use it in this class. Then I'll show a way we can access the distribution in Python. But mostly what I want to do is explain why formulas are going to take a secondary priority for us in this class compared to simulations."
   ]
  },
  {
   "cell_type": "markdown",
   "id": "22bf4143",
   "metadata": {},
   "source": [
    "## The binomial formula\n",
    "\n",
    "When we started studying the lady tasting tea problem, we enumerated all the way of getting 3 correct guesses out 4 tries. What if we had $k$ correct guesses out of $n$ attempts with probability $p$ of getting any given answer right? There is a little formula from combinatorics that tells us how to scale up to any size of problem.\n",
    "\n",
    "$$ P(p,n,k) = \\frac{n!}{k!(n-k)!} p^{k} (1-p)^{n-k} $$\n",
    "\n",
    "It looks like a goddam mess. But we can break it down. The first part, $\\frac{n!}{k!(n-k)!}$, gives us the number of ways of realizing a particular combination. Let's test it on a small example. If we want to know the number of ways to get three correct answers out of 4. According to the formula,\n",
    "\n",
    "$$ \\frac{4!}{3!(4-3)!} $$\n",
    "\n",
    "$$ \\frac{4!}{3!1!} $$\n",
    "\n",
    "$$ \\frac{4*3*2*1}{3*2*1*1} $$\n",
    "\n",
    "$$ \\frac{24}{6} $$\n",
    "\n",
    "$$ 4 $$\n",
    "\n",
    "Remember, that's what we found earlier with the enumeration again. There were 4 ways to get 3 correct answers out of 4 attempts. What's nice about this formula is that it scales up for extremely large experiments.\n",
    "\n",
    "What's the second part? $p^{k}$ That's the probability of getting k correct guesses. If each correct guess has probability p, then you just multiple p by itself k times to get the conjunctive probability.\n",
    "\n",
    "The third part, $(1-p)^{n-k}$ is just the reverse. (1-p) is the probability of getting an incorrect guess. n-k is just all the remaining events that aren't successes. \n",
    "\n",
    "Let's put it all together. The first part tells you how many ways there are realize a given state. The second and third part tell you the probability of realizing any of those ways. The main lesson here is just know there is a formula that lies beneath our Python functions. But we won't interact directly with the formula anymore."
   ]
  },
  {
   "cell_type": "markdown",
   "id": "22314dc9",
   "metadata": {},
   "source": [
    "## Binomial distributions in Python\n",
    "\n",
    "Let's just start with the code."
   ]
  },
  {
   "cell_type": "code",
   "execution_count": 13,
   "id": "50225dbf",
   "metadata": {},
   "outputs": [
    {
     "data": {
      "text/plain": [
       "0.25000000000000006"
      ]
     },
     "execution_count": 13,
     "metadata": {},
     "output_type": "execute_result"
    }
   ],
   "source": [
    "import scipy.stats as stats\n",
    "\n",
    "stats.binom(n=4,p=0.5).pmf(3)"
   ]
  },
  {
   "cell_type": "markdown",
   "id": "d552afb0",
   "metadata": {},
   "source": [
    "We have a new package, `scipy`. This gives us access to loads of probability distributions. In scipy, each distribution has a standard language for interacting with it. First, there is the name of the distribution. We have `binom` for binomial distribution. You pass it two arguments, `n` and `p`. Second, something funny happens. You use a `.` and call another method `pmf()`. It stands for probability mass function which is the official way of saying: what's the probability of this observation, assuming the binomial model. \n",
    "\n",
    "Normally we write out the name of our function and then wrap all our arguments in parentheses at the end. But here we do it in two separate places. That's because scipy functions always have two parts: the distribution itself (binomial, later we'll see normal) plus the thing we want our distribution to do (measure probability, later we'll take samples)."
   ]
  },
  {
   "cell_type": "markdown",
   "id": "fe7f3eab",
   "metadata": {},
   "source": [
    "### Convergence between simulations and distributions\n",
    "\n",
    "It is often the case that simulations we write correspond to some well-known, named probability distribution. It's no accident. Probability distributions are often invented because mathematicians start with some kind of story about how people or plants or particles behave and they work out a model. The extra step that mathematicians do, that we won't do, is work out the general behavior of their model using algebra. That's a tough skill and cognitive scientists can't know how to do everything. So learning simulations is good enough for our purposes. But it can be helpful to discover that your simulation model coincides with a probability distribution that a French guy invented 100 years ago.\n",
    "\n",
    "Let's show that the binomial distribution and our simulation model exhibit the same behavior. We'll create the same bar chart as before."
   ]
  },
  {
   "cell_type": "code",
   "execution_count": 14,
   "id": "77a7bdbf",
   "metadata": {},
   "outputs": [
    {
     "data": {
      "text/plain": [
       "<BarContainer object of 9 artists>"
      ]
     },
     "execution_count": 14,
     "metadata": {},
     "output_type": "execute_result"
    },
    {
     "data": {
      "image/png": "[encoded data removed]",
      "text/plain": [
       "<Figure size 640x480 with 1 Axes>"
      ]
     },
     "metadata": {},
     "output_type": "display_data"
    }
   ],
   "source": [
    "n = 8\n",
    "p = 0.5\n",
    "\n",
    "outcomes = list(range(n+1))\n",
    "probs = stats.binom(n=8,p=p).pmf(outcomes)\n",
    "\n",
    "plt.bar(outcomes,probs)"
   ]
  },
  {
   "cell_type": "markdown",
   "id": "80b4d635",
   "metadata": {},
   "source": [
    "What is going on in the code is that we have a list of possible outcomes (`[0,1,2,3,4,5,6,7,8]`) that we pass over to the `binom.pmf()` function. It asks the formula the probability of each outcome and gives us back a new list. Notice that before we had to use a loop to accomplished this goal. Scipy functions are smart and can guess that you probably want to loop here so it handles the looping under the hood.\n",
    "\n",
    "This bar chart looks awfully familiar. But is it exactly the same distribution as we had before? We can study this question with a few examples and some plotting tricks."
   ]
  },
  {
   "cell_type": "code",
   "execution_count": 15,
   "id": "179be3c8",
   "metadata": {},
   "outputs": [
    {
     "data": {
      "text/plain": [
       "<BarContainer object of 9 artists>"
      ]
     },
     "execution_count": 15,
     "metadata": {},
     "output_type": "execute_result"
    },
    {
     "data": {
      "image/png": "[encoded data removed]",
      "text/plain": [
       "<Figure size 640x480 with 1 Axes>"
      ]
     },
     "metadata": {},
     "output_type": "display_data"
    }
   ],
   "source": [
    "a = 0.5\n",
    "n = 8\n",
    "precision = 10000\n",
    "\n",
    "outcomes = list(range(n+1))\n",
    "probs_binom = stats.binom(n=n,p=a).pmf(outcomes)\n",
    "\n",
    "all_trials = run_experiments(a,n,precision)\n",
    "probs_sim = []\n",
    "\n",
    "for i in outcomes:\n",
    "\n",
    "    matches = all_trials.count(i)\n",
    "    prob = matches / precision\n",
    "    probs_sim.append(prob)\n",
    "    \n",
    "plt.bar(outcomes,probs_sim,alpha=1,color=\"black\")\n",
    "plt.bar(outcomes,probs_binom,alpha=0.5,color=\"tab:blue\")"
   ]
  },
  {
   "cell_type": "markdown",
   "id": "5f134d91",
   "metadata": {},
   "source": [
    "Okay it looks like they are pretty close. I've adjusted the color settings so contrasts will stand out more. The little black bits are places where the simulation assigns more probability than the binomial distribution. The light blue bits are the reverse. Maybe they'll converge completely once we have higher precision."
   ]
  },
  {
   "cell_type": "code",
   "execution_count": 16,
   "id": "ae6e76a4",
   "metadata": {},
   "outputs": [
    {
     "data": {
      "text/plain": [
       "<BarContainer object of 9 artists>"
      ]
     },
     "execution_count": 16,
     "metadata": {},
     "output_type": "execute_result"
    },
    {
     "data": {
      "image/png": "[encoded data removed]",
      "text/plain": [
       "<Figure size 640x480 with 1 Axes>"
      ]
     },
     "metadata": {},
     "output_type": "display_data"
    }
   ],
   "source": [
    "a = 0.5\n",
    "n = 8\n",
    "precision = 100000\n",
    "\n",
    "outcomes = list(range(n+1))\n",
    "probs_binom = stats.binom(n=n,p=a).pmf(outcomes)\n",
    "\n",
    "all_trials = run_experiments(a,n,precision)\n",
    "probs_sim = []\n",
    "\n",
    "for i in outcomes:\n",
    "\n",
    "    matches = all_trials.count(i)\n",
    "    prob = matches / precision\n",
    "    probs_sim.append(prob)\n",
    "    \n",
    "plt.bar(outcomes,probs_sim,alpha=1,color=\"black\")\n",
    "plt.bar(outcomes,probs_binom,alpha=0.5,color=\"tab:blue\")"
   ]
  },
  {
   "cell_type": "markdown",
   "id": "b74661d2",
   "metadata": {},
   "source": [
    "The match gets a lot better. So that's a good sign. But we should explore the parameters too. When I make $p$ big or small, do both distributions continue to match closely?"
   ]
  },
  {
   "cell_type": "code",
   "execution_count": 17,
   "id": "9324db95",
   "metadata": {},
   "outputs": [
    {
     "data": {
      "text/plain": [
       "<BarContainer object of 9 artists>"
      ]
     },
     "execution_count": 17,
     "metadata": {},
     "output_type": "execute_result"
    },
    {
     "data": {
      "image/png": "[encoded data removed]",
      "text/plain": [
       "<Figure size 640x480 with 1 Axes>"
      ]
     },
     "metadata": {},
     "output_type": "display_data"
    }
   ],
   "source": [
    "a = 0.1\n",
    "n = 8\n",
    "precision = 10000\n",
    "\n",
    "outcomes = list(range(n+1))\n",
    "probs_binom = stats.binom(n=n,p=a).pmf(outcomes)\n",
    "\n",
    "all_trials = run_experiments(a,n,precision)\n",
    "probs_sim = []\n",
    "\n",
    "for i in outcomes:\n",
    "\n",
    "    matches = all_trials.count(i)\n",
    "    prob = matches / precision\n",
    "    probs_sim.append(prob)\n",
    "    \n",
    "plt.bar(outcomes,probs_sim,alpha=1,color=\"black\")\n",
    "plt.bar(outcomes,probs_binom,alpha=0.5,color=\"tab:blue\")"
   ]
  },
  {
   "cell_type": "code",
   "execution_count": 18,
   "id": "94322c23",
   "metadata": {},
   "outputs": [
    {
     "data": {
      "text/plain": [
       "<BarContainer object of 9 artists>"
      ]
     },
     "execution_count": 18,
     "metadata": {},
     "output_type": "execute_result"
    },
    {
     "data": {
      "image/png": "[encoded data removed]",
      "text/plain": [
       "<Figure size 640x480 with 1 Axes>"
      ]
     },
     "metadata": {},
     "output_type": "display_data"
    }
   ],
   "source": [
    "a = 0.7\n",
    "n = 8\n",
    "precision = 10000\n",
    "\n",
    "outcomes = list(range(n+1))\n",
    "probs_binom = stats.binom(n=n,p=a).pmf(outcomes)\n",
    "\n",
    "all_trials = run_experiments(a,n,precision)\n",
    "probs_sim = []\n",
    "\n",
    "for i in outcomes:\n",
    "\n",
    "    matches = all_trials.count(i)\n",
    "    prob = matches / precision\n",
    "    probs_sim.append(prob)\n",
    "    \n",
    "plt.bar(outcomes,probs_sim,alpha=1,color=\"black\")\n",
    "plt.bar(outcomes,probs_binom,alpha=0.5,color=\"tab:blue\")"
   ]
  },
  {
   "cell_type": "markdown",
   "id": "51139417",
   "metadata": {},
   "source": [
    "Yup looks like. So let's abstract our process: we got an initial sign of convergence. Then we tested it two different ways. We increased the precision. And we varied some of our parameters. In each case, the convergence continued to show up. So, roughly, we can infer they exhibit the same distribution.\n",
    "\n",
    "A really good demonstration would also try varying `n`. So take a moment to do that. When `n` increases or decreases, do the two distributions continue to converge?"
   ]
  },
  {
   "cell_type": "code",
   "execution_count": 19,
   "id": "ecb0375e",
   "metadata": {},
   "outputs": [],
   "source": [
    "### Some code cells to study the n parameter with. Go ahead and try it."
   ]
  },
  {
   "cell_type": "code",
   "execution_count": null,
   "id": "7bf25baa",
   "metadata": {},
   "outputs": [],
   "source": []
  },
  {
   "cell_type": "code",
   "execution_count": null,
   "id": "a215ff66",
   "metadata": {},
   "outputs": [],
   "source": []
  },
  {
   "cell_type": "code",
   "execution_count": null,
   "id": "4b806b06",
   "metadata": {},
   "outputs": [],
   "source": []
  },
  {
   "cell_type": "markdown",
   "id": "92b187c7",
   "metadata": {},
   "source": [
    "## Sampling in scipy\n",
    "\n",
    "One really nice features of simulations is that they can show us hypothetical experimental results. This let's us train our intuitions about the experimental context before we even run the experiment. Like this:"
   ]
  },
  {
   "cell_type": "code",
   "execution_count": 20,
   "id": "ca9d8b39",
   "metadata": {},
   "outputs": [
    {
     "data": {
      "text/plain": [
       "3"
      ]
     },
     "execution_count": 20,
     "metadata": {},
     "output_type": "execute_result"
    }
   ],
   "source": [
    "sum(simulate_bristol(0.5,8))"
   ]
  },
  {
   "cell_type": "markdown",
   "id": "e6c67e5a",
   "metadata": {},
   "source": [
    "Scipy can do the same thing."
   ]
  },
  {
   "cell_type": "code",
   "execution_count": 21,
   "id": "68b6f36a",
   "metadata": {},
   "outputs": [
    {
     "data": {
      "text/plain": [
       "4"
      ]
     },
     "execution_count": 21,
     "metadata": {},
     "output_type": "execute_result"
    }
   ],
   "source": [
    "stats.binom(n=8,p=0.5).rvs()"
   ]
  },
  {
   "cell_type": "markdown",
   "id": "25157050",
   "metadata": {},
   "source": [
    "`rvs()` stands for random value sample. So it gives you a random value according to the binomial distribution. This means it is a lot like `np.random.random()` and `np.random.choice()`. The difference between all these functions are the range of outcomes you might get and the probability distribution over those outcomes. We won't use sampling functions much right away but in the long run they'll be tremendously useful."
   ]
  },
  {
   "cell_type": "markdown",
   "id": "39b2e829",
   "metadata": {},
   "source": [
    "## My little rant about why the emphasis on mathematical formulas is harmful\n",
    "\n",
    "I want to be clear this is a course in *computational modeling* and *computational statistics*, rather than a course in mathematical modeling and mathematical statistics. I do this for two reasons:\n",
    "\n",
    "**First**, math constrains your imagination. 30 years ago, if you wanted to develop formal models in any science, your main weapon would be algebra. You would write down some assumptions, convert them to mathematical expressions and rearrange them until you discovered something compact and useful. It's an incredibly hard skill. It requires a tremendous amount of imagination and cleverness. Most scientists don't have the time or raw talent to also be trained as mathematicians. \n",
    "\n",
    "What happens instead is that scientists don't really build their own models. They hear about a model from someone else in their field and know of its uses. So psychologists might hear about the binomial distribution and how it can be used to measure experimental effects. But when a psychologist confronts a scentific process that doesn't conform to the binomial distribution, they often don't know where to go next. They cannot invent a variant of binomial distribution at will. So they either give up or pretend the binomial distribution is alright. Mathematical tools become inflexible over time as they are handed around throughout the scientific community. In a short while, we'll immediately see how common it is to confront processes that do not behave binomially.\n",
    "\n",
    "Simulations by contrast admit much easier modifications. Proofs are unnecessary. Algebra is nice but also unnecessary. We can dream up far more in a computer simulation and implement it immediately than we can with math.\n",
    "\n",
    "**Second**, it hides the causal story that lives beneath the model. The AI researcher Judea Pearl has often pointed out that humans are really good a reasoning *causally*. We are good at making up stories about why things happened. We aren't very good at reasoning mathematically. Math doesn't really have causal directions built into it. \n",
    "\n",
    "$$ y = a + b*x $$\n",
    "\n",
    "You can interpret this expression as x causes y. But you can also interpret it as y causes x. Who is on which side of the equals sign doesn't actually matter. This is exactly the same expression but it makes y look more causal.\n",
    "\n",
    "$$x = \\frac{1}{b} (y - a) $$\n",
    "\n",
    "Computer-simulation based models fit more closely with our natural style of reasoning. You tell a story. Then you encode that story into some code. You're good to go.\n",
    "\n",
    "At rock bottom, mathematical probability distributions are also built on top of stories. But it's much harder to see what they are supposed to be. Only a really skilled thinker can look at this expression and see how it connects to a causal story about an algae scientist named Murial Bristol.\n",
    "\n",
    "$$ P(p,n,k) = \\frac{n!}{k!(n-k)!} p^{k} (1-p)^{n-k} $$\n",
    "\n",
    "In this class, we want our attention to be one the stories we tell about human behavior, not on the mathematical abstractions that are built on top of those stories. Eventually it's nice to know that there are formula available. But we'll only help ourselves to the formula once we have the story clear."
   ]
  },
  {
   "cell_type": "markdown",
   "id": "3c4d8333",
   "metadata": {},
   "source": [
    "# Robustness analysis\n",
    "\n",
    "This brings us to our final topic of the lecture. Robustness analysis is when we adjust details of our story and see how the behavior of our model changes. All models involve some kind of simplifications. We assume things because they make the programming easier. Sometimes we assume things because we are pretty sure the world is like that, but we don't know for sure. In both cases, it can be helpful to revisit our assumptions and see if the behavior of the model changes a lot, a little, or not at all.\n",
    "\n",
    "Recall the two big assumptions that went into the simulation. \n",
    "\n",
    "- On each cup, she has some level of accuracy.\n",
    "- The accuracy stays constant throughout the course of the experiment.\n",
    "\n",
    "We noted that the second assumption is questionable. When people have a skill, does that skill really stay constant as long as they use it? Suppose Lady Bristol tasted 100 cups of tea in one sitting. Do we think her accuracy on the first cup is equal to her accuracy on the 99th cup? No, of course not. We assumed it's constant on the promise that it won't make a big difference if her accuracy varied a little bit. But how much can it vary before that assumption leads us astray?\n",
    "\n",
    "Think up a list of hypotheses about how people's ability for discernment might change over the course of the experiment. They don't have to be super realistic. They just have to be possible theories. We'll turn to assessing these theories latter on. I'm going to fill in the first one but you should a few of your own. The unit assessment will ask you to pick up one of your own theories and evaluate it.\n",
    "\n",
    "- In basketball, sometimes people will say a player has \"hot hands\". When they get a few early baskets, their confidence goes up and they start playing really well. So it's like each time they score, their accuracy increases. Similarly, in Poker they have a phrase \"going on tilt\". An early loss will disrupt a player's concentration, hurt their confidence, and lead to further losses.\n",
    "-\n",
    "-\n",
    "-\n",
    "\n",
    "\n",
    "We'll leave off there. We'll start implementing the model first thing Wednesday."
   ]
  }
 ],
 "metadata": {
  "kernelspec": {
   "display_name": "Python 3 (ipykernel)",
   "language": "python",
   "name": "python3"
  },
  "language_info": {
   "codemirror_mode": {
    "name": "ipython",
    "version": 3
   },
   "file_extension": ".py",
   "mimetype": "text/x-python",
   "name": "python",
   "nbconvert_exporter": "python",
   "pygments_lexer": "ipython3",
   "version": "3.9.15"
  },
  "toc": {
   "base_numbering": 1,
   "nav_menu": {},
   "number_sections": true,
   "sideBar": true,
   "skip_h1_title": false,
   "title_cell": "Table of Contents",
   "title_sidebar": "Contents",
   "toc_cell": false,
   "toc_position": {},
   "toc_section_display": true,
   "toc_window_display": true
  }
 },
 "nbformat": 4,
 "nbformat_minor": 5
}
