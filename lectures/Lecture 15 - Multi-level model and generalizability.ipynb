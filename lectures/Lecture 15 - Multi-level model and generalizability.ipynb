{
 "cells": [
  {
   "cell_type": "markdown",
   "metadata": {},
   "source": [
    "# The Problem\n",
    "\n",
    "In the last lecture, we noticed that scientific proverbs are good at providing general guidance. But inevitably we run into cases where the proverbs don't provide clear guidance. Proverbs around representative sampling are similarly unhelpful. Here is an entry out of a little [medical resource](https://www.understandinghealthresearch.org/useful-information/common-sources-of-bias-2):\n",
    "\n",
    "> Research samples can sometimes under-represent certain people or groups, and over–represent others. This is called sample selection bias. The best way to select people for research is using the basis of chance, in other words, so that everyone in the population being investigated has an equal chance of being selected. This is called randomisation, because people are randomly selected to take part in the study.\n",
    "\n",
    "In real life, we never have the option of selecting from a pool of everyone by chance. Normally, we cannot even get close to the ideal. Just think about how hard it would be to even get a complete list of Canadian citizens with contact information. Instead, behavioural science researchers rely on \"convenience samples\" of university students in North American and Europe. The Henrich, Heine, and Norenzayan piece goes further and describes the typical psychology sample as WEIRD (Western, Educated, Industrialized, Rich and Democratic). The response to this practice often heads towards extremes - some might say \"nearly all behavioural science research is worthless.\" Other disagree and ask \"what else are you going to do? Some data is better than no data.\"\n",
    "\n",
    "It would help if could have a framework to know what we can make of such samples - how much evidential value do they carry? Under what assumptions? We have two tools at our disposal:\n",
    "\n",
    "- Empirical data on similar psychological phenomena\n",
    "- Multi-level models to represent cross-cultural effect heterogeneity\n",
    "\n",
    "This lecture will be mostly focused on the model side. The reading provides an extremely detailed discussion about which effects tend to show cross-cultural similarities and differences. Models are just formalized assumptions. You have know stuff to make good assumptions. So the reading provides the raw material that we will synthesize into the model."
   ]
  },
  {
   "cell_type": "markdown",
   "metadata": {},
   "source": [
    "# How to combine data from two different populations?\n",
    "\n",
    "Imagine we've already conducted the Asch conformity experiment at Swathmore college. Now we want to explore how much the effect varies around the world - do most cultures have a similar number of conformists? Or, is there a lot of cross-cultural variety? A good test case would be India. It has a more collectivist culture than America does. There are multi-century long processes that have created stable and strong cultural differences. So it is plausible that people tend to conform to group judgements more in India. How should we construct a model though? It will take a long time we before we have a sensible model that can explore this questions so prepare for quite the journey.\n",
    "\n",
    "We have a lot of set up to do, first packages."
   ]
  },
  {
   "cell_type": "code",
   "execution_count": 1,
   "metadata": {},
   "outputs": [],
   "source": [
    "import numpy as np\n",
    "import scipy.stats as stats\n",
    "import matplotlib.pyplot as plt\n",
    "import pymc as pm\n",
    "import arviz as az"
   ]
  },
  {
   "cell_type": "markdown",
   "metadata": {},
   "source": [
    "Second, reload the US asch data."
   ]
  },
  {
   "cell_type": "code",
   "execution_count": 2,
   "metadata": {},
   "outputs": [],
   "source": [
    "import pandas as pd\n",
    "\n",
    "url = \"https://raw.githubusercontent.com/daniel-saunders-phil/cogs-303/main/Asch_experiment_1_data\"\n",
    "\n",
    "us_data = pd.read_csv(url)\n",
    "data_treatment = us_data[us_data.treatment == 1]\n",
    "us_mistakes_treatment = data_treatment.mistakes.values"
   ]
  },
  {
   "cell_type": "markdown",
   "metadata": {},
   "source": [
    "Third, refit the old model."
   ]
  },
  {
   "cell_type": "code",
   "execution_count": 3,
   "metadata": {},
   "outputs": [
    {
     "name": "stderr",
     "output_type": "stream",
     "text": [
      "Auto-assigning NUTS sampler...\n",
      "Initializing NUTS using jitter+adapt_diag...\n",
      "Multiprocess sampling (4 chains in 4 jobs)\n",
      "NUTS: [w, p0, p1]\n"
     ]
    },
    {
     "data": {
      "text/html": [
       "\n",
       "<style>\n",
       "    /* Turns off some styling */\n",
       "    progress {\n",
       "        /* gets rid of default border in Firefox and Opera. */\n",
       "        border: none;\n",
       "        /* Needs to be in here for Safari polyfill so background images work as expected. */\n",
       "        background-size: auto;\n",
       "    }\n",
       "    progress:not([value]), progress:not([value])::-webkit-progress-bar {\n",
       "        background: repeating-linear-gradient(45deg, #7e7e7e, #7e7e7e 10px, #5c5c5c 10px, #5c5c5c 20px);\n",
       "    }\n",
       "    .progress-bar-interrupted, .progress-bar-interrupted::-webkit-progress-bar {\n",
       "        background: #F44336;\n",
       "    }\n",
       "</style>\n"
      ],
      "text/plain": [
       "<IPython.core.display.HTML object>"
      ]
     },
     "metadata": {},
     "output_type": "display_data"
    },
    {
     "data": {
      "text/html": [
       "\n",
       "    <div>\n",
       "      <progress value='8000' class='' max='8000' style='width:300px; height:20px; vertical-align: middle;'></progress>\n",
       "      100.00% [8000/8000 00:06&lt;00:00 Sampling 4 chains, 0 divergences]\n",
       "    </div>\n",
       "    "
      ],
      "text/plain": [
       "<IPython.core.display.HTML object>"
      ]
     },
     "metadata": {},
     "output_type": "display_data"
    },
    {
     "name": "stderr",
     "output_type": "stream",
     "text": [
      "Sampling 4 chains for 1_000 tune and 1_000 draw iterations (4_000 + 4_000 draws total) took 25 seconds.\n"
     ]
    }
   ],
   "source": [
    "with pm.Model() as model_1:\n",
    "\n",
    "    # mixture weights\n",
    "\n",
    "    w = pm.Dirichlet('w',[1,1])\n",
    "\n",
    "    # mixture components\n",
    "\n",
    "    p0 = pm.Beta('p0',0.5,2) # independent component\n",
    "    p1 = pm.Beta('p1',2,0.5) # conformist component\n",
    "    components = [pm.Binomial.dist(n=12,p=p0),pm.Binomial.dist(n=12,p=p1)]\n",
    "\n",
    "    # likelihood\n",
    "\n",
    "    y = pm.Mixture('error',w=w,comp_dists=components,observed=us_mistakes_treatment)\n",
    "\n",
    "    trace_1 = pm.sample()"
   ]
  },
  {
   "cell_type": "code",
   "execution_count": 4,
   "metadata": {},
   "outputs": [
    {
     "data": {
      "text/html": [
       "<div>\n",
       "<style scoped>\n",
       "    .dataframe tbody tr th:only-of-type {\n",
       "        vertical-align: middle;\n",
       "    }\n",
       "\n",
       "    .dataframe tbody tr th {\n",
       "        vertical-align: top;\n",
       "    }\n",
       "\n",
       "    .dataframe thead th {\n",
       "        text-align: right;\n",
       "    }\n",
       "</style>\n",
       "<table border=\"1\" class=\"dataframe\">\n",
       "  <thead>\n",
       "    <tr style=\"text-align: right;\">\n",
       "      <th></th>\n",
       "      <th>mean</th>\n",
       "      <th>sd</th>\n",
       "      <th>hdi_3%</th>\n",
       "      <th>hdi_97%</th>\n",
       "      <th>mcse_mean</th>\n",
       "      <th>mcse_sd</th>\n",
       "      <th>ess_bulk</th>\n",
       "      <th>ess_tail</th>\n",
       "      <th>r_hat</th>\n",
       "    </tr>\n",
       "  </thead>\n",
       "  <tbody>\n",
       "    <tr>\n",
       "      <th>w[0]</th>\n",
       "      <td>0.604</td>\n",
       "      <td>0.080</td>\n",
       "      <td>0.449</td>\n",
       "      <td>0.748</td>\n",
       "      <td>0.002</td>\n",
       "      <td>0.001</td>\n",
       "      <td>2111.0</td>\n",
       "      <td>2674.0</td>\n",
       "      <td>1.0</td>\n",
       "    </tr>\n",
       "    <tr>\n",
       "      <th>w[1]</th>\n",
       "      <td>0.396</td>\n",
       "      <td>0.080</td>\n",
       "      <td>0.252</td>\n",
       "      <td>0.551</td>\n",
       "      <td>0.002</td>\n",
       "      <td>0.001</td>\n",
       "      <td>2111.0</td>\n",
       "      <td>2674.0</td>\n",
       "      <td>1.0</td>\n",
       "    </tr>\n",
       "    <tr>\n",
       "      <th>p0</th>\n",
       "      <td>0.117</td>\n",
       "      <td>0.024</td>\n",
       "      <td>0.076</td>\n",
       "      <td>0.165</td>\n",
       "      <td>0.001</td>\n",
       "      <td>0.000</td>\n",
       "      <td>2002.0</td>\n",
       "      <td>1735.0</td>\n",
       "      <td>1.0</td>\n",
       "    </tr>\n",
       "    <tr>\n",
       "      <th>p1</th>\n",
       "      <td>0.639</td>\n",
       "      <td>0.044</td>\n",
       "      <td>0.552</td>\n",
       "      <td>0.721</td>\n",
       "      <td>0.001</td>\n",
       "      <td>0.001</td>\n",
       "      <td>2077.0</td>\n",
       "      <td>2429.0</td>\n",
       "      <td>1.0</td>\n",
       "    </tr>\n",
       "  </tbody>\n",
       "</table>\n",
       "</div>"
      ],
      "text/plain": [
       "       mean     sd  hdi_3%  hdi_97%  mcse_mean  mcse_sd  ess_bulk  ess_tail  \\\n",
       "w[0]  0.604  0.080   0.449    0.748      0.002    0.001    2111.0    2674.0   \n",
       "w[1]  0.396  0.080   0.252    0.551      0.002    0.001    2111.0    2674.0   \n",
       "p0    0.117  0.024   0.076    0.165      0.001    0.000    2002.0    1735.0   \n",
       "p1    0.639  0.044   0.552    0.721      0.001    0.001    2077.0    2429.0   \n",
       "\n",
       "      r_hat  \n",
       "w[0]    1.0  \n",
       "w[1]    1.0  \n",
       "p0      1.0  \n",
       "p1      1.0  "
      ]
     },
     "execution_count": 4,
     "metadata": {},
     "output_type": "execute_result"
    }
   ],
   "source": [
    "az.summary(trace_1)"
   ]
  },
  {
   "cell_type": "markdown",
   "metadata": {},
   "source": [
    "Notably, we estimated that proportion of independents (non-conformist) in the American sample is around 0.6. So that's the quantity we need to pay attention to throughout this lesson. We'll assume that conformists typically make mistakes 60% of the time and that independents typically make mistakes 10% of the time.\n",
    "\n",
    "In the last lecture, we learned that a good first step is to build a simulation that generates synthetic (fake, artificial, or simulated) data. Testing out our statistical models on synthetic data can provide clues as to what the right model is. We'll reload our simulate `experiments_function` too so that we generate synthetic data."
   ]
  },
  {
   "cell_type": "code",
   "execution_count": 49,
   "metadata": {},
   "outputs": [],
   "source": [
    "def simulate_experiment(rate=0.60,independents_p=0.1,conformist_p=0.6,n=12,precision=100):\n",
    "    '''\n",
    "    rate_of_independents - what proportion of the subjects should be \n",
    "    independents, the rest are conformists.\n",
    "    independents_p - the probability of a mistake from an independent\n",
    "    conformist_p - the probability of a mistake from a conformist\n",
    "    n - the number of critical trials in the experiment\n",
    "    precision - the number of simulated people \n",
    "    '''\n",
    "\n",
    "    data = []\n",
    "\n",
    "    for i in range(precision):\n",
    "        \n",
    "        # decide whether they are independent or conformist\n",
    "        \n",
    "        if np.random.choice([1,0],p=[rate, 1-rate]) == 1:\n",
    "            \n",
    "            # they are an independent\n",
    "            # then their errors come from a binomial\n",
    "            # with a very low error rate\n",
    "            \n",
    "            errors = stats.binom(p=independents_p,n=n).rvs()\n",
    "            \n",
    "        else:\n",
    "            \n",
    "            # they are a conformist\n",
    "            # then their errors come from a binomial\n",
    "            # with a high error rate\n",
    "\n",
    "            errors = stats.binom(p=conformist_p,n=n).rvs()\n",
    "            \n",
    "        data.append(errors)\n",
    "\n",
    "    return np.array(data)"
   ]
  },
  {
   "cell_type": "markdown",
   "metadata": {},
   "source": [
    "Let's assume the proportion of independents is smaller in India, at 0.4."
   ]
  },
  {
   "cell_type": "code",
   "execution_count": 6,
   "metadata": {},
   "outputs": [],
   "source": [
    "# I'm adding a random seed. \n",
    "# This fixes the random number generators in numpy/scipy\n",
    "# so that they produce the same results\n",
    "# if you run the cells in the same order\n",
    "# below I talk about specific results\n",
    "# so I need them to be fairly stable\n",
    "\n",
    "seed = np.random.seed(13579) \n",
    "india_data = simulate_experiment(rate=0.4,independents_p=0.1,conformist_p=0.6,n=12,precision=50)"
   ]
  },
  {
   "cell_type": "markdown",
   "metadata": {},
   "source": [
    "We can see that there are more mistakes made overall and fewer people are bunched up near 0 mistakes."
   ]
  },
  {
   "cell_type": "code",
   "execution_count": null,
   "metadata": {},
   "outputs": [],
   "source": [
    "mistakes = list(india_data)\n",
    "outcomes = range(13)\n",
    "counts = []\n",
    "\n",
    "for i in outcomes:\n",
    "  matches = mistakes.count(i)\n",
    "  counts.append(matches)\n",
    "\n",
    "plt.bar(outcomes,counts)"
   ]
  },
  {
   "cell_type": "markdown",
   "metadata": {},
   "source": [
    "We've done the necessary setup. We have two different datasets. The question I want to explore for the next while is:\n",
    "\n",
    "*What is the right way to combine our US and India data?*\n",
    "\n",
    "We have three options:\n",
    "1. Estimate one model, combining all the data into a single group\n",
    "2. Estimate two seperate models, keeping all the data seperate\n",
    "3. A multi-level model.\n",
    "\n",
    "It's a tricky question between the natural thing to do is either (1) or (2). I want to show you that neither one is sensible and a multilevel model is the best way to go. Once we have multi-level models, we'll be able to revisit our problem about generalizability."
   ]
  },
  {
   "cell_type": "markdown",
   "metadata": {},
   "source": [
    "## Combine the data, one model\n",
    "\n",
    "Combining all the data has a very natural motivation. In previous discussions of priors, we've talked about how you can use past studies to help inform your priors. After all, if you've done a study in the past, the posterior you learned in that study *should* be the prior you take with you into the new study. If you don't use that well-informed prior, it is like forgetting what we have already learned. That violates one of principles of designing good priors - (1) use what you know.\n",
    "\n",
    "If you plug all your data into one model, it does exactly that. It learns everything there is to learn from the us data and then turns to the india data and learns from that too.\n",
    "\n",
    "Visually, our combined that looks like this."
   ]
  },
  {
   "cell_type": "code",
   "execution_count": 6,
   "metadata": {},
   "outputs": [
    {
     "data": {
      "text/plain": [
       "<BarContainer object of 13 artists>"
      ]
     },
     "execution_count": 6,
     "metadata": {},
     "output_type": "execute_result"
    },
    {
     "data": {
      "image/png": "[encoded data removed]",
      "text/plain": [
       "<Figure size 640x480 with 1 Axes>"
      ]
     },
     "metadata": {},
     "output_type": "display_data"
    }
   ],
   "source": [
    "# np.concatenate joins to arrays together\n",
    "\n",
    "combined_data = np.concatenate((india_data,us_mistakes_treatment))\n",
    "\n",
    "# visualized the combined_data\n",
    "\n",
    "mistakes = list(combined_data)\n",
    "\n",
    "outcomes = range(13)\n",
    "counts = []\n",
    "\n",
    "for i in outcomes:\n",
    "  matches = mistakes.count(i)\n",
    "  counts.append(matches)\n",
    "\n",
    "plt.bar(outcomes,counts)"
   ]
  },
  {
   "cell_type": "markdown",
   "metadata": {},
   "source": [
    "Coding up the model only requires switching out the name of the dataset"
   ]
  },
  {
   "cell_type": "code",
   "execution_count": 28,
   "metadata": {},
   "outputs": [
    {
     "name": "stderr",
     "output_type": "stream",
     "text": [
      "Auto-assigning NUTS sampler...\n",
      "Initializing NUTS using jitter+adapt_diag...\n",
      "Multiprocess sampling (4 chains in 4 jobs)\n",
      "NUTS: [w, p0, p1]\n"
     ]
    },
    {
     "data": {
      "text/html": [
       "\n",
       "<style>\n",
       "    /* Turns off some styling */\n",
       "    progress {\n",
       "        /* gets rid of default border in Firefox and Opera. */\n",
       "        border: none;\n",
       "        /* Needs to be in here for Safari polyfill so background images work as expected. */\n",
       "        background-size: auto;\n",
       "    }\n",
       "    progress:not([value]), progress:not([value])::-webkit-progress-bar {\n",
       "        background: repeating-linear-gradient(45deg, #7e7e7e, #7e7e7e 10px, #5c5c5c 10px, #5c5c5c 20px);\n",
       "    }\n",
       "    .progress-bar-interrupted, .progress-bar-interrupted::-webkit-progress-bar {\n",
       "        background: #F44336;\n",
       "    }\n",
       "</style>\n"
      ],
      "text/plain": [
       "<IPython.core.display.HTML object>"
      ]
     },
     "metadata": {},
     "output_type": "display_data"
    },
    {
     "data": {
      "text/html": [
       "\n",
       "    <div>\n",
       "      <progress value='8000' class='' max='8000' style='width:300px; height:20px; vertical-align: middle;'></progress>\n",
       "      100.00% [8000/8000 00:05&lt;00:00 Sampling 4 chains, 0 divergences]\n",
       "    </div>\n",
       "    "
      ],
      "text/plain": [
       "<IPython.core.display.HTML object>"
      ]
     },
     "metadata": {},
     "output_type": "display_data"
    },
    {
     "name": "stderr",
     "output_type": "stream",
     "text": [
      "Sampling 4 chains for 1_000 tune and 1_000 draw iterations (4_000 + 4_000 draws total) took 23 seconds.\n"
     ]
    }
   ],
   "source": [
    "with pm.Model() as model_combined:\n",
    "\n",
    "    # mixture weights\n",
    "\n",
    "    w = pm.Dirichlet('w',[1,1])\n",
    "\n",
    "    # mixture components\n",
    "\n",
    "    p0 = pm.Beta('p0',0.5,2) # independent component\n",
    "    p1 = pm.Beta('p1',2,0.5) # conformist component\n",
    "    components = [pm.Binomial.dist(n=12,p=p0),pm.Binomial.dist(n=12,p=p1)]\n",
    "\n",
    "    # likelihood\n",
    "\n",
    "    y = pm.Mixture('error',w=w,comp_dists=components,observed=combined_data)\n",
    "\n",
    "    trace_combined = pm.sample()"
   ]
  },
  {
   "cell_type": "code",
   "execution_count": 29,
   "metadata": {},
   "outputs": [
    {
     "data": {
      "text/html": [
       "<div>\n",
       "<style scoped>\n",
       "    .dataframe tbody tr th:only-of-type {\n",
       "        vertical-align: middle;\n",
       "    }\n",
       "\n",
       "    .dataframe tbody tr th {\n",
       "        vertical-align: top;\n",
       "    }\n",
       "\n",
       "    .dataframe thead th {\n",
       "        text-align: right;\n",
       "    }\n",
       "</style>\n",
       "<table border=\"1\" class=\"dataframe\">\n",
       "  <thead>\n",
       "    <tr style=\"text-align: right;\">\n",
       "      <th></th>\n",
       "      <th>mean</th>\n",
       "      <th>sd</th>\n",
       "      <th>hdi_3%</th>\n",
       "      <th>hdi_97%</th>\n",
       "      <th>mcse_mean</th>\n",
       "      <th>mcse_sd</th>\n",
       "      <th>ess_bulk</th>\n",
       "      <th>ess_tail</th>\n",
       "      <th>r_hat</th>\n",
       "    </tr>\n",
       "  </thead>\n",
       "  <tbody>\n",
       "    <tr>\n",
       "      <th>w[0]</th>\n",
       "      <td>0.534</td>\n",
       "      <td>0.056</td>\n",
       "      <td>0.434</td>\n",
       "      <td>0.644</td>\n",
       "      <td>0.001</td>\n",
       "      <td>0.001</td>\n",
       "      <td>3534.0</td>\n",
       "      <td>2564.0</td>\n",
       "      <td>1.0</td>\n",
       "    </tr>\n",
       "    <tr>\n",
       "      <th>w[1]</th>\n",
       "      <td>0.466</td>\n",
       "      <td>0.056</td>\n",
       "      <td>0.356</td>\n",
       "      <td>0.566</td>\n",
       "      <td>0.001</td>\n",
       "      <td>0.001</td>\n",
       "      <td>3534.0</td>\n",
       "      <td>2564.0</td>\n",
       "      <td>1.0</td>\n",
       "    </tr>\n",
       "    <tr>\n",
       "      <th>p0</th>\n",
       "      <td>0.121</td>\n",
       "      <td>0.017</td>\n",
       "      <td>0.090</td>\n",
       "      <td>0.153</td>\n",
       "      <td>0.000</td>\n",
       "      <td>0.000</td>\n",
       "      <td>2978.0</td>\n",
       "      <td>2216.0</td>\n",
       "      <td>1.0</td>\n",
       "    </tr>\n",
       "    <tr>\n",
       "      <th>p1</th>\n",
       "      <td>0.610</td>\n",
       "      <td>0.027</td>\n",
       "      <td>0.561</td>\n",
       "      <td>0.661</td>\n",
       "      <td>0.000</td>\n",
       "      <td>0.000</td>\n",
       "      <td>3716.0</td>\n",
       "      <td>3132.0</td>\n",
       "      <td>1.0</td>\n",
       "    </tr>\n",
       "  </tbody>\n",
       "</table>\n",
       "</div>"
      ],
      "text/plain": [
       "       mean     sd  hdi_3%  hdi_97%  mcse_mean  mcse_sd  ess_bulk  ess_tail  \\\n",
       "w[0]  0.534  0.056   0.434    0.644      0.001    0.001    3534.0    2564.0   \n",
       "w[1]  0.466  0.056   0.356    0.566      0.001    0.001    3534.0    2564.0   \n",
       "p0    0.121  0.017   0.090    0.153      0.000    0.000    2978.0    2216.0   \n",
       "p1    0.610  0.027   0.561    0.661      0.000    0.000    3716.0    3132.0   \n",
       "\n",
       "      r_hat  \n",
       "w[0]    1.0  \n",
       "w[1]    1.0  \n",
       "p0      1.0  \n",
       "p1      1.0  "
      ]
     },
     "execution_count": 29,
     "metadata": {},
     "output_type": "execute_result"
    }
   ],
   "source": [
    "az.summary(trace_combined)"
   ]
  },
  {
   "cell_type": "markdown",
   "metadata": {},
   "source": [
    "The summary looks reasonable. Our two samples were of similar sizes. So the resulting posterior will typically looks like the average of the two effects. The mean of the `p0` and `p1` are in the same places - as they should be. We didn't change those parameters between India and the US. The weight `w` parameters have moved to be in-between the `w` of the US (estimated to be around 0.6) and the `w` of the India (programmed to be 0.4).\n",
    "\n",
    "**The problem** - Averaging the weight parameters across the two countries covers up an important bit of structure. We know that the two countries (at least in the simulated version of India) have different weight parameters. After all, we assumed India has fewer independents than the US. When we average, we get an estimate that doesn't accurately describe either country. If we took this model back to the US and tried to predict the results of a new Asch experiment, we'd likely be off. So this exploration tells us we want a model that can capture the fact that different societies have different weight parameters."
   ]
  },
  {
   "cell_type": "markdown",
   "metadata": {},
   "source": [
    "## Seperate the data, seperate the models\n",
    "\n",
    "Noticing the problem above, we might be inclined keep the two datasets seperate and try to estimate two seperate weight parameters. \n",
    "\n",
    "This is a nice opportunity to show off some neat features of PyMC. We can use two different likelihood functions at once. Each likelihood function is allowed to share some parameters - both societies will share the same `p0`/`p1` parameters. We've assumed those parameters don't vary across cultures. If you are an independently-minded person in the US, you have the same error rate as an independently-minded person in India. This gives us a very big sample size to estimate that feature of our model.\n",
    "\n",
    "However, we can estimate seperate `w` parameters for each country and pass different `w`s to different likelihood functions."
   ]
  },
  {
   "cell_type": "code",
   "execution_count": 30,
   "metadata": {},
   "outputs": [
    {
     "name": "stderr",
     "output_type": "stream",
     "text": [
      "Auto-assigning NUTS sampler...\n",
      "Initializing NUTS using jitter+adapt_diag...\n",
      "Multiprocess sampling (4 chains in 4 jobs)\n",
      "NUTS: [w_us, w_india, p0, p1]\n"
     ]
    },
    {
     "data": {
      "text/html": [
       "\n",
       "<style>\n",
       "    /* Turns off some styling */\n",
       "    progress {\n",
       "        /* gets rid of default border in Firefox and Opera. */\n",
       "        border: none;\n",
       "        /* Needs to be in here for Safari polyfill so background images work as expected. */\n",
       "        background-size: auto;\n",
       "    }\n",
       "    progress:not([value]), progress:not([value])::-webkit-progress-bar {\n",
       "        background: repeating-linear-gradient(45deg, #7e7e7e, #7e7e7e 10px, #5c5c5c 10px, #5c5c5c 20px);\n",
       "    }\n",
       "    .progress-bar-interrupted, .progress-bar-interrupted::-webkit-progress-bar {\n",
       "        background: #F44336;\n",
       "    }\n",
       "</style>\n"
      ],
      "text/plain": [
       "<IPython.core.display.HTML object>"
      ]
     },
     "metadata": {},
     "output_type": "display_data"
    },
    {
     "data": {
      "text/html": [
       "\n",
       "    <div>\n",
       "      <progress value='8000' class='' max='8000' style='width:300px; height:20px; vertical-align: middle;'></progress>\n",
       "      100.00% [8000/8000 00:06&lt;00:00 Sampling 4 chains, 0 divergences]\n",
       "    </div>\n",
       "    "
      ],
      "text/plain": [
       "<IPython.core.display.HTML object>"
      ]
     },
     "metadata": {},
     "output_type": "display_data"
    },
    {
     "name": "stderr",
     "output_type": "stream",
     "text": [
      "Sampling 4 chains for 1_000 tune and 1_000 draw iterations (4_000 + 4_000 draws total) took 26 seconds.\n"
     ]
    }
   ],
   "source": [
    "with pm.Model() as model_seperated:\n",
    "\n",
    "    # mixture weights\n",
    "\n",
    "    w_us = pm.Dirichlet('w_us',[1,1])\n",
    "    w_india = pm.Dirichlet('w_india',[1,1])\n",
    "\n",
    "    # mixture components\n",
    "\n",
    "    p0 = pm.Beta('p0',0.5,2) # independent component\n",
    "    p1 = pm.Beta('p1',2,0.5) # conformist component\n",
    "    components = [pm.Binomial.dist(n=12,p=p0),pm.Binomial.dist(n=12,p=p1)]\n",
    "\n",
    "    # likelihood\n",
    "\n",
    "    y_us = pm.Mixture('error_us',w=w_us,comp_dists=components,observed=us_mistakes_treatment)\n",
    "    y_india = pm.Mixture('error_india',w=w_india,comp_dists=components,observed=india_data)\n",
    "\n",
    "    trace_seperated = pm.sample()"
   ]
  },
  {
   "cell_type": "markdown",
   "metadata": {},
   "source": [
    "The summary reveal that the mean `w_us` is pretty similar to where it was before (0.6). Meanwhile the mean `w_india` is close to it's true value of 0.4."
   ]
  },
  {
   "cell_type": "code",
   "execution_count": 31,
   "metadata": {},
   "outputs": [
    {
     "data": {
      "text/html": [
       "<div>\n",
       "<style scoped>\n",
       "    .dataframe tbody tr th:only-of-type {\n",
       "        vertical-align: middle;\n",
       "    }\n",
       "\n",
       "    .dataframe tbody tr th {\n",
       "        vertical-align: top;\n",
       "    }\n",
       "\n",
       "    .dataframe thead th {\n",
       "        text-align: right;\n",
       "    }\n",
       "</style>\n",
       "<table border=\"1\" class=\"dataframe\">\n",
       "  <thead>\n",
       "    <tr style=\"text-align: right;\">\n",
       "      <th></th>\n",
       "      <th>mean</th>\n",
       "      <th>sd</th>\n",
       "      <th>hdi_3%</th>\n",
       "      <th>hdi_97%</th>\n",
       "      <th>mcse_mean</th>\n",
       "      <th>mcse_sd</th>\n",
       "      <th>ess_bulk</th>\n",
       "      <th>ess_tail</th>\n",
       "      <th>r_hat</th>\n",
       "    </tr>\n",
       "  </thead>\n",
       "  <tbody>\n",
       "    <tr>\n",
       "      <th>w_us[0]</th>\n",
       "      <td>0.594</td>\n",
       "      <td>0.075</td>\n",
       "      <td>0.454</td>\n",
       "      <td>0.735</td>\n",
       "      <td>0.001</td>\n",
       "      <td>0.001</td>\n",
       "      <td>4002.0</td>\n",
       "      <td>2909.0</td>\n",
       "      <td>1.0</td>\n",
       "    </tr>\n",
       "    <tr>\n",
       "      <th>w_us[1]</th>\n",
       "      <td>0.406</td>\n",
       "      <td>0.075</td>\n",
       "      <td>0.265</td>\n",
       "      <td>0.546</td>\n",
       "      <td>0.001</td>\n",
       "      <td>0.001</td>\n",
       "      <td>4002.0</td>\n",
       "      <td>2909.0</td>\n",
       "      <td>1.0</td>\n",
       "    </tr>\n",
       "    <tr>\n",
       "      <th>w_india[0]</th>\n",
       "      <td>0.476</td>\n",
       "      <td>0.074</td>\n",
       "      <td>0.347</td>\n",
       "      <td>0.622</td>\n",
       "      <td>0.001</td>\n",
       "      <td>0.001</td>\n",
       "      <td>4561.0</td>\n",
       "      <td>3025.0</td>\n",
       "      <td>1.0</td>\n",
       "    </tr>\n",
       "    <tr>\n",
       "      <th>w_india[1]</th>\n",
       "      <td>0.524</td>\n",
       "      <td>0.074</td>\n",
       "      <td>0.378</td>\n",
       "      <td>0.653</td>\n",
       "      <td>0.001</td>\n",
       "      <td>0.001</td>\n",
       "      <td>4561.0</td>\n",
       "      <td>3025.0</td>\n",
       "      <td>1.0</td>\n",
       "    </tr>\n",
       "    <tr>\n",
       "      <th>p0</th>\n",
       "      <td>0.122</td>\n",
       "      <td>0.017</td>\n",
       "      <td>0.090</td>\n",
       "      <td>0.153</td>\n",
       "      <td>0.000</td>\n",
       "      <td>0.000</td>\n",
       "      <td>3621.0</td>\n",
       "      <td>3129.0</td>\n",
       "      <td>1.0</td>\n",
       "    </tr>\n",
       "    <tr>\n",
       "      <th>p1</th>\n",
       "      <td>0.611</td>\n",
       "      <td>0.027</td>\n",
       "      <td>0.561</td>\n",
       "      <td>0.662</td>\n",
       "      <td>0.000</td>\n",
       "      <td>0.000</td>\n",
       "      <td>3397.0</td>\n",
       "      <td>2832.0</td>\n",
       "      <td>1.0</td>\n",
       "    </tr>\n",
       "  </tbody>\n",
       "</table>\n",
       "</div>"
      ],
      "text/plain": [
       "             mean     sd  hdi_3%  hdi_97%  mcse_mean  mcse_sd  ess_bulk  \\\n",
       "w_us[0]     0.594  0.075   0.454    0.735      0.001    0.001    4002.0   \n",
       "w_us[1]     0.406  0.075   0.265    0.546      0.001    0.001    4002.0   \n",
       "w_india[0]  0.476  0.074   0.347    0.622      0.001    0.001    4561.0   \n",
       "w_india[1]  0.524  0.074   0.378    0.653      0.001    0.001    4561.0   \n",
       "p0          0.122  0.017   0.090    0.153      0.000    0.000    3621.0   \n",
       "p1          0.611  0.027   0.561    0.662      0.000    0.000    3397.0   \n",
       "\n",
       "            ess_tail  r_hat  \n",
       "w_us[0]       2909.0    1.0  \n",
       "w_us[1]       2909.0    1.0  \n",
       "w_india[0]    3025.0    1.0  \n",
       "w_india[1]    3025.0    1.0  \n",
       "p0            3129.0    1.0  \n",
       "p1            2832.0    1.0  "
      ]
     },
     "execution_count": 31,
     "metadata": {},
     "output_type": "execute_result"
    }
   ],
   "source": [
    "az.summary(trace_seperated)"
   ]
  },
  {
   "cell_type": "markdown",
   "metadata": {},
   "source": [
    "**The problem**- We've already noticed a problem with this approach. It throws out prior information. We've already learned something about the `w` parameter from studying US undergrads. It would be extremely odd to think that Indian psychology is *so* different that we learn nothing about it by studying the US. Non-western cultures are not alien planets. Humans share a lot of their psychology in common across the world. Cultural influence flows back and forth between the US and India. The more the two cultures have in common, the more our prior information should matter.\n",
    "\n",
    "Moreover, imagine we try to extend our study to the next society. What should we assume about them? Do we predict they will conform to the US parameter, the India parameter, or do we just assume nothing about them at all and invent a third `w` parameter? If we treat every society as wholly seperate entity, it makes any form of generalization impossible.\n",
    "\n",
    "So we are stuck. We want to incorporate prior information. But pooling all the data together is clearly wrong. What would be really nice is if we could balance these two features. We *partially* incorporate our prior information. If we had another parameter that represents how similar the cultures are, we might be able to control the amount of cross-culture influence of the priors. "
   ]
  },
  {
   "cell_type": "markdown",
   "metadata": {},
   "source": [
    "# The Multi-level model\n",
    "\n",
    "The multi-level model does exactly that. It combines information across two or more groups while simultaneously estimating how similar the two groups are. The statistical details are intense so I'm going to introduce this model in very gentle stages. The first stage is to build a generative simulation that uses a multi-level structure.\n",
    "\n",
    "Once we start imagine that `w` parameters vary from culture to culture, it is a bit like saying we have a population of `w` parameters. If we studied 10 societies, we could draw a little picture showing the variation in `w`s."
   ]
  },
  {
   "cell_type": "code",
   "execution_count": 61,
   "metadata": {},
   "outputs": [
    {
     "data": {
      "text/plain": [
       "Text(0.5, 1.0, 'samples of weight parameters from 10 cultures')"
      ]
     },
     "execution_count": 61,
     "metadata": {},
     "output_type": "execute_result"
    },
    {
     "data": {
      "image/png": "[encoded data removed]",
      "text/plain": [
       "<Figure size 640x480 with 1 Axes>"
      ]
     },
     "metadata": {},
     "output_type": "display_data"
    }
   ],
   "source": [
    "samples = stats.beta(10,13).rvs(10)\n",
    "plt.plot(samples,np.ones(10),'o',markersize=12,alpha=0.3)\n",
    "plt.xlim([0,1])\n",
    "plt.title(\"samples of weight parameters from 10 cultures\")"
   ]
  },
  {
   "cell_type": "markdown",
   "metadata": {},
   "source": [
    "When looking at a picture like this, it is natural to say think there is some global distribution of `w` parameters. Maybe every culture is very similar. That would be a narrow distribution with low variation. Maybe they are not. That would be a wide distribution. We could even assumes it follows some specific distribution, like a beta. Here I construct a global distribution that is fairly narrow but includes `0.4` and `0.6`, so it is consistent with our US/India example."
   ]
  },
  {
   "cell_type": "code",
   "execution_count": 60,
   "metadata": {},
   "outputs": [
    {
     "data": {
      "text/plain": [
       "Text(0.5, 1.0, \"The global distribution of w's is a beta\")"
      ]
     },
     "execution_count": 60,
     "metadata": {},
     "output_type": "execute_result"
    },
    {
     "data": {
      "image/png": "[encoded data removed]",
      "text/plain": [
       "<Figure size 640x480 with 1 Axes>"
      ]
     },
     "metadata": {},
     "output_type": "display_data"
    }
   ],
   "source": [
    "grid = np.linspace(0,1,100)\n",
    "rate = stats.beta(10,13).pdf(grid)\n",
    "\n",
    "plt.plot(grid,rate)\n",
    "plt.title(\"The global distribution of w's is a beta\")"
   ]
  },
  {
   "cell_type": "markdown",
   "metadata": {},
   "source": [
    "Now here is the core idea of the simulation-side of a multi-level model. Imagine we visited three cultures from around the world at random. That is like taking three samples from a beta. Then we plugged those samples into our mixture model to generate datasets."
   ]
  },
  {
   "cell_type": "code",
   "execution_count": 30,
   "metadata": {},
   "outputs": [
    {
     "name": "stdout",
     "output_type": "stream",
     "text": [
      "weight samples:[0.5131004  0.37389834 0.50576134]\n"
     ]
    }
   ],
   "source": [
    "# multi-level simulation\n",
    "\n",
    "rate = stats.beta(18,23).rvs(3)\n",
    "\n",
    "print(\"weight samples:\" + str(rate))\n",
    "\n",
    "group_0_data = simulate_experiment(rate=rate[0])\n",
    "group_1_data = simulate_experiment(rate=rate[1])\n",
    "group_2_data = simulate_experiment(rate=rate[2])\n"
   ]
  },
  {
   "cell_type": "markdown",
   "metadata": {},
   "source": [
    "We can play with this generative model by changing the beta distribution. Below I provide a simple slider interface for exploring how the multilevel mixture behaves when we are sampling three countries."
   ]
  },
  {
   "cell_type": "code",
   "execution_count": 91,
   "metadata": {},
   "outputs": [
    {
     "data": {
      "application/vnd.jupyter.widget-view+json": {
       "model_id": "315c411f0f9b4408bc2695889a31513b",
       "version_major": 2,
       "version_minor": 0
      },
      "text/plain": [
       "interactive(children=(FloatSlider(value=2.0, description='a', max=50.0), FloatSlider(value=2.0, description='b…"
      ]
     },
     "metadata": {},
     "output_type": "display_data"
    }
   ],
   "source": [
    "import ipywidgets as widgets\n",
    "\n",
    "def draw_multilevel_mixture(a,b,p0,p1):\n",
    "    fig = plt.figure(constrained_layout=True).subplot_mosaic(\n",
    "        \"\"\"\n",
    "        AAA\n",
    "        BCD\n",
    "        \"\"\")\n",
    "\n",
    "    global_dist = stats.beta(a,b)\n",
    "\n",
    "    x = np.linspace(0,1,400)\n",
    "    y = global_dist.pdf(x)\n",
    "    y = y / sum(y)\n",
    "\n",
    "    fig['A'].plot(x,y)\n",
    "\n",
    "    ids = np.array([0,1,2])\n",
    "\n",
    "    plot_id = ['B','C','D']\n",
    "    plot_colors = ['tab:orange','tab:pink','tab:green']\n",
    "\n",
    "    for i in range(3):\n",
    "        rate = global_dist.rvs()\n",
    "        print(\"w:\" +str(rate))\n",
    "        subgroup_data = simulate_experiment(rate=rate,independents_p=p0,conformist_p=p1,n=12,precision=50)\n",
    "        \n",
    "        fig['A'].plot(rate,[0],'o',color=plot_colors[i])\n",
    "        fig[plot_id[i]].hist(subgroup_data,width=0.85,bins=10,color=plot_colors[i],density=True)\n",
    "        fig[plot_id[i]].set_ylim([0,0.4])\n",
    "\n",
    "widgets.interact_manual(draw_multilevel_mixture,\n",
    "                a=widgets.FloatSlider(min=0,max=50,step=0.1,value=2),\n",
    "                b=widgets.FloatSlider(min=0,max=50,step=0.1,value=2),\n",
    "                p0=widgets.FloatSlider(min=0, max=1, step=0.01, value=0.5),\n",
    "                p1=widgets.FloatSlider(min=0, max=1, step=0.01, value=0.5));"
   ]
  },
  {
   "cell_type": "markdown",
   "metadata": {},
   "source": [
    "This tool illustrates the big innovation of multi-level models. In normal statistical modeling, we assume that the data comes from some distribution and we use try to figure out which one. In multi-level modeling, we also assume the parameters themselves are random samples from a distribution. Each time you run the widget above, you get different random samples of the `w` parameters. If the parameters comes from a distribution, maybe we can estimate what that distribution is like, in exactly the same way we estimate which distribution the data came from."
   ]
  },
  {
   "cell_type": "markdown",
   "metadata": {},
   "source": [
    "## Programming a multi-level model in PyMC\n",
    "\n",
    "Here's a multilevel model in PyMC."
   ]
  },
  {
   "cell_type": "code",
   "execution_count": 31,
   "metadata": {},
   "outputs": [],
   "source": [
    "with pm.Model() as model_multilevel_1:\n",
    "\n",
    "    # global population priors\n",
    "\n",
    "    a = pm.Gamma('a',3,1)\n",
    "    b = pm.Gamma('b',3,1)\n",
    "\n",
    "    # mixture weights\n",
    "\n",
    "    w0 = pm.Dirichlet('w0',[a,b])\n",
    "    w1 = pm.Dirichlet('w1',[a,b])\n",
    "    w2 = pm.Dirichlet('w2',[a,b])\n",
    "\n",
    "    # mixture components\n",
    "\n",
    "    p0 = pm.Beta('p0',0.5,2) # independent component\n",
    "    p1 = pm.Beta('p1',2,0.5) # conformist component\n",
    "    components = [pm.Binomial.dist(n=12,p=p0),pm.Binomial.dist(n=12,p=p1)]\n",
    "\n",
    "    # likelihood\n",
    "\n",
    "    y0 = pm.Mixture('error_0',w=w0,comp_dists=components,observed=group_0_data)\n",
    "    y1 = pm.Mixture('error_1',w=w1,comp_dists=components,observed=group_1_data)\n",
    "    y2 = pm.Mixture('error_2',w=w2,comp_dists=components,observed=group_2_data)"
   ]
  },
  {
   "cell_type": "markdown",
   "metadata": {},
   "source": [
    "It should look quite familiar. Most of it follows the pattern we established in *Seperate the data, seperate the models*. The key difference is this - before the priors for the mixture weights (the Dirichlet distributions) had *numbers* in there. Now the priors have parameters in there `[a,b]`. Those parameters describe the global distribution of `w`. They are the same `a,b` from the widget above. That shows that we are uncertain about what parameters to plug into the priors. Moreover, these `a,b` parameters are shared across all three societies. When we learn about their value in the US, it shapes their value in India too. \n",
    "\n",
    "Okay but if we have parameters in a model, we need priors to describe those parameters. Those are the Gamma priors. This is the really difficult part of multilevel modeling. Priors inside priors. *hyperpriors* are priors that describe the parameters inside other priors. It feels like madness. Whenever the math starts to float away from you, find a way to touch grass. Remember that these hyperpriors are just represent the range of plausible global distributions. So when we tune them, all we need to do is think about what the plausible global distributions of `w` parameters might look like. Or simply, how conformist could cultures plausibly be?"
   ]
  },
  {
   "cell_type": "markdown",
   "metadata": {},
   "source": [
    "### Tuning the priors\n",
    "\n",
    "In the previous lecture, we learned about how we can tune prior distributions through visualization. Let's take a look at what our hyperpriors imply about the global distribution of `w`. If we take a single random draw from our hyperpriors, it generates this prior distribution for `w`."
   ]
  },
  {
   "cell_type": "code",
   "execution_count": 22,
   "metadata": {},
   "outputs": [
    {
     "data": {
      "text/plain": [
       "[<matplotlib.lines.Line2D at 0x10a50f28510>]"
      ]
     },
     "execution_count": 22,
     "metadata": {},
     "output_type": "execute_result"
    },
    {
     "data": {
      "image/png": "[encoded data removed]",
      "text/plain": [
       "<Figure size 640x480 with 1 Axes>"
      ]
     },
     "metadata": {},
     "output_type": "display_data"
    }
   ],
   "source": [
    "a_sample, b_sample = pm.draw([a,b])\n",
    "\n",
    "grid = np.linspace(0,1,100)\n",
    "rate = stats.beta(a_sample,b_sample).pdf(grid)\n",
    "\n",
    "plt.plot(grid,rate)"
   ]
  },
  {
   "cell_type": "markdown",
   "metadata": {},
   "source": [
    "Rerunning the cell above several times can generate intuition for what the typical draw looks like. Even better, we can look at a bunch of draws at once."
   ]
  },
  {
   "cell_type": "code",
   "execution_count": 23,
   "metadata": {},
   "outputs": [
    {
     "data": {
      "image/png": "[encoded data removed]",
      "text/plain": [
       "<Figure size 640x480 with 1 Axes>"
      ]
     },
     "metadata": {},
     "output_type": "display_data"
    }
   ],
   "source": [
    "a_samples,b_samples = pm.draw([a,b],draws=30)\n",
    "grid = np.linspace(0,1,100)\n",
    "\n",
    "for i in range(30):\n",
    "    rate = stats.beta(a_samples[i],b_samples[i]).pdf(grid)\n",
    "    plt.plot(grid,rate,alpha=1)"
   ]
  },
  {
   "cell_type": "markdown",
   "metadata": {},
   "source": [
    "It is clear that these are rather implausible priors. They imply extremely high variation. They discount the idea that societies could all have fairly similar levels of conformity. They also imply a fairly high level of certainty that `w` is either $0$ or $1$. I don't feel so certain myself. So these priors smuggle in a lot of assumptions that we didn't mean to assume. The solution is to tinker - we'll make adjustments to the gamma priors until they imply assumptions we find plausible. \n",
    "\n",
    "I wrote a little visualization function to make this a bit easier. We can see both of our gamma distributions on the top row and then 30 beta distributions they imply below. Tune the gamma distributions until they represent a range of possibilities you think is plausible."
   ]
  },
  {
   "cell_type": "code",
   "execution_count": 67,
   "metadata": {},
   "outputs": [
    {
     "data": {
      "image/png": "[encoded data removed]",
      "text/plain": [
       "<Figure size 640x480 with 3 Axes>"
      ]
     },
     "metadata": {},
     "output_type": "display_data"
    }
   ],
   "source": [
    "# manipulate the priors\n",
    "\n",
    "a_gamma = stats.gamma(1,scale=1)\n",
    "b_gamma = stats.gamma(1,scale=1)\n",
    "\n",
    "# plotting routine\n",
    "\n",
    "fig = plt.figure(constrained_layout=True).subplot_mosaic(\n",
    "        \"\"\"\n",
    "        AB\n",
    "        CC\n",
    "        \"\"\")\n",
    "\n",
    "gamma_grid = np.linspace(0,20,100)\n",
    "beta_grid = np.linspace(0,1,100)\n",
    "\n",
    "a_prior = a_gamma.pdf(gamma_grid)\n",
    "b_prior = b_gamma.pdf(gamma_grid)\n",
    "\n",
    "fig['A'].plot(gamma_grid,a_prior)\n",
    "fig['B'].plot(gamma_grid,b_prior)\n",
    "\n",
    "for i in range(30):\n",
    "    a = a_gamma.rvs()\n",
    "    b = b_gamma.rvs()\n",
    "\n",
    "    beta_prior = stats.beta(a,b).pdf(beta_grid)\n",
    "\n",
    "    plt.plot(beta_grid,beta_prior)"
   ]
  },
  {
   "cell_type": "markdown",
   "metadata": {},
   "source": [
    "## Estimating a multi-level model\n",
    "\n",
    "Once you feel comfortable with your hyper priors, let's test out the model on sythetic data. Remember, the goal is to see if it can recover the parameters that you plugged into a simulation to generate the data. Here `a = 10`, `b = 13`. The `w` parameters are randomly generated, but printed below the next cell. In this simulation, we'll also visit 12 cultures. We need to fairly good sample size of cultures to learn the global distribution parameters. 2 societies tells us very little. 10 is still not a lot. That's a very general problem. Hyper parameters are difficult to learn unless you have a lot of data."
   ]
  },
  {
   "cell_type": "code",
   "execution_count": 62,
   "metadata": {},
   "outputs": [
    {
     "name": "stdout",
     "output_type": "stream",
     "text": [
      "weight samples:[0.43484562 0.33845428 0.31266226 0.6253916  0.43786892 0.43185794\n",
      " 0.64384468 0.54207582 0.37926281 0.26609983]\n"
     ]
    }
   ],
   "source": [
    "# multi-level simulation\n",
    "\n",
    "rate = stats.beta(10,13).rvs(12)\n",
    "\n",
    "print(\"weight samples:\" + str(rate))\n",
    "\n",
    "global_data = []\n",
    "for i in rate:\n",
    "    culture_i = simulate_experiment(rate=i)\n",
    "    global_data.append(culture_i)"
   ]
  },
  {
   "cell_type": "markdown",
   "metadata": {},
   "source": [
    "The PyMC model gets a bit unruly. Relabeling everything by hand isn't fun!"
   ]
  },
  {
   "cell_type": "code",
   "execution_count": 63,
   "metadata": {},
   "outputs": [
    {
     "name": "stderr",
     "output_type": "stream",
     "text": [
      "Auto-assigning NUTS sampler...\n",
      "Initializing NUTS using jitter+adapt_diag...\n",
      "Multiprocess sampling (4 chains in 4 jobs)\n",
      "NUTS: [a, b, w0, w1, w2, w3, w4, w5, w6, w7, w8, w9, p0, p1]\n"
     ]
    },
    {
     "data": {
      "text/html": [
       "\n",
       "<style>\n",
       "    /* Turns off some styling */\n",
       "    progress {\n",
       "        /* gets rid of default border in Firefox and Opera. */\n",
       "        border: none;\n",
       "        /* Needs to be in here for Safari polyfill so background images work as expected. */\n",
       "        background-size: auto;\n",
       "    }\n",
       "    progress:not([value]), progress:not([value])::-webkit-progress-bar {\n",
       "        background: repeating-linear-gradient(45deg, #7e7e7e, #7e7e7e 10px, #5c5c5c 10px, #5c5c5c 20px);\n",
       "    }\n",
       "    .progress-bar-interrupted, .progress-bar-interrupted::-webkit-progress-bar {\n",
       "        background: #F44336;\n",
       "    }\n",
       "</style>\n"
      ],
      "text/plain": [
       "<IPython.core.display.HTML object>"
      ]
     },
     "metadata": {},
     "output_type": "display_data"
    },
    {
     "data": {
      "text/html": [
       "\n",
       "    <div>\n",
       "      <progress value='8000' class='' max='8000' style='width:300px; height:20px; vertical-align: middle;'></progress>\n",
       "      100.00% [8000/8000 00:33&lt;00:00 Sampling 4 chains, 0 divergences]\n",
       "    </div>\n",
       "    "
      ],
      "text/plain": [
       "<IPython.core.display.HTML object>"
      ]
     },
     "metadata": {},
     "output_type": "display_data"
    },
    {
     "name": "stderr",
     "output_type": "stream",
     "text": [
      "Sampling 4 chains for 1_000 tune and 1_000 draw iterations (4_000 + 4_000 draws total) took 51 seconds.\n"
     ]
    }
   ],
   "source": [
    "with pm.Model() as model_multilevel_2:\n",
    "\n",
    "    # global population priors\n",
    "\n",
    "    a = pm.Gamma('a',6,1)\n",
    "    b = pm.Gamma('b',6,1)\n",
    "\n",
    "    # mixture weights\n",
    "\n",
    "    w0 = pm.Dirichlet('w0',[a,b])\n",
    "    w1 = pm.Dirichlet('w1',[a,b])\n",
    "    w2 = pm.Dirichlet('w2',[a,b])\n",
    "    w3 = pm.Dirichlet('w3',[a,b])\n",
    "    w4 = pm.Dirichlet('w4',[a,b])\n",
    "    w5 = pm.Dirichlet('w5',[a,b])\n",
    "    w6 = pm.Dirichlet('w6',[a,b])\n",
    "    w7 = pm.Dirichlet('w7',[a,b])\n",
    "    w8 = pm.Dirichlet('w8',[a,b])\n",
    "    w9 = pm.Dirichlet('w9',[a,b])\n",
    "    w10 = pm.Dirichlet('w10',[a,b])\n",
    "    w11 = pm.Dirichlet('w11',[a,b])\n",
    "\n",
    "    # mixture components\n",
    "\n",
    "    p0 = pm.Beta('p0',0.5,2) # independent component\n",
    "    p1 = pm.Beta('p1',2,0.5) # conformist component\n",
    "    components = [pm.Binomial.dist(n=12,p=p0),pm.Binomial.dist(n=12,p=p1)]\n",
    "\n",
    "    # likelihood\n",
    "\n",
    "    pm.Mixture('error_0',w=w0,comp_dists=components,observed=global_data[0])\n",
    "    pm.Mixture('error_1',w=w1,comp_dists=components,observed=global_data[1])\n",
    "    pm.Mixture('error_2',w=w2,comp_dists=components,observed=global_data[2])\n",
    "    pm.Mixture('error_3',w=w3,comp_dists=components,observed=global_data[3])\n",
    "    pm.Mixture('error_4',w=w4,comp_dists=components,observed=global_data[4])\n",
    "    pm.Mixture('error_5',w=w5,comp_dists=components,observed=global_data[5])\n",
    "    pm.Mixture('error_6',w=w6,comp_dists=components,observed=global_data[6])\n",
    "    pm.Mixture('error_7',w=w7,comp_dists=components,observed=global_data[7])\n",
    "    pm.Mixture('error_8',w=w8,comp_dists=components,observed=global_data[8])\n",
    "    pm.Mixture('error_9',w=w9,comp_dists=components,observed=global_data[9])\n",
    "    pm.Mixture('error_10',w=w10,comp_dists=components,observed=global_data[10])\n",
    "    pm.Mixture('error_11',w=w11,comp_dists=components,observed=global_data[11])\n",
    "\n",
    "    trace_multilevel = pm.sample()"
   ]
  },
  {
   "cell_type": "markdown",
   "metadata": {},
   "source": [
    "I'm going to filter the output of the summary a little bit so it's eaiser to read. The Dirichlet always produces `w[0]`, `w[1]`. I'm dropping the `w[1]`s. They are always complimentary with `w[0]`."
   ]
  },
  {
   "cell_type": "code",
   "execution_count": 90,
   "metadata": {},
   "outputs": [
    {
     "data": {
      "text/html": [
       "<div>\n",
       "<style scoped>\n",
       "    .dataframe tbody tr th:only-of-type {\n",
       "        vertical-align: middle;\n",
       "    }\n",
       "\n",
       "    .dataframe tbody tr th {\n",
       "        vertical-align: top;\n",
       "    }\n",
       "\n",
       "    .dataframe thead th {\n",
       "        text-align: right;\n",
       "    }\n",
       "</style>\n",
       "<table border=\"1\" class=\"dataframe\">\n",
       "  <thead>\n",
       "    <tr style=\"text-align: right;\">\n",
       "      <th></th>\n",
       "      <th>mean</th>\n",
       "      <th>sd</th>\n",
       "      <th>hdi_3%</th>\n",
       "      <th>hdi_97%</th>\n",
       "      <th>mcse_mean</th>\n",
       "      <th>mcse_sd</th>\n",
       "      <th>ess_bulk</th>\n",
       "      <th>ess_tail</th>\n",
       "      <th>r_hat</th>\n",
       "    </tr>\n",
       "  </thead>\n",
       "  <tbody>\n",
       "    <tr>\n",
       "      <th>a</th>\n",
       "      <td>5.823</td>\n",
       "      <td>1.536</td>\n",
       "      <td>3.107</td>\n",
       "      <td>8.684</td>\n",
       "      <td>0.025</td>\n",
       "      <td>0.017</td>\n",
       "      <td>3889.0</td>\n",
       "      <td>3078.0</td>\n",
       "      <td>1.00</td>\n",
       "    </tr>\n",
       "    <tr>\n",
       "      <th>b</th>\n",
       "      <td>7.013</td>\n",
       "      <td>1.867</td>\n",
       "      <td>3.658</td>\n",
       "      <td>10.412</td>\n",
       "      <td>0.030</td>\n",
       "      <td>0.022</td>\n",
       "      <td>3913.0</td>\n",
       "      <td>2870.0</td>\n",
       "      <td>1.00</td>\n",
       "    </tr>\n",
       "    <tr>\n",
       "      <th>w0[0]</th>\n",
       "      <td>0.520</td>\n",
       "      <td>0.052</td>\n",
       "      <td>0.419</td>\n",
       "      <td>0.612</td>\n",
       "      <td>0.001</td>\n",
       "      <td>0.000</td>\n",
       "      <td>6813.0</td>\n",
       "      <td>2496.0</td>\n",
       "      <td>1.00</td>\n",
       "    </tr>\n",
       "    <tr>\n",
       "      <th>w1[0]</th>\n",
       "      <td>0.365</td>\n",
       "      <td>0.049</td>\n",
       "      <td>0.273</td>\n",
       "      <td>0.458</td>\n",
       "      <td>0.001</td>\n",
       "      <td>0.000</td>\n",
       "      <td>6448.0</td>\n",
       "      <td>2945.0</td>\n",
       "      <td>1.00</td>\n",
       "    </tr>\n",
       "    <tr>\n",
       "      <th>w2[0]</th>\n",
       "      <td>0.307</td>\n",
       "      <td>0.046</td>\n",
       "      <td>0.223</td>\n",
       "      <td>0.394</td>\n",
       "      <td>0.001</td>\n",
       "      <td>0.000</td>\n",
       "      <td>6555.0</td>\n",
       "      <td>3462.0</td>\n",
       "      <td>1.00</td>\n",
       "    </tr>\n",
       "    <tr>\n",
       "      <th>w3[0]</th>\n",
       "      <td>0.556</td>\n",
       "      <td>0.051</td>\n",
       "      <td>0.461</td>\n",
       "      <td>0.651</td>\n",
       "      <td>0.001</td>\n",
       "      <td>0.000</td>\n",
       "      <td>6851.0</td>\n",
       "      <td>2871.0</td>\n",
       "      <td>1.00</td>\n",
       "    </tr>\n",
       "    <tr>\n",
       "      <th>w4[0]</th>\n",
       "      <td>0.507</td>\n",
       "      <td>0.049</td>\n",
       "      <td>0.414</td>\n",
       "      <td>0.596</td>\n",
       "      <td>0.001</td>\n",
       "      <td>0.000</td>\n",
       "      <td>6950.0</td>\n",
       "      <td>2783.0</td>\n",
       "      <td>1.00</td>\n",
       "    </tr>\n",
       "    <tr>\n",
       "      <th>w5[0]</th>\n",
       "      <td>0.406</td>\n",
       "      <td>0.050</td>\n",
       "      <td>0.311</td>\n",
       "      <td>0.495</td>\n",
       "      <td>0.001</td>\n",
       "      <td>0.000</td>\n",
       "      <td>7166.0</td>\n",
       "      <td>2702.0</td>\n",
       "      <td>1.00</td>\n",
       "    </tr>\n",
       "    <tr>\n",
       "      <th>w6[0]</th>\n",
       "      <td>0.637</td>\n",
       "      <td>0.051</td>\n",
       "      <td>0.537</td>\n",
       "      <td>0.725</td>\n",
       "      <td>0.001</td>\n",
       "      <td>0.000</td>\n",
       "      <td>8526.0</td>\n",
       "      <td>3132.0</td>\n",
       "      <td>1.00</td>\n",
       "    </tr>\n",
       "    <tr>\n",
       "      <th>w7[0]</th>\n",
       "      <td>0.515</td>\n",
       "      <td>0.051</td>\n",
       "      <td>0.429</td>\n",
       "      <td>0.622</td>\n",
       "      <td>0.001</td>\n",
       "      <td>0.000</td>\n",
       "      <td>7846.0</td>\n",
       "      <td>3267.0</td>\n",
       "      <td>1.00</td>\n",
       "    </tr>\n",
       "    <tr>\n",
       "      <th>w8[0]</th>\n",
       "      <td>0.422</td>\n",
       "      <td>0.052</td>\n",
       "      <td>0.325</td>\n",
       "      <td>0.519</td>\n",
       "      <td>0.001</td>\n",
       "      <td>0.000</td>\n",
       "      <td>6498.0</td>\n",
       "      <td>2714.0</td>\n",
       "      <td>1.00</td>\n",
       "    </tr>\n",
       "    <tr>\n",
       "      <th>w9[0]</th>\n",
       "      <td>0.266</td>\n",
       "      <td>0.045</td>\n",
       "      <td>0.182</td>\n",
       "      <td>0.349</td>\n",
       "      <td>0.001</td>\n",
       "      <td>0.000</td>\n",
       "      <td>7862.0</td>\n",
       "      <td>2939.0</td>\n",
       "      <td>1.01</td>\n",
       "    </tr>\n",
       "    <tr>\n",
       "      <th>p0</th>\n",
       "      <td>0.106</td>\n",
       "      <td>0.005</td>\n",
       "      <td>0.097</td>\n",
       "      <td>0.116</td>\n",
       "      <td>0.000</td>\n",
       "      <td>0.000</td>\n",
       "      <td>6154.0</td>\n",
       "      <td>3300.0</td>\n",
       "      <td>1.00</td>\n",
       "    </tr>\n",
       "    <tr>\n",
       "      <th>p1</th>\n",
       "      <td>0.508</td>\n",
       "      <td>0.007</td>\n",
       "      <td>0.494</td>\n",
       "      <td>0.522</td>\n",
       "      <td>0.000</td>\n",
       "      <td>0.000</td>\n",
       "      <td>5728.0</td>\n",
       "      <td>3113.0</td>\n",
       "      <td>1.00</td>\n",
       "    </tr>\n",
       "  </tbody>\n",
       "</table>\n",
       "</div>"
      ],
      "text/plain": [
       "        mean     sd  hdi_3%  hdi_97%  mcse_mean  mcse_sd  ess_bulk  ess_tail  \\\n",
       "a      5.823  1.536   3.107    8.684      0.025    0.017    3889.0    3078.0   \n",
       "b      7.013  1.867   3.658   10.412      0.030    0.022    3913.0    2870.0   \n",
       "w0[0]  0.520  0.052   0.419    0.612      0.001    0.000    6813.0    2496.0   \n",
       "w1[0]  0.365  0.049   0.273    0.458      0.001    0.000    6448.0    2945.0   \n",
       "w2[0]  0.307  0.046   0.223    0.394      0.001    0.000    6555.0    3462.0   \n",
       "w3[0]  0.556  0.051   0.461    0.651      0.001    0.000    6851.0    2871.0   \n",
       "w4[0]  0.507  0.049   0.414    0.596      0.001    0.000    6950.0    2783.0   \n",
       "w5[0]  0.406  0.050   0.311    0.495      0.001    0.000    7166.0    2702.0   \n",
       "w6[0]  0.637  0.051   0.537    0.725      0.001    0.000    8526.0    3132.0   \n",
       "w7[0]  0.515  0.051   0.429    0.622      0.001    0.000    7846.0    3267.0   \n",
       "w8[0]  0.422  0.052   0.325    0.519      0.001    0.000    6498.0    2714.0   \n",
       "w9[0]  0.266  0.045   0.182    0.349      0.001    0.000    7862.0    2939.0   \n",
       "p0     0.106  0.005   0.097    0.116      0.000    0.000    6154.0    3300.0   \n",
       "p1     0.508  0.007   0.494    0.522      0.000    0.000    5728.0    3113.0   \n",
       "\n",
       "       r_hat  \n",
       "a       1.00  \n",
       "b       1.00  \n",
       "w0[0]   1.00  \n",
       "w1[0]   1.00  \n",
       "w2[0]   1.00  \n",
       "w3[0]   1.00  \n",
       "w4[0]   1.00  \n",
       "w5[0]   1.00  \n",
       "w6[0]   1.00  \n",
       "w7[0]   1.00  \n",
       "w8[0]   1.00  \n",
       "w9[0]   1.01  \n",
       "p0      1.00  \n",
       "p1      1.00  "
      ]
     },
     "execution_count": 90,
     "metadata": {},
     "output_type": "execute_result"
    }
   ],
   "source": [
    "summary = az.summary(trace_multilevel)\n",
    "summary.loc[['a', 'b', 'w0[0]', 'w1[0]', 'w2[0]', 'w3[0]',\n",
    "             'w4[0]', 'w5[0]', 'w6[0]', 'w7[0]', 'w8[0]', \n",
    "             'w9[0]', 'w10[0]', 'w11[0]', 'p0', 'p1']]"
   ]
  },
  {
   "cell_type": "markdown",
   "metadata": {},
   "source": [
    "There are two things to notice about the output.\n",
    "\n",
    "1. The model partially learned the hyperparameters. It manages to get pick up on the asymmetry between `a` and `b`. The true values were 10 and 13. It recovers the same kind of ratio between them. In the beta world, that is like successfully learning the mean."
   ]
  },
  {
   "cell_type": "code",
   "execution_count": 91,
   "metadata": {},
   "outputs": [
    {
     "data": {
      "text/plain": [
       "(0.7692307692307693, 0.8285714285714285)"
      ]
     },
     "execution_count": 91,
     "metadata": {},
     "output_type": "execute_result"
    }
   ],
   "source": [
    "10 / 13, 5.8 / 7"
   ]
  },
  {
   "cell_type": "markdown",
   "metadata": {},
   "source": [
    "The variance is harder. The estimated values overestimate the amount of variance in the global distribution. That's normal. Means are always easier to learn than variance. Plus our priors implied larger levels of variance and discounted high ones. We could continue tuning out hyper priors and rerunning the model through simulated data to see if we can get more acceptable performance.\n",
    "\n",
    "2. We learned the weight parameters vary effectively. Compare the list at the top of this section to the recovered estimates.\n",
    "\n",
    "In summary, the multi-level model is fulfilling its promise. It allows each society to have it's own parameter. It respects the fact there can be genuine differences by not fulling pooling the data. However, as we learn the hyperparameters, those influence the model's expectations for each future society. It respects the fact that societies do have things in commmon and we can estimate how much commonality there is. Right now our model thinks this is our best guess for the global distribution."
   ]
  },
  {
   "cell_type": "code",
   "execution_count": 100,
   "metadata": {},
   "outputs": [
    {
     "data": {
      "text/plain": [
       "Text(0.5, 1.0, \"The global distribution of w's is a beta\")"
      ]
     },
     "execution_count": 100,
     "metadata": {},
     "output_type": "execute_result"
    },
    {
     "data": {
      "image/png": "[encoded data removed]",
      "text/plain": [
       "<Figure size 640x480 with 1 Axes>"
      ]
     },
     "metadata": {},
     "output_type": "display_data"
    }
   ],
   "source": [
    "grid = np.linspace(0,1,100)\n",
    "post = stats.beta(5.8,7).pdf(grid)\n",
    "prior = stats.beta(6,6).pdf(grid)\n",
    "plt.plot(grid,post,label=\"posterior\")\n",
    "plt.plot(grid,prior,label=\"prior\")\n",
    "plt.legend()\n",
    "plt.title(\"The global distribution of w's is a beta\")"
   ]
  },
  {
   "cell_type": "markdown",
   "metadata": {},
   "source": [
    "# How to criticize a study for having a non-representative sample\n",
    "\n",
    "We are finally ready to zoom out a return to our original question. When we read a study with a fairly selective sample, what should we make of it? One thing that makes a study not very useful is when you don't learn much from it. Bayesian inference has a natural way to describe what \"not learning much\" means. It means the distance between the prior and the posterior is very small. Studies conducted on only a selective sample provide very little information about the location of global hyperparameters. When we complain that \"this study only looked at American university males\" what we really mean is we learned almost nothing about some parameters of interest.\n",
    "\n",
    "We can illustrate this visually. Consider what would happen if we tried to fit a multi-level model with only data from a single country. Using only a single country means there is almost no guidance at all for where to locate the hyperparameters."
   ]
  },
  {
   "cell_type": "code",
   "execution_count": null,
   "metadata": {},
   "outputs": [
    {
     "name": "stderr",
     "output_type": "stream",
     "text": [
      "Auto-assigning NUTS sampler...\n",
      "Initializing NUTS using jitter+adapt_diag...\n",
      "Multiprocess sampling (4 chains in 4 jobs)\n",
      "NUTS: [a, b, w0, p0, p1]\n"
     ]
    },
    {
     "data": {
      "text/html": [
       "\n",
       "<style>\n",
       "    /* Turns off some styling */\n",
       "    progress {\n",
       "        /* gets rid of default border in Firefox and Opera. */\n",
       "        border: none;\n",
       "        /* Needs to be in here for Safari polyfill so background images work as expected. */\n",
       "        background-size: auto;\n",
       "    }\n",
       "    progress:not([value]), progress:not([value])::-webkit-progress-bar {\n",
       "        background: repeating-linear-gradient(45deg, #7e7e7e, #7e7e7e 10px, #5c5c5c 10px, #5c5c5c 20px);\n",
       "    }\n",
       "    .progress-bar-interrupted, .progress-bar-interrupted::-webkit-progress-bar {\n",
       "        background: #F44336;\n",
       "    }\n",
       "</style>\n"
      ],
      "text/plain": [
       "<IPython.core.display.HTML object>"
      ]
     },
     "metadata": {},
     "output_type": "display_data"
    },
    {
     "data": {
      "text/html": [
       "\n",
       "    <div>\n",
       "      <progress value='8000' class='' max='8000' style='width:300px; height:20px; vertical-align: middle;'></progress>\n",
       "      100.00% [8000/8000 00:07&lt;00:00 Sampling 4 chains, 0 divergences]\n",
       "    </div>\n",
       "    "
      ],
      "text/plain": [
       "<IPython.core.display.HTML object>"
      ]
     },
     "metadata": {},
     "output_type": "display_data"
    },
    {
     "name": "stderr",
     "output_type": "stream",
     "text": [
      "Sampling 4 chains for 1_000 tune and 1_000 draw iterations (4_000 + 4_000 draws total) took 26 seconds.\n"
     ]
    }
   ],
   "source": [
    "with pm.Model() as model_multilevel_3:\n",
    "\n",
    "    # global population priors\n",
    "\n",
    "    a = pm.Gamma('a',6,1)\n",
    "    b = pm.Gamma('b',6,1)\n",
    "\n",
    "    # mixture weights\n",
    "\n",
    "    w0 = pm.Dirichlet('w0',[a,b])\n",
    "\n",
    "    # mixture components\n",
    "\n",
    "    p0 = pm.Beta('p0',0.5,2) # independent component\n",
    "    p1 = pm.Beta('p1',2,0.5) # conformist component\n",
    "    components = [pm.Binomial.dist(n=12,p=p0),pm.Binomial.dist(n=12,p=p1)]\n",
    "\n",
    "    # likelihood\n",
    "\n",
    "    y0 = pm.Mixture('error_0',w=w0,comp_dists=components,observed=us_mistakes_treatment)\n",
    "\n",
    "    trace_us = pm.sample()"
   ]
  },
  {
   "cell_type": "markdown",
   "metadata": {},
   "source": [
    "Notice that the `a,b` move but not very much."
   ]
  },
  {
   "cell_type": "code",
   "execution_count": null,
   "metadata": {},
   "outputs": [
    {
     "data": {
      "text/html": [
       "<div>\n",
       "<style scoped>\n",
       "    .dataframe tbody tr th:only-of-type {\n",
       "        vertical-align: middle;\n",
       "    }\n",
       "\n",
       "    .dataframe tbody tr th {\n",
       "        vertical-align: top;\n",
       "    }\n",
       "\n",
       "    .dataframe thead th {\n",
       "        text-align: right;\n",
       "    }\n",
       "</style>\n",
       "<table border=\"1\" class=\"dataframe\">\n",
       "  <thead>\n",
       "    <tr style=\"text-align: right;\">\n",
       "      <th></th>\n",
       "      <th>mean</th>\n",
       "      <th>sd</th>\n",
       "      <th>hdi_3%</th>\n",
       "      <th>hdi_97%</th>\n",
       "      <th>mcse_mean</th>\n",
       "      <th>mcse_sd</th>\n",
       "      <th>ess_bulk</th>\n",
       "      <th>ess_tail</th>\n",
       "      <th>r_hat</th>\n",
       "    </tr>\n",
       "  </thead>\n",
       "  <tbody>\n",
       "    <tr>\n",
       "      <th>a</th>\n",
       "      <td>6.662</td>\n",
       "      <td>2.351</td>\n",
       "      <td>2.805</td>\n",
       "      <td>11.263</td>\n",
       "      <td>0.042</td>\n",
       "      <td>0.030</td>\n",
       "      <td>3013.0</td>\n",
       "      <td>2709.0</td>\n",
       "      <td>1.0</td>\n",
       "    </tr>\n",
       "    <tr>\n",
       "      <th>b</th>\n",
       "      <td>5.520</td>\n",
       "      <td>1.916</td>\n",
       "      <td>2.204</td>\n",
       "      <td>8.942</td>\n",
       "      <td>0.031</td>\n",
       "      <td>0.022</td>\n",
       "      <td>3768.0</td>\n",
       "      <td>3070.0</td>\n",
       "      <td>1.0</td>\n",
       "    </tr>\n",
       "    <tr>\n",
       "      <th>w0[0]</th>\n",
       "      <td>0.594</td>\n",
       "      <td>0.076</td>\n",
       "      <td>0.451</td>\n",
       "      <td>0.730</td>\n",
       "      <td>0.001</td>\n",
       "      <td>0.001</td>\n",
       "      <td>3034.0</td>\n",
       "      <td>2831.0</td>\n",
       "      <td>1.0</td>\n",
       "    </tr>\n",
       "    <tr>\n",
       "      <th>w0[1]</th>\n",
       "      <td>0.406</td>\n",
       "      <td>0.076</td>\n",
       "      <td>0.270</td>\n",
       "      <td>0.549</td>\n",
       "      <td>0.001</td>\n",
       "      <td>0.001</td>\n",
       "      <td>3034.0</td>\n",
       "      <td>2831.0</td>\n",
       "      <td>1.0</td>\n",
       "    </tr>\n",
       "    <tr>\n",
       "      <th>p0</th>\n",
       "      <td>0.116</td>\n",
       "      <td>0.024</td>\n",
       "      <td>0.072</td>\n",
       "      <td>0.160</td>\n",
       "      <td>0.000</td>\n",
       "      <td>0.000</td>\n",
       "      <td>2620.0</td>\n",
       "      <td>2204.0</td>\n",
       "      <td>1.0</td>\n",
       "    </tr>\n",
       "    <tr>\n",
       "      <th>p1</th>\n",
       "      <td>0.637</td>\n",
       "      <td>0.045</td>\n",
       "      <td>0.547</td>\n",
       "      <td>0.717</td>\n",
       "      <td>0.001</td>\n",
       "      <td>0.001</td>\n",
       "      <td>3052.0</td>\n",
       "      <td>2886.0</td>\n",
       "      <td>1.0</td>\n",
       "    </tr>\n",
       "  </tbody>\n",
       "</table>\n",
       "</div>"
      ],
      "text/plain": [
       "        mean     sd  hdi_3%  hdi_97%  mcse_mean  mcse_sd  ess_bulk  ess_tail  \\\n",
       "a      6.662  2.351   2.805   11.263      0.042    0.030    3013.0    2709.0   \n",
       "b      5.520  1.916   2.204    8.942      0.031    0.022    3768.0    3070.0   \n",
       "w0[0]  0.594  0.076   0.451    0.730      0.001    0.001    3034.0    2831.0   \n",
       "w0[1]  0.406  0.076   0.270    0.549      0.001    0.001    3034.0    2831.0   \n",
       "p0     0.116  0.024   0.072    0.160      0.000    0.000    2620.0    2204.0   \n",
       "p1     0.637  0.045   0.547    0.717      0.001    0.001    3052.0    2886.0   \n",
       "\n",
       "       r_hat  \n",
       "a        1.0  \n",
       "b        1.0  \n",
       "w0[0]    1.0  \n",
       "w0[1]    1.0  \n",
       "p0       1.0  \n",
       "p1       1.0  "
      ]
     },
     "execution_count": 99,
     "metadata": {},
     "output_type": "execute_result"
    }
   ],
   "source": [
    "az.summary(trace_us).loc[['a','b']]"
   ]
  },
  {
   "cell_type": "markdown",
   "metadata": {},
   "source": [
    "Or, visually, this depicts the distance between the prior and the posterior and illustrates how little we've learned."
   ]
  },
  {
   "cell_type": "code",
   "execution_count": 101,
   "metadata": {},
   "outputs": [
    {
     "data": {
      "text/plain": [
       "Text(0.5, 1.0, \"The global distribution of w's is a beta\")"
      ]
     },
     "execution_count": 101,
     "metadata": {},
     "output_type": "execute_result"
    },
    {
     "data": {
      "image/png": "[encoded data removed]",
      "text/plain": [
       "<Figure size 640x480 with 1 Axes>"
      ]
     },
     "metadata": {},
     "output_type": "display_data"
    }
   ],
   "source": [
    "grid = np.linspace(0,1,100)\n",
    "post = stats.beta(6.6,5.5).pdf(grid)\n",
    "prior = stats.beta(6,6).pdf(grid)\n",
    "plt.plot(grid,post,label=\"posterior\")\n",
    "plt.plot(grid,prior,label=\"prior\")\n",
    "plt.legend()\n",
    "plt.title(\"The global distribution of w's is a beta\")"
   ]
  },
  {
   "cell_type": "markdown",
   "metadata": {},
   "source": [
    "Statistical models routinely underrepresent our uncertainty. They treat things as knows that are not by simplifying complicated processes. In many cases that is okay. If we tried to represent all our uncertainties simulatenously, we'd have extremely messy, difficult to use, difficult to interpret model. But when it comes to criticizing studies, we can build out missing assumptions and craft more careful representations of the world. In this case, we've added a multi-level structure to the Asch study in order to illustrate what we learn about the global distribution of conformity. Not so much. It's not groundbreaking. But it does allow us to think precisely about the problem space.\n",
    "\n",
    "Consider, for example, if we have different priors describing the global distribution that were more uncertain. The original priors we built had no idea where to put the `w` parameters. In this case, we actually could learn more just by looking at a single case in America. Bayes exhibits an intuitive feature - the less information you have, the more impactful a single bit of learning is. The more information you have, the less important each additional bit of information is."
   ]
  },
  {
   "cell_type": "code",
   "execution_count": 12,
   "metadata": {},
   "outputs": [
    {
     "name": "stderr",
     "output_type": "stream",
     "text": [
      "Auto-assigning NUTS sampler...\n",
      "Initializing NUTS using jitter+adapt_diag...\n",
      "Multiprocess sampling (4 chains in 4 jobs)\n",
      "NUTS: [a, b, w0, p0, p1]\n"
     ]
    },
    {
     "data": {
      "text/html": [
       "\n",
       "<style>\n",
       "    /* Turns off some styling */\n",
       "    progress {\n",
       "        /* gets rid of default border in Firefox and Opera. */\n",
       "        border: none;\n",
       "        /* Needs to be in here for Safari polyfill so background images work as expected. */\n",
       "        background-size: auto;\n",
       "    }\n",
       "    progress:not([value]), progress:not([value])::-webkit-progress-bar {\n",
       "        background: repeating-linear-gradient(45deg, #7e7e7e, #7e7e7e 10px, #5c5c5c 10px, #5c5c5c 20px);\n",
       "    }\n",
       "    .progress-bar-interrupted, .progress-bar-interrupted::-webkit-progress-bar {\n",
       "        background: #F44336;\n",
       "    }\n",
       "</style>\n"
      ],
      "text/plain": [
       "<IPython.core.display.HTML object>"
      ]
     },
     "metadata": {},
     "output_type": "display_data"
    },
    {
     "data": {
      "text/html": [
       "\n",
       "    <div>\n",
       "      <progress value='8000' class='' max='8000' style='width:300px; height:20px; vertical-align: middle;'></progress>\n",
       "      100.00% [8000/8000 00:08&lt;00:00 Sampling 4 chains, 0 divergences]\n",
       "    </div>\n",
       "    "
      ],
      "text/plain": [
       "<IPython.core.display.HTML object>"
      ]
     },
     "metadata": {},
     "output_type": "display_data"
    },
    {
     "name": "stderr",
     "output_type": "stream",
     "text": [
      "Sampling 4 chains for 1_000 tune and 1_000 draw iterations (4_000 + 4_000 draws total) took 26 seconds.\n"
     ]
    }
   ],
   "source": [
    "with pm.Model() as model_multilevel_4:\n",
    "\n",
    "    # global population priors\n",
    "\n",
    "    a = pm.Gamma('a',1,1)\n",
    "    b = pm.Gamma('b',1,1)\n",
    "\n",
    "    # mixture weights\n",
    "\n",
    "    w0 = pm.Dirichlet('w0',[a,b])\n",
    "\n",
    "    # mixture components\n",
    "\n",
    "    p0 = pm.Beta('p0',0.5,2) # independent component\n",
    "    p1 = pm.Beta('p1',2,0.5) # conformist component\n",
    "    components = [pm.Binomial.dist(n=12,p=p0),pm.Binomial.dist(n=12,p=p1)]\n",
    "\n",
    "    # likelihood\n",
    "\n",
    "    y0 = pm.Mixture('error_0',w=w0,comp_dists=components,observed=us_mistakes_treatment)\n",
    "\n",
    "    trace_us_bad_priors = pm.sample()"
   ]
  },
  {
   "cell_type": "code",
   "execution_count": 13,
   "metadata": {},
   "outputs": [
    {
     "data": {
      "text/plain": [
       "Text(0.5, 1.0, \"The global distribution of w's is a beta\")"
      ]
     },
     "execution_count": 13,
     "metadata": {},
     "output_type": "execute_result"
    },
    {
     "data": {
      "image/png": "[encoded data removed]",
      "text/plain": [
       "<Figure size 640x480 with 1 Axes>"
      ]
     },
     "metadata": {},
     "output_type": "display_data"
    }
   ],
   "source": [
    "a_post = az.summary(trace_us_bad_priors).loc['a']['mean']\n",
    "b_post = az.summary(trace_us_bad_priors).loc['b']['mean']\n",
    "\n",
    "grid = np.linspace(0,1,100)\n",
    "post = stats.beta(a_post,b_post).pdf(grid)\n",
    "prior = stats.beta(1,1).pdf(grid)\n",
    "plt.plot(grid,post,label=\"posterior\")\n",
    "plt.plot(grid,prior,label=\"prior\")\n",
    "plt.legend()\n",
    "plt.title(\"The global distribution of w's is a beta\")"
   ]
  },
  {
   "cell_type": "markdown",
   "metadata": {},
   "source": [
    "# Triple mixtures"
   ]
  },
  {
   "cell_type": "code",
   "execution_count": 138,
   "metadata": {},
   "outputs": [
    {
     "name": "stderr",
     "output_type": "stream",
     "text": [
      "Auto-assigning NUTS sampler...\n",
      "Initializing NUTS using jitter+adapt_diag...\n",
      "Multiprocess sampling (4 chains in 4 jobs)\n",
      "NUTS: [w, p0, p1, p2]\n"
     ]
    },
    {
     "data": {
      "text/html": [
       "\n",
       "<style>\n",
       "    /* Turns off some styling */\n",
       "    progress {\n",
       "        /* gets rid of default border in Firefox and Opera. */\n",
       "        border: none;\n",
       "        /* Needs to be in here for Safari polyfill so background images work as expected. */\n",
       "        background-size: auto;\n",
       "    }\n",
       "    progress:not([value]), progress:not([value])::-webkit-progress-bar {\n",
       "        background: repeating-linear-gradient(45deg, #7e7e7e, #7e7e7e 10px, #5c5c5c 10px, #5c5c5c 20px);\n",
       "    }\n",
       "    .progress-bar-interrupted, .progress-bar-interrupted::-webkit-progress-bar {\n",
       "        background: #F44336;\n",
       "    }\n",
       "</style>\n"
      ],
      "text/plain": [
       "<IPython.core.display.HTML object>"
      ]
     },
     "metadata": {},
     "output_type": "display_data"
    },
    {
     "data": {
      "text/html": [
       "\n",
       "    <div>\n",
       "      <progress value='8000' class='' max='8000' style='width:300px; height:20px; vertical-align: middle;'></progress>\n",
       "      100.00% [8000/8000 00:08&lt;00:00 Sampling 4 chains, 0 divergences]\n",
       "    </div>\n",
       "    "
      ],
      "text/plain": [
       "<IPython.core.display.HTML object>"
      ]
     },
     "metadata": {},
     "output_type": "display_data"
    },
    {
     "name": "stderr",
     "output_type": "stream",
     "text": [
      "Sampling 4 chains for 1_000 tune and 1_000 draw iterations (4_000 + 4_000 draws total) took 26 seconds.\n",
      "The rhat statistic is larger than 1.01 for some parameters. This indicates problems during sampling. See https://arxiv.org/abs/1903.08008 for details\n",
      "The effective sample size per chain is smaller than 100 for some parameters.  A higher number is needed for reliable rhat and ess computation. See https://arxiv.org/abs/1903.08008 for details\n"
     ]
    }
   ],
   "source": [
    "with pm.Model() as m0:\n",
    "    w = pm.Dirichlet('w',[2,2,2])\n",
    "    p0 = pm.Beta('p0',0.5,2) # independent component\n",
    "    p1 = pm.Beta('p1',2,2) # conformist component\n",
    "    p2 = pm.Beta('p2',3,2) # hyper conformist component\n",
    "\n",
    "    components = [pm.Binomial.dist(n=7,p=p0),pm.Binomial.dist(n=7,p=p1),pm.Binomial.dist(n=7,p=p2)]\n",
    "    order_constraint = pm.Potential('order',pm.math.log(pm.math.switch(pt.and_(pt.lt(p0,p1),pt.lt(p1,p2)), 1, 0.05)))\n",
    "\n",
    "    y = pm.Mixture('error',w=w,comp_dists=components,observed=fiji_data)\n",
    "\n",
    "    trace_fiji = pm.sample()"
   ]
  },
  {
   "cell_type": "code",
   "execution_count": 139,
   "metadata": {},
   "outputs": [
    {
     "data": {
      "text/html": [
       "<div>\n",
       "<style scoped>\n",
       "    .dataframe tbody tr th:only-of-type {\n",
       "        vertical-align: middle;\n",
       "    }\n",
       "\n",
       "    .dataframe tbody tr th {\n",
       "        vertical-align: top;\n",
       "    }\n",
       "\n",
       "    .dataframe thead th {\n",
       "        text-align: right;\n",
       "    }\n",
       "</style>\n",
       "<table border=\"1\" class=\"dataframe\">\n",
       "  <thead>\n",
       "    <tr style=\"text-align: right;\">\n",
       "      <th></th>\n",
       "      <th>mean</th>\n",
       "      <th>sd</th>\n",
       "      <th>hdi_3%</th>\n",
       "      <th>hdi_97%</th>\n",
       "      <th>mcse_mean</th>\n",
       "      <th>mcse_sd</th>\n",
       "      <th>ess_bulk</th>\n",
       "      <th>ess_tail</th>\n",
       "      <th>r_hat</th>\n",
       "    </tr>\n",
       "  </thead>\n",
       "  <tbody>\n",
       "    <tr>\n",
       "      <th>w[0]</th>\n",
       "      <td>0.307</td>\n",
       "      <td>0.066</td>\n",
       "      <td>0.183</td>\n",
       "      <td>0.430</td>\n",
       "      <td>0.003</td>\n",
       "      <td>0.002</td>\n",
       "      <td>692.0</td>\n",
       "      <td>1007.0</td>\n",
       "      <td>1.01</td>\n",
       "    </tr>\n",
       "    <tr>\n",
       "      <th>w[1]</th>\n",
       "      <td>0.344</td>\n",
       "      <td>0.083</td>\n",
       "      <td>0.199</td>\n",
       "      <td>0.503</td>\n",
       "      <td>0.002</td>\n",
       "      <td>0.002</td>\n",
       "      <td>1255.0</td>\n",
       "      <td>1927.0</td>\n",
       "      <td>1.01</td>\n",
       "    </tr>\n",
       "    <tr>\n",
       "      <th>w[2]</th>\n",
       "      <td>0.349</td>\n",
       "      <td>0.083</td>\n",
       "      <td>0.205</td>\n",
       "      <td>0.515</td>\n",
       "      <td>0.002</td>\n",
       "      <td>0.001</td>\n",
       "      <td>2118.0</td>\n",
       "      <td>2340.0</td>\n",
       "      <td>1.00</td>\n",
       "    </tr>\n",
       "    <tr>\n",
       "      <th>p0</th>\n",
       "      <td>0.161</td>\n",
       "      <td>0.186</td>\n",
       "      <td>0.000</td>\n",
       "      <td>0.610</td>\n",
       "      <td>0.061</td>\n",
       "      <td>0.045</td>\n",
       "      <td>20.0</td>\n",
       "      <td>33.0</td>\n",
       "      <td>1.14</td>\n",
       "    </tr>\n",
       "    <tr>\n",
       "      <th>p1</th>\n",
       "      <td>0.529</td>\n",
       "      <td>0.199</td>\n",
       "      <td>0.067</td>\n",
       "      <td>0.770</td>\n",
       "      <td>0.058</td>\n",
       "      <td>0.042</td>\n",
       "      <td>21.0</td>\n",
       "      <td>27.0</td>\n",
       "      <td>1.13</td>\n",
       "    </tr>\n",
       "    <tr>\n",
       "      <th>p2</th>\n",
       "      <td>0.620</td>\n",
       "      <td>0.132</td>\n",
       "      <td>0.390</td>\n",
       "      <td>0.828</td>\n",
       "      <td>0.011</td>\n",
       "      <td>0.008</td>\n",
       "      <td>352.0</td>\n",
       "      <td>110.0</td>\n",
       "      <td>1.01</td>\n",
       "    </tr>\n",
       "  </tbody>\n",
       "</table>\n",
       "</div>"
      ],
      "text/plain": [
       "       mean     sd  hdi_3%  hdi_97%  mcse_mean  mcse_sd  ess_bulk  ess_tail  \\\n",
       "w[0]  0.307  0.066   0.183    0.430      0.003    0.002     692.0    1007.0   \n",
       "w[1]  0.344  0.083   0.199    0.503      0.002    0.002    1255.0    1927.0   \n",
       "w[2]  0.349  0.083   0.205    0.515      0.002    0.001    2118.0    2340.0   \n",
       "p0    0.161  0.186   0.000    0.610      0.061    0.045      20.0      33.0   \n",
       "p1    0.529  0.199   0.067    0.770      0.058    0.042      21.0      27.0   \n",
       "p2    0.620  0.132   0.390    0.828      0.011    0.008     352.0     110.0   \n",
       "\n",
       "      r_hat  \n",
       "w[0]   1.01  \n",
       "w[1]   1.01  \n",
       "w[2]   1.00  \n",
       "p0     1.14  \n",
       "p1     1.13  \n",
       "p2     1.01  "
      ]
     },
     "execution_count": 139,
     "metadata": {},
     "output_type": "execute_result"
    }
   ],
   "source": [
    "az.summary(trace_fiji)"
   ]
  }
 ],
 "metadata": {
  "kernelspec": {
   "display_name": "pymc_env",
   "language": "python",
   "name": "python3"
  },
  "language_info": {
   "codemirror_mode": {
    "name": "ipython",
    "version": 3
   },
   "file_extension": ".py",
   "mimetype": "text/x-python",
   "name": "python",
   "nbconvert_exporter": "python",
   "pygments_lexer": "ipython3",
   "version": "3.11.7"
  }
 },
 "nbformat": 4,
 "nbformat_minor": 2
}
