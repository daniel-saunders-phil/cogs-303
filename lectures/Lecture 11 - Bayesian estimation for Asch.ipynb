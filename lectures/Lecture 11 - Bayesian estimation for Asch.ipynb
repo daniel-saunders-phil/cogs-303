{
 "cells": [
  {
   "cell_type": "markdown",
   "metadata": {
    "id": "dJndqJpCeETN"
   },
   "source": [
    "# Introduction\n",
    "\n",
    "Today we spent most of our time discussing the Asch paper. It's difficult to reproduce that discussion and mostly it was to set the tone for the next few weeks. So enjoy these short notes today and dedicate more attention to thinking about how you would model the data from Asch's paper.\n",
    "\n",
    "We did however cover a couple of new programming concepts."
   ]
  },
  {
   "cell_type": "markdown",
   "metadata": {
    "id": "fMUI83nIedTO"
   },
   "source": [
    "# Pandas and dataframes\n",
    "\n",
    "We'll use a package called Pandas to help us organize, read, and store datasets. Pandas resolves around special objects called \"dataframes\". They are like arrays but they have more dimensions and labels. Those labels and dimensions help with organization. Here is how you import data with pandas."
   ]
  },
  {
   "cell_type": "code",
   "execution_count": 2,
   "metadata": {
    "colab": {
     "base_uri": "https://localhost:8080/",
     "height": 423
    },
    "id": "bYPMZNuG5HmJ",
    "outputId": "64aab8e2-362e-439e-c371-b85eea9dec4d"
   },
   "outputs": [
    {
     "data": {
      "text/html": [
       "<div>\n",
       "<style scoped>\n",
       "    .dataframe tbody tr th:only-of-type {\n",
       "        vertical-align: middle;\n",
       "    }\n",
       "\n",
       "    .dataframe tbody tr th {\n",
       "        vertical-align: top;\n",
       "    }\n",
       "\n",
       "    .dataframe thead th {\n",
       "        text-align: right;\n",
       "    }\n",
       "</style>\n",
       "<table border=\"1\" class=\"dataframe\">\n",
       "  <thead>\n",
       "    <tr style=\"text-align: right;\">\n",
       "      <th></th>\n",
       "      <th>treatment</th>\n",
       "      <th>mistakes</th>\n",
       "    </tr>\n",
       "  </thead>\n",
       "  <tbody>\n",
       "    <tr>\n",
       "      <th>0</th>\n",
       "      <td>1</td>\n",
       "      <td>0</td>\n",
       "    </tr>\n",
       "    <tr>\n",
       "      <th>1</th>\n",
       "      <td>1</td>\n",
       "      <td>0</td>\n",
       "    </tr>\n",
       "    <tr>\n",
       "      <th>2</th>\n",
       "      <td>1</td>\n",
       "      <td>0</td>\n",
       "    </tr>\n",
       "    <tr>\n",
       "      <th>3</th>\n",
       "      <td>1</td>\n",
       "      <td>0</td>\n",
       "    </tr>\n",
       "    <tr>\n",
       "      <th>4</th>\n",
       "      <td>1</td>\n",
       "      <td>0</td>\n",
       "    </tr>\n",
       "    <tr>\n",
       "      <th>...</th>\n",
       "      <td>...</td>\n",
       "      <td>...</td>\n",
       "    </tr>\n",
       "    <tr>\n",
       "      <th>82</th>\n",
       "      <td>0</td>\n",
       "      <td>0</td>\n",
       "    </tr>\n",
       "    <tr>\n",
       "      <th>83</th>\n",
       "      <td>0</td>\n",
       "      <td>0</td>\n",
       "    </tr>\n",
       "    <tr>\n",
       "      <th>84</th>\n",
       "      <td>0</td>\n",
       "      <td>0</td>\n",
       "    </tr>\n",
       "    <tr>\n",
       "      <th>85</th>\n",
       "      <td>0</td>\n",
       "      <td>1</td>\n",
       "    </tr>\n",
       "    <tr>\n",
       "      <th>86</th>\n",
       "      <td>0</td>\n",
       "      <td>2</td>\n",
       "    </tr>\n",
       "  </tbody>\n",
       "</table>\n",
       "<p>87 rows × 2 columns</p>\n",
       "</div>"
      ],
      "text/plain": [
       "    treatment  mistakes\n",
       "0           1         0\n",
       "1           1         0\n",
       "2           1         0\n",
       "3           1         0\n",
       "4           1         0\n",
       "..        ...       ...\n",
       "82          0         0\n",
       "83          0         0\n",
       "84          0         0\n",
       "85          0         1\n",
       "86          0         2\n",
       "\n",
       "[87 rows x 2 columns]"
      ]
     },
     "execution_count": 2,
     "metadata": {},
     "output_type": "execute_result"
    }
   ],
   "source": [
    "import pandas as pd\n",
    "import matplotlib.pyplot as plt\n",
    "import numpy as np\n",
    "from scipy import stats\n",
    "\n",
    "url = \"https://raw.githubusercontent.com/daniel-saunders-phil/cogs-303/main/Asch_experiment_1_data\"\n",
    "url = r\"C:\\Users\\dsaun\\github_projects\\cogs-303\\Asch_experiment_1_data\" # local path - ignore this\n",
    "\n",
    "data = pd.read_csv(url)\n",
    "data"
   ]
  },
  {
   "cell_type": "markdown",
   "metadata": {
    "id": "MpQ0h8Tre6Tl"
   },
   "source": [
    "This looks more like a spreadsheat than arrays or lists do. Each row is a participant in the experiment. The `treatment` column is filled with 1 or 0. 1 if they were in the critical group with all the confederates. 0 if they are in the control group. The `mistakes` row lists how many mistakes each person made.\n",
    "\n",
    "In this course, we'll just import datasets from cloud storage sites and I'll provide the urls. So this `pd.read_csv(url)` will be standard protocol for us.\n",
    "\n",
    "We need to do two things to work with DataFrames: unpack them and filter them."
   ]
  },
  {
   "cell_type": "markdown",
   "metadata": {
    "id": "J8L2K6WefmiU"
   },
   "source": [
    "## unpacking\n",
    "\n",
    "The way we access the values in a column works like this\n",
    "\n",
    "NAME_OF_DATAFRAME.NAME_OF_COLUMN.values\n",
    "\n",
    "we get back an array, which we are more used to working with."
   ]
  },
  {
   "cell_type": "code",
   "execution_count": 6,
   "metadata": {
    "colab": {
     "base_uri": "https://localhost:8080/"
    },
    "id": "XDUt5xZB_6PN",
    "outputId": "20e15925-cd24-4884-b84a-cfcbc7a0a03c"
   },
   "outputs": [
    {
     "data": {
      "text/plain": [
       "array([ 0,  0,  0,  0,  0,  0,  0,  0,  0,  0,  0,  0,  0,  1,  1,  1,  1,\n",
       "        2,  2,  2,  2,  2,  3,  3,  3,  3,  3,  3,  4,  4,  4,  5,  5,  5,\n",
       "        5,  6,  7,  7,  8,  8,  8,  8,  8,  9,  9,  9, 10, 10, 10, 11,  0,\n",
       "        0,  0,  0,  0,  0,  0,  0,  0,  0,  0,  0,  0,  0,  0,  0,  0,  0,\n",
       "        0,  0,  0,  0,  0,  0,  0,  0,  0,  0,  0,  0,  0,  0,  0,  0,  0,\n",
       "        1,  2], dtype=int64)"
      ]
     },
     "execution_count": 6,
     "metadata": {},
     "output_type": "execute_result"
    }
   ],
   "source": [
    "data.mistakes.values"
   ]
  },
  {
   "cell_type": "markdown",
   "metadata": {
    "id": "d3OpH8Xyf5pR"
   },
   "source": [
    "Here's how to interpret this information. This array depicts the number of mistakes made by each participant. The treatment group is listed first. So you can see that 13 people made 0 mistakes in that group. Then, skipping ahead, 3 people made 10 mistakes. One person made 11 mistakes.\n",
    "\n",
    "The rest of the array is for the control group. Only two people made any mistakes at all, listed at the end.\n",
    "\n",
    "The fact both groups are listed together is kinda annoying. So it would help if we could look at one group at a time."
   ]
  },
  {
   "cell_type": "markdown",
   "metadata": {
    "id": "mcbZ0KMBgdOw"
   },
   "source": [
    "## Filtering\n",
    "\n",
    "To filter a dataframe, we write boolean conditions. Suppose we want just the people in the treatment group. We can set a condition where it's true only if someone is in that group. For example,"
   ]
  },
  {
   "cell_type": "code",
   "execution_count": 7,
   "metadata": {
    "colab": {
     "base_uri": "https://localhost:8080/"
    },
    "id": "QETGQs7xgk70",
    "outputId": "8775d5f9-4f65-41bc-adb9-e6b78dd4adbb"
   },
   "outputs": [
    {
     "data": {
      "text/plain": [
       "[0      True\n",
       " 1      True\n",
       " 2      True\n",
       " 3      True\n",
       " 4      True\n",
       "       ...  \n",
       " 82    False\n",
       " 83    False\n",
       " 84    False\n",
       " 85    False\n",
       " 86    False\n",
       " Name: treatment, Length: 87, dtype: bool]"
      ]
     },
     "execution_count": 7,
     "metadata": {},
     "output_type": "execute_result"
    }
   ],
   "source": [
    "[data.treatment == 1]"
   ]
  },
  {
   "cell_type": "markdown",
   "metadata": {
    "id": "wWzLhL05g94P"
   },
   "source": [
    "Then to filter, we just put our condition in brackets beside the dataframe's name."
   ]
  },
  {
   "cell_type": "code",
   "execution_count": 5,
   "metadata": {
    "colab": {
     "base_uri": "https://localhost:8080/",
     "height": 1000
    },
    "id": "UPC563-fARdf",
    "outputId": "839cc9d7-3289-42f6-9f57-9857d3cbd293"
   },
   "outputs": [
    {
     "data": {
      "text/html": [
       "<div>\n",
       "<style scoped>\n",
       "    .dataframe tbody tr th:only-of-type {\n",
       "        vertical-align: middle;\n",
       "    }\n",
       "\n",
       "    .dataframe tbody tr th {\n",
       "        vertical-align: top;\n",
       "    }\n",
       "\n",
       "    .dataframe thead th {\n",
       "        text-align: right;\n",
       "    }\n",
       "</style>\n",
       "<table border=\"1\" class=\"dataframe\">\n",
       "  <thead>\n",
       "    <tr style=\"text-align: right;\">\n",
       "      <th></th>\n",
       "      <th>treatment</th>\n",
       "      <th>mistakes</th>\n",
       "    </tr>\n",
       "  </thead>\n",
       "  <tbody>\n",
       "    <tr>\n",
       "      <th>0</th>\n",
       "      <td>1</td>\n",
       "      <td>0</td>\n",
       "    </tr>\n",
       "    <tr>\n",
       "      <th>1</th>\n",
       "      <td>1</td>\n",
       "      <td>0</td>\n",
       "    </tr>\n",
       "    <tr>\n",
       "      <th>2</th>\n",
       "      <td>1</td>\n",
       "      <td>0</td>\n",
       "    </tr>\n",
       "    <tr>\n",
       "      <th>3</th>\n",
       "      <td>1</td>\n",
       "      <td>0</td>\n",
       "    </tr>\n",
       "    <tr>\n",
       "      <th>4</th>\n",
       "      <td>1</td>\n",
       "      <td>0</td>\n",
       "    </tr>\n",
       "    <tr>\n",
       "      <th>5</th>\n",
       "      <td>1</td>\n",
       "      <td>0</td>\n",
       "    </tr>\n",
       "    <tr>\n",
       "      <th>6</th>\n",
       "      <td>1</td>\n",
       "      <td>0</td>\n",
       "    </tr>\n",
       "    <tr>\n",
       "      <th>7</th>\n",
       "      <td>1</td>\n",
       "      <td>0</td>\n",
       "    </tr>\n",
       "    <tr>\n",
       "      <th>8</th>\n",
       "      <td>1</td>\n",
       "      <td>0</td>\n",
       "    </tr>\n",
       "    <tr>\n",
       "      <th>9</th>\n",
       "      <td>1</td>\n",
       "      <td>0</td>\n",
       "    </tr>\n",
       "    <tr>\n",
       "      <th>10</th>\n",
       "      <td>1</td>\n",
       "      <td>0</td>\n",
       "    </tr>\n",
       "    <tr>\n",
       "      <th>11</th>\n",
       "      <td>1</td>\n",
       "      <td>0</td>\n",
       "    </tr>\n",
       "    <tr>\n",
       "      <th>12</th>\n",
       "      <td>1</td>\n",
       "      <td>0</td>\n",
       "    </tr>\n",
       "    <tr>\n",
       "      <th>13</th>\n",
       "      <td>1</td>\n",
       "      <td>1</td>\n",
       "    </tr>\n",
       "    <tr>\n",
       "      <th>14</th>\n",
       "      <td>1</td>\n",
       "      <td>1</td>\n",
       "    </tr>\n",
       "    <tr>\n",
       "      <th>15</th>\n",
       "      <td>1</td>\n",
       "      <td>1</td>\n",
       "    </tr>\n",
       "    <tr>\n",
       "      <th>16</th>\n",
       "      <td>1</td>\n",
       "      <td>1</td>\n",
       "    </tr>\n",
       "    <tr>\n",
       "      <th>17</th>\n",
       "      <td>1</td>\n",
       "      <td>2</td>\n",
       "    </tr>\n",
       "    <tr>\n",
       "      <th>18</th>\n",
       "      <td>1</td>\n",
       "      <td>2</td>\n",
       "    </tr>\n",
       "    <tr>\n",
       "      <th>19</th>\n",
       "      <td>1</td>\n",
       "      <td>2</td>\n",
       "    </tr>\n",
       "    <tr>\n",
       "      <th>20</th>\n",
       "      <td>1</td>\n",
       "      <td>2</td>\n",
       "    </tr>\n",
       "    <tr>\n",
       "      <th>21</th>\n",
       "      <td>1</td>\n",
       "      <td>2</td>\n",
       "    </tr>\n",
       "    <tr>\n",
       "      <th>22</th>\n",
       "      <td>1</td>\n",
       "      <td>3</td>\n",
       "    </tr>\n",
       "    <tr>\n",
       "      <th>23</th>\n",
       "      <td>1</td>\n",
       "      <td>3</td>\n",
       "    </tr>\n",
       "    <tr>\n",
       "      <th>24</th>\n",
       "      <td>1</td>\n",
       "      <td>3</td>\n",
       "    </tr>\n",
       "    <tr>\n",
       "      <th>25</th>\n",
       "      <td>1</td>\n",
       "      <td>3</td>\n",
       "    </tr>\n",
       "    <tr>\n",
       "      <th>26</th>\n",
       "      <td>1</td>\n",
       "      <td>3</td>\n",
       "    </tr>\n",
       "    <tr>\n",
       "      <th>27</th>\n",
       "      <td>1</td>\n",
       "      <td>3</td>\n",
       "    </tr>\n",
       "    <tr>\n",
       "      <th>28</th>\n",
       "      <td>1</td>\n",
       "      <td>4</td>\n",
       "    </tr>\n",
       "    <tr>\n",
       "      <th>29</th>\n",
       "      <td>1</td>\n",
       "      <td>4</td>\n",
       "    </tr>\n",
       "    <tr>\n",
       "      <th>30</th>\n",
       "      <td>1</td>\n",
       "      <td>4</td>\n",
       "    </tr>\n",
       "    <tr>\n",
       "      <th>31</th>\n",
       "      <td>1</td>\n",
       "      <td>5</td>\n",
       "    </tr>\n",
       "    <tr>\n",
       "      <th>32</th>\n",
       "      <td>1</td>\n",
       "      <td>5</td>\n",
       "    </tr>\n",
       "    <tr>\n",
       "      <th>33</th>\n",
       "      <td>1</td>\n",
       "      <td>5</td>\n",
       "    </tr>\n",
       "    <tr>\n",
       "      <th>34</th>\n",
       "      <td>1</td>\n",
       "      <td>5</td>\n",
       "    </tr>\n",
       "    <tr>\n",
       "      <th>35</th>\n",
       "      <td>1</td>\n",
       "      <td>6</td>\n",
       "    </tr>\n",
       "    <tr>\n",
       "      <th>36</th>\n",
       "      <td>1</td>\n",
       "      <td>7</td>\n",
       "    </tr>\n",
       "    <tr>\n",
       "      <th>37</th>\n",
       "      <td>1</td>\n",
       "      <td>7</td>\n",
       "    </tr>\n",
       "    <tr>\n",
       "      <th>38</th>\n",
       "      <td>1</td>\n",
       "      <td>8</td>\n",
       "    </tr>\n",
       "    <tr>\n",
       "      <th>39</th>\n",
       "      <td>1</td>\n",
       "      <td>8</td>\n",
       "    </tr>\n",
       "    <tr>\n",
       "      <th>40</th>\n",
       "      <td>1</td>\n",
       "      <td>8</td>\n",
       "    </tr>\n",
       "    <tr>\n",
       "      <th>41</th>\n",
       "      <td>1</td>\n",
       "      <td>8</td>\n",
       "    </tr>\n",
       "    <tr>\n",
       "      <th>42</th>\n",
       "      <td>1</td>\n",
       "      <td>8</td>\n",
       "    </tr>\n",
       "    <tr>\n",
       "      <th>43</th>\n",
       "      <td>1</td>\n",
       "      <td>9</td>\n",
       "    </tr>\n",
       "    <tr>\n",
       "      <th>44</th>\n",
       "      <td>1</td>\n",
       "      <td>9</td>\n",
       "    </tr>\n",
       "    <tr>\n",
       "      <th>45</th>\n",
       "      <td>1</td>\n",
       "      <td>9</td>\n",
       "    </tr>\n",
       "    <tr>\n",
       "      <th>46</th>\n",
       "      <td>1</td>\n",
       "      <td>10</td>\n",
       "    </tr>\n",
       "    <tr>\n",
       "      <th>47</th>\n",
       "      <td>1</td>\n",
       "      <td>10</td>\n",
       "    </tr>\n",
       "    <tr>\n",
       "      <th>48</th>\n",
       "      <td>1</td>\n",
       "      <td>10</td>\n",
       "    </tr>\n",
       "    <tr>\n",
       "      <th>49</th>\n",
       "      <td>1</td>\n",
       "      <td>11</td>\n",
       "    </tr>\n",
       "  </tbody>\n",
       "</table>\n",
       "</div>"
      ],
      "text/plain": [
       "    treatment  mistakes\n",
       "0           1         0\n",
       "1           1         0\n",
       "2           1         0\n",
       "3           1         0\n",
       "4           1         0\n",
       "5           1         0\n",
       "6           1         0\n",
       "7           1         0\n",
       "8           1         0\n",
       "9           1         0\n",
       "10          1         0\n",
       "11          1         0\n",
       "12          1         0\n",
       "13          1         1\n",
       "14          1         1\n",
       "15          1         1\n",
       "16          1         1\n",
       "17          1         2\n",
       "18          1         2\n",
       "19          1         2\n",
       "20          1         2\n",
       "21          1         2\n",
       "22          1         3\n",
       "23          1         3\n",
       "24          1         3\n",
       "25          1         3\n",
       "26          1         3\n",
       "27          1         3\n",
       "28          1         4\n",
       "29          1         4\n",
       "30          1         4\n",
       "31          1         5\n",
       "32          1         5\n",
       "33          1         5\n",
       "34          1         5\n",
       "35          1         6\n",
       "36          1         7\n",
       "37          1         7\n",
       "38          1         8\n",
       "39          1         8\n",
       "40          1         8\n",
       "41          1         8\n",
       "42          1         8\n",
       "43          1         9\n",
       "44          1         9\n",
       "45          1         9\n",
       "46          1        10\n",
       "47          1        10\n",
       "48          1        10\n",
       "49          1        11"
      ]
     },
     "execution_count": 5,
     "metadata": {},
     "output_type": "execute_result"
    }
   ],
   "source": [
    "data_treatment = data[data.treatment == 1]\n",
    "data_treatment"
   ]
  },
  {
   "cell_type": "markdown",
   "metadata": {
    "id": "057s3rvUhFnK"
   },
   "source": [
    "A smaller dataframe with only the people we want. Alternatively, if we want just the control group."
   ]
  },
  {
   "cell_type": "code",
   "execution_count": 3,
   "metadata": {
    "id": "nwkX5YeOhF4V"
   },
   "outputs": [],
   "source": [
    "data_control = data[data.treatment == 0]"
   ]
  },
  {
   "cell_type": "markdown",
   "metadata": {
    "id": "H3QoLD2kjKWy"
   },
   "source": [
    "## Plotting\n",
    "\n",
    "It would be nice if we could an initial picture of what these data look like. So let's count up the number of people who made each type of mistake. We'll use a counting algorithm you've seen before. The only trick is we have to convert our arrays to lists first."
   ]
  },
  {
   "cell_type": "code",
   "execution_count": 6,
   "metadata": {
    "colab": {
     "base_uri": "https://localhost:8080/",
     "height": 282
    },
    "id": "1rhlgqFiAoUi",
    "outputId": "66c593a9-972a-4fff-f6ed-0351641b2832"
   },
   "outputs": [
    {
     "data": {
      "text/plain": [
       "<BarContainer object of 13 artists>"
      ]
     },
     "execution_count": 6,
     "metadata": {},
     "output_type": "execute_result"
    },
    {
     "data": {
      "image/png": "[encoded data removed]",
      "text/plain": [
       "<Figure size 640x480 with 1 Axes>"
      ]
     },
     "metadata": {},
     "output_type": "display_data"
    }
   ],
   "source": [
    "mistakes_treatment = list(data_treatment.mistakes.values)\n",
    "\n",
    "outcomes = range(13)\n",
    "counts = []\n",
    "\n",
    "for i in outcomes:\n",
    "  matches = mistakes_treatment.count(i)\n",
    "  counts.append(matches)\n",
    "\n",
    "plt.bar(outcomes,counts)"
   ]
  },
  {
   "cell_type": "code",
   "execution_count": 7,
   "metadata": {
    "colab": {
     "base_uri": "https://localhost:8080/",
     "height": 282
    },
    "id": "4PrAdDZUBaon",
    "outputId": "9143998f-d79b-46fd-98e6-b6ef85cf6d0a"
   },
   "outputs": [
    {
     "data": {
      "text/plain": [
       "<BarContainer object of 13 artists>"
      ]
     },
     "execution_count": 7,
     "metadata": {},
     "output_type": "execute_result"
    },
    {
     "data": {
      "image/png": "[encoded data removed]",
      "text/plain": [
       "<Figure size 640x480 with 1 Axes>"
      ]
     },
     "metadata": {},
     "output_type": "display_data"
    }
   ],
   "source": [
    "mistakes_control = list(data_control.mistakes.values)\n",
    "\n",
    "outcomes = range(13)\n",
    "counts = []\n",
    "\n",
    "for i in outcomes:\n",
    "  matches = mistakes_control.count(i)\n",
    "  counts.append(matches)\n",
    "\n",
    "plt.bar(outcomes,counts)"
   ]
  },
  {
   "cell_type": "markdown",
   "metadata": {
    "id": "qETsSc4MhNjW"
   },
   "source": [
    "# Descriptions of data versus models\n",
    "\n",
    "Asch has this funny little sentence right before he presents his main data:\n",
    "\n",
    ">The quantitative results are clear and unambiguous.\n",
    "\n",
    "I want you to appreciate this is not the type of sentence that can be true. It's not that Asch's data are more ambiguious that he hopes. It just that data do not mean anything in particular in the absence of a model. The data is unambiguous in support of what? Asch doesn't say because, you might notice, there are no models or statistics in the whole paper. What Asch has, instead, are descriptive numbers. The numbers tell us what happened in the actual experiment.\n",
    "\n",
    "It's worth drawing out this contrast very explicitly. Usually, we are not interested in just the numbers recorded in an experiment. We are interested in how those numbers speak to a bigger, underlying, and repeatable process. The model describes that process. The data provide clues about that process once we do stuff like estimation or testing. But by itself, the data are just a record of what happened in this one case.\n",
    "\n",
    "So our first mission is to develop some models that let us evaluate how ambigiuous or unambigious the data really are."
   ]
  },
  {
   "cell_type": "markdown",
   "metadata": {
    "id": "u2SuXwtRjfvb"
   },
   "source": [
    "## A binomial process model\n",
    "\n",
    "Next class, we'll think long and hard about how to make a good model. But let's make a bad model. The point of this is two fold (1) it's easy to do. We've already made a few binomial models, so we can quickly apply it to our problem (2) it provides a good starting place for criticism. When we build our better model, it will make the failures of the binomial really obvious.\n",
    "\n",
    "Notice Asch's experiment and the Lady tasting tea problem have a lot in common. The outcome is binary - you guess right or wrong. We think people have some accuracy level. In the control group, that accuracy level represents perceptual accuracy. Most people do really well at judging the length of lines. In the treatment group, that accuracy represent the strengh of the conformity effect. We know that the stock lady tasting tea model is well described by the binomial distribution.\n",
    "\n",
    "So to scale up our binomial to handle this experiment, we need two steps\n",
    "\n",
    "1. Assume each participant has constant accuracy throughout the duration of the experiment.\n",
    "2. Assume each participant in an experimental group has the same accuracy level.\n",
    "\n",
    "Now we just have to estimate the accuracy level in the control and treatment group. It makes the problem fairly simple.\n",
    "\n",
    "But also notice these assumptions are clearly and obviously wrong. Accuracy should vary over time as confidence erodes. And, Asch's interviews make it very clear that participants are fairly different - some conform a lot. Others stand firm. So it would help if we could replace that assumption - next class we will.\n",
    "\n",
    "To develop our intuiton, we'll find the likelihood of the data given a single parameter value. Let's assume that the treatment group has 50% accuracy. We can write code like this to find the likelihood of each observation, given that parameter value."
   ]
  },
  {
   "cell_type": "code",
   "execution_count": 14,
   "metadata": {},
   "outputs": [
    {
     "data": {
      "text/plain": [
       "array([0.00024414, 0.00024414, 0.00024414, 0.00024414, 0.00024414,\n",
       "       0.00024414, 0.00024414, 0.00024414, 0.00024414, 0.00024414,\n",
       "       0.00024414, 0.00024414, 0.00024414, 0.00292969, 0.00292969,\n",
       "       0.00292969, 0.00292969, 0.01611328, 0.01611328, 0.01611328,\n",
       "       0.01611328, 0.01611328, 0.05371094, 0.05371094, 0.05371094,\n",
       "       0.05371094, 0.05371094, 0.05371094, 0.12084961, 0.12084961,\n",
       "       0.12084961, 0.19335938, 0.19335938, 0.19335938, 0.19335938,\n",
       "       0.22558594, 0.19335938, 0.19335938, 0.12084961, 0.12084961,\n",
       "       0.12084961, 0.12084961, 0.12084961, 0.05371094, 0.05371094,\n",
       "       0.05371094, 0.01611328, 0.01611328, 0.01611328, 0.00292969])"
      ]
     },
     "execution_count": 14,
     "metadata": {},
     "output_type": "execute_result"
    }
   ],
   "source": [
    "stats.binom(p=0.5,n=12).pmf(mistakes_treatment)"
   ]
  },
  {
   "cell_type": "markdown",
   "metadata": {},
   "source": [
    "Notice a difference between the lady tasting tea problem and the Asch problem. Before we got a single observation because we had a single participant - Lady Bristol. Now we have a whole bunch of participants and we get a likelihood for each one. What we really want is a single likelihood that summarizes how probable the whole dataset is, given our model. To find that, we multiply every likelihood together."
   ]
  },
  {
   "cell_type": "code",
   "execution_count": 16,
   "metadata": {},
   "outputs": [
    {
     "data": {
      "text/plain": [
       "2.142540775076649e-98"
      ]
     },
     "execution_count": 16,
     "metadata": {},
     "output_type": "execute_result"
    }
   ],
   "source": [
    "np.prod(stats.binom(p=0.5,n=12).pmf(mistakes_treatment))"
   ]
  },
  {
   "cell_type": "markdown",
   "metadata": {
    "id": "8NLseLNgnS1N"
   },
   "source": [
    "You'll notice that we get a very small number. The `e-98` means there are 98 `0`s between the decimal place and where the displayed number starts. Like\n",
    "\n",
    "$$0.000 ... 000214540775076649 $$\n",
    "\n",
    "This is normal and expected with probabilities in realistic statistical problems. \n",
    "\n",
    "Now our goal is to estimate the parameters of the binomial model. We picked 0.5 as our parameter before. But what is the best guess for that parameter and what is the uncertainty around that estimate? We'll use the bayesian approach. So set up a grid:"
   ]
  },
  {
   "cell_type": "code",
   "execution_count": 17,
   "metadata": {
    "id": "NVbml5WkDQmp"
   },
   "outputs": [],
   "source": [
    "# grid\n",
    "\n",
    "grid = np.linspace(0,1,200)"
   ]
  },
  {
   "cell_type": "markdown",
   "metadata": {
    "id": "z7UHRZ3hnezq"
   },
   "source": [
    "The prior is a bit harder: what do we think about the accuracy rate in this case? Remember, we are working backward from what did before - estimating the number of successes vs. estimating the number of failures.\n",
    "\n",
    "The sort of reasoning we've used before won't work in this case. Let's try a similar argument and see what's wrong. Suppose someone showed up, forgot their glasses and ignored everyone else. They might just say a number at random. There are three possible lines in this experiment so they should fail about 33% of the time. So we might be tempted to put an upper boundary at 33%.\n",
    "\n",
    "I think that's too low - if you're going along with the crowd, you could be swayed to fail every time. So it's reasonable to think the failure rate could be as high as 100%."
   ]
  },
  {
   "cell_type": "code",
   "execution_count": 10,
   "metadata": {
    "id": "K0P7ieNinfFo"
   },
   "outputs": [],
   "source": [
    "# prior\n",
    "\n",
    "prior = np.ones(200) / 200"
   ]
  },
  {
   "cell_type": "markdown",
   "metadata": {
    "id": "QEBmg56KnhUg"
   },
   "source": [
    "Now we just calculate the likelihood for each group, execute bayes theorem and plot."
   ]
  },
  {
   "cell_type": "code",
   "execution_count": 18,
   "metadata": {
    "colab": {
     "base_uri": "https://localhost:8080/",
     "height": 282
    },
    "id": "_fMw02exnhnM",
    "outputId": "b35c1c11-05e3-4051-b2bf-301695d38b80"
   },
   "outputs": [
    {
     "data": {
      "text/plain": [
       "<matplotlib.legend.Legend at 0x21aae2b9ad0>"
      ]
     },
     "execution_count": 18,
     "metadata": {},
     "output_type": "execute_result"
    },
    {
     "data": {
      "image/png": "[encoded data removed]",
      "text/plain": [
       "<Figure size 640x480 with 1 Axes>"
      ]
     },
     "metadata": {},
     "output_type": "display_data"
    }
   ],
   "source": [
    "# likelihood\n",
    "\n",
    "likelihood = [np.prod(stats.binom(p=p,n=12).pmf(mistakes_treatment)) for p in grid]\n",
    "post = prior * likelihood\n",
    "post_treatment = post / sum(post)\n",
    "\n",
    "# control group\n",
    "\n",
    "likelihood = [np.prod(stats.binom(p=p,n=12).pmf(mistakes_control)) for p in grid]\n",
    "post = prior * likelihood\n",
    "post_control = post / sum(post)\n",
    "\n",
    "plt.plot(grid,post_treatment,label=\"treatment\")\n",
    "plt.plot(grid,post_control,label=\"control\")\n",
    "plt.legend()"
   ]
  },
  {
   "cell_type": "markdown",
   "metadata": {
    "id": "BjazuDZWpZ47"
   },
   "source": [
    "How should we interpret these graphs? They depict the uncertainty around the possible error rates for each group. The model is very confident the control group error rate is less than 0.05. The whole distribution spikes at the bottom. \n",
    "\n",
    "The model is less sure where to put the treatment group. They could have an error rate around 0.25-0.38, give or take a bit. But mostly the model thinks it's 0.33.\n",
    "\n",
    "We'll stop here. The initial conclusion is that Asch is basically right - the two groups are clearly different. But two caveats:\n",
    "1. We only get to say that because we have an explicit model.\n",
    "2. Our model sucks. So I would be curious to see whether Asch's conclusion holds up as we work toward a better model."
   ]
  }
 ],
 "metadata": {
  "colab": {
   "provenance": [],
   "toc_visible": true
  },
  "kernelspec": {
   "display_name": "Python 3 (ipykernel)",
   "language": "python",
   "name": "python3"
  },
  "language_info": {
   "codemirror_mode": {
    "name": "ipython",
    "version": 3
   },
   "file_extension": ".py",
   "mimetype": "text/x-python",
   "name": "python",
   "nbconvert_exporter": "python",
   "pygments_lexer": "ipython3",
   "version": "3.11.3"
  }
 },
 "nbformat": 4,
 "nbformat_minor": 1
}
