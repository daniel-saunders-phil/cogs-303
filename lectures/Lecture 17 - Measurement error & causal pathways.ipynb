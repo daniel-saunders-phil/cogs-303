{
 "cells": [
  {
   "cell_type": "markdown",
   "id": "71061b3b-564c-4683-82fc-4e86334b240f",
   "metadata": {},
   "source": [
    "# Introduction\n",
    "\n",
    "The goal of this unit is to give you a wide inventory to critique experimental studies while expressing those critiques with computational models. The toolkit is pretty big now. We have tools to explore heterogeneity, sample size, and generalizability. Along the way, I've suggested that applying these tools might help us debunk bad studeies. Yet, we haven't actually seen this debunking happen yet! The Asch study, on closer review, turns out to be just fine (maybe some trouble with generalizability but hard to say).\n",
    "\n",
    "The Bargh study, by contrast, is infamous for failing replication. And I've been posing the question: could we have known something was wrong back in 1996 or did we just have to wait until 2012 to find out there were issues? Today, we'll find two distinct problems that do raise serious questions about thre results. Measurement error and causal mediation. It will turn out that these are exactly the two sorts of errors [the replication study](https://journals.plos.org/plosone/article/file?id=10.1371/journal.pone.0029081&type=printable) suggests as motivations. If you want to see scientific debate in action, you might checkout that paper."
   ]
  },
  {
   "cell_type": "markdown",
   "id": "5bb71252",
   "metadata": {},
   "source": [
    "# How to represent measurement error\n",
    "\n",
    "There are many sources of noise in an experiment. Some of them are fairly benign: the fact that some people are taller in the control group, or late for class, or sleepy. All introduce variation that we have a way of modeling with normal distributions. These sources of variation are also measured - we know how far off from the group mean each person is.\n",
    "\n",
    "But other sources of noise aren't so nice: measurement error is one. Measurement error is a unique problem because it is unmeasured variation. All we have is the recorded speeds. We do not know how far off they are. So there might be further sources of noise then we have access to. Let's explore how to model this."
   ]
  },
  {
   "cell_type": "code",
   "execution_count": 1,
   "id": "6412ab18",
   "metadata": {},
   "outputs": [],
   "source": [
    "import pymc as pm\n",
    "import pandas as pd\n",
    "import numpy as np\n",
    "import arviz as az\n",
    "import matplotlib.pyplot as plt\n",
    "from scipy import stats\n",
    "\n",
    "url = 'https://raw.githubusercontent.com/daniel-saunders-phil/cogs-303/main/bargh_experiment_2_data'\n",
    "\n",
    "data = pd.read_csv(url)\n",
    "\n",
    "control = data[data.group == 1]\n",
    "primed = data[data.group == 0]\n",
    "control_speed = control.speeds.values\n",
    "primed_speed = primed.speeds.values"
   ]
  },
  {
   "cell_type": "markdown",
   "id": "85072d8b-8475-487b-abfb-089d8db2eb14",
   "metadata": {},
   "source": [
    "First, we'll plot all the walking speeds on the y-axis and just evenly space the participants on the x-axis."
   ]
  },
  {
   "cell_type": "code",
   "execution_count": 5,
   "id": "19c48e70",
   "metadata": {},
   "outputs": [
    {
     "data": {
      "text/plain": [
       "Text(0, 0.5, 'walking speed')"
      ]
     },
     "execution_count": 5,
     "metadata": {},
     "output_type": "execute_result"
    },
    {
     "data": {
      "image/png": "[encoded data removed]",
      "text/plain": [
       "<Figure size 640x480 with 1 Axes>"
      ]
     },
     "metadata": {},
     "output_type": "display_data"
    }
   ],
   "source": [
    "x = np.arange(30)\n",
    "\n",
    "plt.plot(x[:15],control_speed,'o',label=\"control\")\n",
    "plt.plot(x[15:],primed_speed,'o',label=\"primed\")\n",
    "plt.xlabel(\"participant\")\n",
    "plt.legend()\n",
    "plt.ylabel(\"walking speed\")"
   ]
  },
  {
   "cell_type": "markdown",
   "id": "6b545fd1-624b-4de9-be74-e25bca08d153",
   "metadata": {},
   "source": [
    "We can represent the measurement error using normal distributions. Here's the thought. The stopwatch guy will make mistakes. Sometimes he goes high. Sometimes he goes low. But mostly we should think his guess are concentrated around the true walking speed. This is an awful lot like our football field metaphor from last class. There is a baseline (being correct) and then random factors making the stopwatch man go up or down. Naturally, it's not a perfect story. The stopwatch man could be consistently low. But that's just like moving the baseline down a bit. We already know that changing the starting location doesn't change the distribution.\n",
    "\n",
    "This widget lets you visualize the data points under conditions of uncertainty. We do not quite know where they are so we add random normally distributed noise to each observed measurement. Then we sample 20 partial points from our normal distribution and plot them all with high transparency."
   ]
  },
  {
   "cell_type": "code",
   "execution_count": 8,
   "id": "4f4ab3c0",
   "metadata": {},
   "outputs": [
    {
     "data": {
      "application/vnd.jupyter.widget-view+json": {
       "model_id": "454415f46511424c9f07f4656f6cb678",
       "version_major": 2,
       "version_minor": 0
      },
      "text/plain": [
       "interactive(children=(FloatSlider(value=0.001, description='std', max=1.5, min=0.001, step=0.01), Output()), _…"
      ]
     },
     "metadata": {},
     "output_type": "display_data"
    },
    {
     "data": {
      "text/plain": [
       "<function __main__.draw_measurement_error(std)>"
      ]
     },
     "execution_count": 8,
     "metadata": {},
     "output_type": "execute_result"
    }
   ],
   "source": [
    "import ipywidgets as widgets\n",
    "\n",
    "def draw_measurement_error(std):\n",
    "    \n",
    "    scatter = 20\n",
    "    \n",
    "    x1 = np.repeat(np.arange(15),scatter)\n",
    "    y1 = stats.norm(np.repeat(control_speed,scatter),std).rvs()\n",
    "    x2 = np.repeat(np.arange(15,30),scatter)\n",
    "    y2 = stats.norm(np.repeat(primed_speed,scatter),std).rvs()\n",
    "\n",
    "    plt.plot(x1,y1,'o',alpha=0.2,color=\"tab:blue\")\n",
    "    plt.plot(x2,y2,'o',alpha=0.2,color=\"tab:orange\")\n",
    "    plt.xlabel(\"participant\")\n",
    "    plt.ylabel(\"walking speed\")\n",
    "\n",
    "widgets.interact(draw_measurement_error,\n",
    "                 std=widgets.FloatSlider(min=0.001, max=1.5, step=0.01, value=0.001))"
   ]
  },
  {
   "cell_type": "markdown",
   "id": "e8a2bfd6-d42e-402b-86e0-0074508bfa14",
   "metadata": {},
   "source": [
    "As you play with this, notice when the two groups are no longer easily distinguishable. At that point, that's enough measurement error to make learning the difference between the groups impossible."
   ]
  },
  {
   "cell_type": "markdown",
   "id": "9c8ffa70",
   "metadata": {},
   "source": [
    "## Realistic bounds on measurement error\n",
    "\n",
    "Playing with the slider is great. But what is a plausible value to set our measurement error parameter to? In class a few days ago, I had everyone time me as I moved across the front the classroom. Here is the distribution of your answers."
   ]
  },
  {
   "cell_type": "code",
   "execution_count": 9,
   "id": "a3433492",
   "metadata": {},
   "outputs": [
    {
     "data": {
      "text/plain": [
       "0.4891946633857744"
      ]
     },
     "execution_count": 9,
     "metadata": {},
     "output_type": "execute_result"
    },
    {
     "data": {
      "image/png": "[encoded data removed]",
      "text/plain": [
       "<Figure size 640x480 with 1 Axes>"
      ]
     },
     "metadata": {},
     "output_type": "display_data"
    }
   ],
   "source": [
    "speeds = [2.79,3.18,2.93,2.89,3.39,3.35,3.45,3.43,3.49,2.69,3.13,2.68,4.63,3.01,3.53,2.53,2.63]\n",
    "plt.hist(speeds,bins=8)\n",
    "np.std(speeds)"
   ]
  },
  {
   "cell_type": "markdown",
   "id": "c03d278b-2c25-4a64-833d-9941edaa2062",
   "metadata": {},
   "source": [
    "In this case, we still don't know what my \"true\" score was. But it does give an indication of how much wiggle room there is when humans are trying to measure something with a stop watch. A standard deviation of about 0.5 seems plausible."
   ]
  },
  {
   "cell_type": "markdown",
   "id": "d2150e90",
   "metadata": {},
   "source": [
    "## P-value sensitivity testing\n",
    "\n",
    "We can now deploy our new tool to explore how sensitive the p-value is to measurement error. The strategy works like this: we don't really know where the data points are but we have a good way to guess. We'll use the observed walking speeds as our best guess and then add a normal distribution with standard deviation 0.5 around them."
   ]
  },
  {
   "cell_type": "code",
   "execution_count": 6,
   "id": "f5ad30ca-5481-4586-9db9-b79a77ce4036",
   "metadata": {},
   "outputs": [
    {
     "data": {
      "text/plain": [
       "array([7.14786378, 8.68753109, 7.01931043, 7.48803241, 7.50856187,\n",
       "       5.47853246, 9.0505225 , 7.69500672, 7.11091735, 7.57009876,\n",
       "       9.04998548, 6.2540824 , 7.70820591, 7.07905588, 7.86966385])"
      ]
     },
     "execution_count": 6,
     "metadata": {},
     "output_type": "execute_result"
    }
   ],
   "source": [
    "# this code pushes the whole array of control speeds through the `stats.norm()` object\n",
    "# so it's using 15 different means to generate samples.\n",
    "\n",
    "stats.norm(control_speed,0.5).rvs()"
   ]
  },
  {
   "cell_type": "markdown",
   "id": "d34daa1b-587a-40e1-993e-a803ec8b6be3",
   "metadata": {},
   "source": [
    "This can give us datasets that wiggle a little bit in ways we think are consistent with our measurement device. Then we'll repeatedly draw wiggly samples and conduct t-tests on them. If we do this 1000 (or 2000 or whatever) times, we'll get a distribution of possible p-values. If our p-values spread out a lot, that tells us our experiment is highly sensitive to measurement error."
   ]
  },
  {
   "cell_type": "code",
   "execution_count": 10,
   "id": "1bffadc0",
   "metadata": {},
   "outputs": [
    {
     "data": {
      "text/plain": [
       "[<matplotlib.lines.Line2D at 0x1e8e6fb8ed0>]"
      ]
     },
     "execution_count": 10,
     "metadata": {},
     "output_type": "execute_result"
    },
    {
     "data": {
      "image/png": "[encoded data removed]",
      "text/plain": [
       "<Figure size 640x480 with 1 Axes>"
      ]
     },
     "metadata": {},
     "output_type": "display_data"
    }
   ],
   "source": [
    "pvalues = []\n",
    "\n",
    "for i in range(1000):\n",
    "    \n",
    "    g1 = stats.norm(control_speed,0.5).rvs()\n",
    "    g2 = stats.norm(primed_speed,0.5).rvs()\n",
    "    ttest = stats.ttest_ind(g1,g2)\n",
    "    pvalues.append(ttest.pvalue)\n",
    "    \n",
    "plt.plot(pvalues,'o')\n",
    "plt.plot(range(1000),[0.05]*1000,'--',color='grey')\n",
    "plt.plot(range(1000),[0.01]*1000,'--',color='grey')"
   ]
  },
  {
   "cell_type": "markdown",
   "id": "d1dd2dc1-cf01-4f92-ad32-25dd6765f527",
   "metadata": {},
   "source": [
    "I've plotted the 0.01 and 0.05 significance thresholds to help you visually sort the outcomes. It looks like our p-value can move a fair amount in response to modeling the measurement error.\n",
    "\n",
    "We can also count how many observations are above each significance threshold."
   ]
  },
  {
   "cell_type": "code",
   "execution_count": 11,
   "id": "173f1789",
   "metadata": {},
   "outputs": [
    {
     "data": {
      "text/plain": [
       "0.613"
      ]
     },
     "execution_count": 11,
     "metadata": {},
     "output_type": "execute_result"
    }
   ],
   "source": [
    "acc = 0\n",
    "for val in pvalues:\n",
    "    if val > 0.01:\n",
    "        acc = acc + 1\n",
    "        \n",
    "acc / 1000"
   ]
  },
  {
   "cell_type": "markdown",
   "id": "c6c9ea24-b8a5-495c-9423-daaefa458964",
   "metadata": {},
   "source": [
    "About 61% of hypothetical p-values are no longer significant at the 0.01 level."
   ]
  },
  {
   "cell_type": "code",
   "execution_count": 12,
   "id": "1fca4b40",
   "metadata": {},
   "outputs": [
    {
     "data": {
      "text/plain": [
       "0.116"
      ]
     },
     "execution_count": 12,
     "metadata": {},
     "output_type": "execute_result"
    }
   ],
   "source": [
    "acc = 0\n",
    "for val in pvalues:\n",
    "    if val > 0.05:\n",
    "        acc = acc + 1\n",
    "        \n",
    "acc / 1000"
   ]
  },
  {
   "cell_type": "markdown",
   "id": "a9e9ec0d-6c0c-4cc6-9d84-aa659b3c220f",
   "metadata": {},
   "source": [
    "And 11% of the p-values are no longer significant at the 0.05 level. \n",
    "\n",
    "This makes good intuitive sense. The evidence is less certain once we incorporate the uncertainty from measurement errors. It is harder to firmly reject the null hypothesis. Or more broadly, it's plausible that the two groups do not really have different baseline walking speeds. They just appear to have different speeds because of a combination of random variation and bad luck on the part of the stopwatch man.\n",
    "\n",
    "Like much of what we do, whether this argument is a defeat for Bargh and friends depends on whether we are making fair and plausible assumptions. Our thought about how much measurement error stopwatchers go make is also just an estimate. So we could rerun the model with a smaller standard deviation. Alternatively, assuming normally distributed noise isn't the only option. There might be heterogeneity in the stopwatching too. We could use Student's T distribution to model the noise."
   ]
  },
  {
   "cell_type": "markdown",
   "id": "069b2e41",
   "metadata": {},
   "source": [
    "# Mediation and causal pathways\n",
    "\n",
    "For Bargh and colleagues, they do not just want to know *whether* or not behavioral priming can effect walking speed. They also want to know the particular causal mechanism by *which* the effect takes place. The whole introduction to paper is an argument for the theoretical plausibility that our minds reproduce automatically and without conscious awareness of environmental cue. So if the effect of behavioral priming travelled through some other route, that wouldn't help their case very much.\n",
    "\n",
    "Other researchers think it is very plausible the causal effect does travel through another route - experimenters' expectations. If an experimenter thinks you should walk slower leaving the room, they can subtly cue you to walk slower. Maybe they guide you from the table to the door at a slow pace, setting a pace that you follow down the hallway. Maybe they speak in a slow and calm voice to only the primed group to relax them. In the 2012 follow-up study, they have this to say about the potential for experimenter induced bias.\n",
    "\n",
    "![https://raw.githubusercontent.com/daniel-saunders-phil/cogs-303/main/Bargh_replication.png](https://raw.githubusercontent.com/daniel-saunders-phil/cogs-303/main/Bargh_replication.png)"
   ]
  },
  {
   "cell_type": "markdown",
   "id": "9210e268-64e8-4a2c-ab04-72d7b4aeac33",
   "metadata": {},
   "source": [
    "We can represent this sort of argument with a model also. The big takeaway is that the causal effect Bargh and colleagues are after are *non-identifiable* - which means the experiment they ran cannot identify the causal effect they are after. Let's see what some models look like."
   ]
  },
  {
   "cell_type": "markdown",
   "id": "97171894-3cf2-4134-84a8-3b07623ea416",
   "metadata": {},
   "source": [
    "## Studying causal pathways in simulation\n",
    "\n",
    "Our first step is just to create some simulated people and randomly assign them to the primed group or control group."
   ]
  },
  {
   "cell_type": "code",
   "execution_count": 9,
   "id": "0ba89906",
   "metadata": {},
   "outputs": [
    {
     "data": {
      "text/plain": [
       "array([1, 0, 0, 1, 0, 1, 0, 1, 0, 0, 0, 1, 1, 0, 0, 0, 0, 1, 1, 1, 0, 1,\n",
       "       0, 1, 1, 1, 1, 0, 0, 0])"
      ]
     },
     "execution_count": 9,
     "metadata": {},
     "output_type": "execute_result"
    }
   ],
   "source": [
    "primed = np.random.randint(low=0,high=2,size=30)\n",
    "primed"
   ]
  },
  {
   "cell_type": "markdown",
   "id": "9515283c-fd03-4388-9e64-23121ac04c5a",
   "metadata": {},
   "source": [
    "Now we'll create three \"causal pathways\", little simulated worlds where we control what causes what. In the first pathway, what I'll call the direct path, there is no problem. The world works the way Bargh wants. Walking speed is a direct function of whether or not you are primed.\n",
    "\n",
    "$$y = 7.3 + 1 * x$$\n",
    "\n",
    "This expression captures that. 7.3 is the time-in-hallway for the control group. x is a binary variable that represents whether you were primed or not. 1 is the size of the caual effect - if you were primed, it adds one second to your time in the hallway."
   ]
  },
  {
   "cell_type": "code",
   "execution_count": 10,
   "id": "a1c91e7b",
   "metadata": {},
   "outputs": [
    {
     "data": {
      "text/plain": [
       "array([8.3, 7.3, 7.3, 8.3, 7.3, 8.3, 7.3, 8.3, 7.3, 7.3, 7.3, 8.3, 8.3,\n",
       "       7.3, 7.3, 7.3, 7.3, 8.3, 8.3, 8.3, 7.3, 8.3, 7.3, 8.3, 8.3, 8.3,\n",
       "       8.3, 7.3, 7.3, 7.3])"
      ]
     },
     "execution_count": 10,
     "metadata": {},
     "output_type": "execute_result"
    }
   ],
   "source": [
    "# direct path\n",
    "\n",
    "# speed = control group speed + causal_coefficient * whether or not you were primed.\n",
    "speed = 7.3 + 1 * primed\n",
    "speed"
   ]
  },
  {
   "cell_type": "markdown",
   "id": "de7fcede-8b5c-4711-86b9-f8dedaaed592",
   "metadata": {},
   "source": [
    "Here is the path that the 2012 people are suggesting. If you are primed, then that also turns on experimenter's bias. The experimenter also adds one second to your walking speed. Priming itself does not directly add anything to your walking speed. We can represent this visually with what is called a \"directed acyclic graph\"."
   ]
  },
  {
   "cell_type": "code",
   "execution_count": null,
   "id": "d34356a2-6117-441e-8c26-d45a02fb4d61",
   "metadata": {},
   "outputs": [],
   "source": [
    "# don't worry to much about the graphviz code. We'll revisit later in the term when you need to actually learn it.\n",
    "\n",
    "from graphviz import Digraph\n",
    "\n",
    "dot = Digraph()\n",
    "\n",
    "dot.node(\"a\",'Primed')\n",
    "dot.node(\"b\",'Walking_speed')\n",
    "dot.node(\"c\",\"experimenter\")\n",
    "\n",
    "dot.edges(['ac'])\n",
    "dot.edges(['cb'])\n",
    "dot"
   ]
  },
  {
   "cell_type": "markdown",
   "id": "3dedde28-29cd-4310-9077-4758f6db7582",
   "metadata": {},
   "source": [
    "Or, represent it again with linear equations."
   ]
  },
  {
   "cell_type": "code",
   "execution_count": 11,
   "id": "1f8eb91f",
   "metadata": {},
   "outputs": [
    {
     "data": {
      "text/plain": [
       "array([8.3, 7.3, 7.3, 8.3, 7.3, 8.3, 7.3, 8.3, 7.3, 7.3, 7.3, 8.3, 8.3,\n",
       "       7.3, 7.3, 7.3, 7.3, 8.3, 8.3, 8.3, 7.3, 8.3, 7.3, 8.3, 8.3, 8.3,\n",
       "       8.3, 7.3, 7.3, 7.3])"
      ]
     },
     "execution_count": 11,
     "metadata": {},
     "output_type": "execute_result"
    }
   ],
   "source": [
    "# indirect path\n",
    "\n",
    "experimenter_bias = 1 * primed\n",
    "\n",
    "speed = 7.3 + 1 * experimenter_bias + 0 * primed\n",
    "speed"
   ]
  },
  {
   "cell_type": "markdown",
   "id": "c17e4062-774f-4c20-b106-4d43aec07364",
   "metadata": {},
   "source": [
    "As you can see, that data is identical in this scenario as it is in the other scenario.\n",
    "\n",
    "Finally, we might imagine a kind of compromise scenario. Both priming and experimenter bias have an effect. So we are assuming Bargh and friends are correct to some extent - behavioral priming is real. However, we cannot reliably identify how big the effect is. It is *non-identifiable*."
   ]
  },
  {
   "cell_type": "code",
   "execution_count": null,
   "id": "3ce26418-9f9d-425d-8245-241878add3c9",
   "metadata": {},
   "outputs": [],
   "source": [
    "dot = Digraph()\n",
    "\n",
    "dot.node(\"a\",'Primed')\n",
    "dot.node(\"b\",'Walking_speed')\n",
    "dot.node(\"c\",\"experimenter\")\n",
    "\n",
    "dot.edges(['ac'])\n",
    "dot.edges(['ab'])\n",
    "dot.edges(['cb'])\n",
    "dot"
   ]
  },
  {
   "cell_type": "code",
   "execution_count": 13,
   "id": "2ded11d4",
   "metadata": {},
   "outputs": [
    {
     "data": {
      "text/plain": [
       "array([8.3, 7.3, 7.3, 8.3, 7.3, 8.3, 7.3, 8.3, 7.3, 7.3, 7.3, 8.3, 8.3,\n",
       "       7.3, 7.3, 7.3, 7.3, 8.3, 8.3, 8.3, 7.3, 8.3, 7.3, 8.3, 8.3, 8.3,\n",
       "       8.3, 7.3, 7.3, 7.3])"
      ]
     },
     "execution_count": 13,
     "metadata": {},
     "output_type": "execute_result"
    }
   ],
   "source": [
    "# both pathes\n",
    "\n",
    "speed = 7.3 + 0.5 * experimenter_bias + 0.5 * primed\n",
    "speed"
   ]
  },
  {
   "cell_type": "markdown",
   "id": "9942c8aa-13a7-4d94-b291-a3f3b19486b2",
   "metadata": {},
   "source": [
    "The above equation suggests speed is half caused by experimenter_bias and half caused by priming. So the resulting data is exactly the same. The situation for inference is even worse though. We cannot assume it's half and half. There are lots of ways we might weight the causal coefficients to produce exactly the same outcome. Here is one where experimenter bias makes people walk *faster* but behavioral priming cancels it out."
   ]
  },
  {
   "cell_type": "code",
   "execution_count": 15,
   "id": "99e79af1-fdfb-4814-9a67-e566a4ab295f",
   "metadata": {},
   "outputs": [
    {
     "data": {
      "text/plain": [
       "array([8.3, 7.3, 7.3, 8.3, 7.3, 8.3, 7.3, 8.3, 7.3, 7.3, 7.3, 8.3, 8.3,\n",
       "       7.3, 7.3, 7.3, 7.3, 8.3, 8.3, 8.3, 7.3, 8.3, 7.3, 8.3, 8.3, 8.3,\n",
       "       8.3, 7.3, 7.3, 7.3])"
      ]
     },
     "execution_count": 15,
     "metadata": {},
     "output_type": "execute_result"
    }
   ],
   "source": [
    "speed = 7.3 - 0.1 * experimenter_bias + 1.1 * primed\n",
    "speed"
   ]
  },
  {
   "cell_type": "markdown",
   "id": "c9fd3045-b045-4ba7-b343-7310a53c8911",
   "metadata": {},
   "source": [
    "Here is another where behavioral priming actually makes people faster but the experimenter_bias effect is so strong that it masks it."
   ]
  },
  {
   "cell_type": "code",
   "execution_count": 16,
   "id": "e7384094-816e-48a4-ad0e-0c7c96bb350f",
   "metadata": {},
   "outputs": [
    {
     "data": {
      "text/plain": [
       "array([8.3, 7.3, 7.3, 8.3, 7.3, 8.3, 7.3, 8.3, 7.3, 7.3, 7.3, 8.3, 8.3,\n",
       "       7.3, 7.3, 7.3, 7.3, 8.3, 8.3, 8.3, 7.3, 8.3, 7.3, 8.3, 8.3, 8.3,\n",
       "       8.3, 7.3, 7.3, 7.3])"
      ]
     },
     "execution_count": 16,
     "metadata": {},
     "output_type": "execute_result"
    }
   ],
   "source": [
    "speed = 7.3 + 2 * experimenter_bias - 1 * primed\n",
    "speed"
   ]
  },
  {
   "cell_type": "markdown",
   "id": "31d07f78-2fb4-49f0-b8cd-1baac19542cf",
   "metadata": {},
   "source": [
    "All produce the same exact data. So by looking at the data, it is impossible to tell the relative size of the causal effects."
   ]
  },
  {
   "cell_type": "markdown",
   "id": "f3b2fce9",
   "metadata": {},
   "source": [
    "## Mediation from mood and p-value fallacies\n",
    "\n",
    "Bargh and colleagues are not unaware of potential problems from mediation. It is just that they explored potential mediation from a different source. Immediately after reporting and discussing the experiment 2a and 2b that we looked at, they run a short follow up study to explore the effect from mediation from mood. Here's there thought - thinking about the elderly might make people sad. And if they are sad, they walk slower. So, it's another possible causal pathway. The real trouble is - sadness is suppose to be a state we are aware of. If the goal is demonstrate the existence of automatic, subaware mental mechanisms, then having the priming effect travel through mood wouldn't get the job done.\n",
    "\n",
    "More specifically, they are worried about a causal graph like this:"
   ]
  },
  {
   "cell_type": "code",
   "execution_count": null,
   "id": "b865a071-b962-4d14-b08e-67bab45b42bc",
   "metadata": {},
   "outputs": [],
   "source": [
    "dot = Digraph()\n",
    "\n",
    "dot.node(\"a\",'Primed')\n",
    "dot.node(\"b\",'Walking_speed')\n",
    "dot.node(\"c\",\"mood\")\n",
    "\n",
    "dot.edges(['ac'])\n",
    "dot.edges(['ab'])\n",
    "dot.edges(['cb'])\n",
    "dot"
   ]
  },
  {
   "cell_type": "markdown",
   "id": "2ea67bb3-e5e7-49e9-bc1a-34ea1cf65c05",
   "metadata": {},
   "source": [
    "To help them distinguish the causal pathways, they try to get a measurement of how much influence priming has on mood. They get 33 participants to go through the same word scramble task. Except this time, instead of measureing their walking speed, they make them take a series of mood questionaires that ask them questions on a [-8, 8] scale with 8 being happiest and -8 being unhappy. I'm going to show you what they say about their own results but the big spoiler is: none of this makes any goddamn sense. This is an example of many things you should not do when thinking through your own problems. We'll break down the logical fallacies slowly.\n",
    "\n",
    "\n",
    "![](https://raw.githubusercontent.com/daniel-saunders-phil/cogs-303/main/bargh_mood_results.png)"
   ]
  },
  {
   "cell_type": "markdown",
   "id": "f0bbfe00-3c11-49fe-93e0-917afaf5c683",
   "metadata": {},
   "source": [
    "The first logical fallacy is the way they intepret statistical significance. Remember back in unit one, I made a big deal about how statistical significance testing can only help you identify what is false, it cannot help you identify what is true. They get the interpretation backwards here. \n",
    "\n",
    "A multivariate analysis of variance is just a special kind of t-test that's been generalized to handle more than one outcome variable. So in this case, they have the variable 'whether or not you are primed' to generate groups and then they perform multiple t-tests with mood and arousal. MANOVA has a couple of extra technical tricks but the core intuition is the same as the t-test. We assume there is really just one super group for the distribution of moods and the apparent differences between them only arise through random variation. Or more simply, priming has no effect on mood. That's the null hypothesis.\n",
    "\n",
    "Now they fail to find statisticall significant evidence to reject this null hypothesis. So they infer that \"participants who were exposed to the elderly stereotype stimuli were not more likely to be sad\". This is where the fallacy shows up. This fallacy is super common across the sciences and can be very hard to spot so if you don't see it the first time, you are normal. The problem is that the logic of statistical significance is inherently confusing, your brain is doing okay.\n",
    "\n",
    "But the core point is this - failure to reject a hypothesis doesn't mean it is true. If your t-test doesn't turn up a significant result, that doesn't imply anything in particular about the world. For example, suppose we assume Lady Bristol only has a 0.5 chance of getting a cup right or wrong. Now she gets 5 out of 8 cups correct. That evidence is not enough to reject our hypothesis. Does that mean her true accuracy is 0.5? Nope. Her true accuracy is very likely to be in the neighborhood 0f 0.55-0.7. After all, she did slightly between then 4/8, so we should put some credibility in the theory that she has a little bit of ability.\n",
    "\n",
    "That's not what Bargh and colleagues do. Instead they infer the the causal pathway between priming and mood is closed. So nothing to worry about."
   ]
  },
  {
   "cell_type": "markdown",
   "id": "cfe17441-96c5-47de-a632-62b17d20922b",
   "metadata": {},
   "source": [
    "## Mediation from mood the right way\n",
    "\n",
    "Could we do better? We have powerful Bayesian tools for estimating the true causal effect so we do not have to just rely on convoluted logic of statistical significance testing. Let's build up a different way of estimating the structure of the causal graph.\n",
    "\n",
    "Here is what our data looks like."
   ]
  },
  {
   "cell_type": "code",
   "execution_count": 2,
   "id": "c3c7c7a4",
   "metadata": {},
   "outputs": [
    {
     "data": {
      "text/html": [
       "<div>\n",
       "<style scoped>\n",
       "    .dataframe tbody tr th:only-of-type {\n",
       "        vertical-align: middle;\n",
       "    }\n",
       "\n",
       "    .dataframe tbody tr th {\n",
       "        vertical-align: top;\n",
       "    }\n",
       "\n",
       "    .dataframe thead th {\n",
       "        text-align: right;\n",
       "    }\n",
       "</style>\n",
       "<table border=\"1\" class=\"dataframe\">\n",
       "  <thead>\n",
       "    <tr style=\"text-align: right;\">\n",
       "      <th></th>\n",
       "      <th>primed</th>\n",
       "      <th>mood</th>\n",
       "    </tr>\n",
       "  </thead>\n",
       "  <tbody>\n",
       "    <tr>\n",
       "      <th>0</th>\n",
       "      <td>1</td>\n",
       "      <td>4</td>\n",
       "    </tr>\n",
       "    <tr>\n",
       "      <th>1</th>\n",
       "      <td>1</td>\n",
       "      <td>2</td>\n",
       "    </tr>\n",
       "    <tr>\n",
       "      <th>2</th>\n",
       "      <td>1</td>\n",
       "      <td>2</td>\n",
       "    </tr>\n",
       "    <tr>\n",
       "      <th>3</th>\n",
       "      <td>1</td>\n",
       "      <td>-2</td>\n",
       "    </tr>\n",
       "    <tr>\n",
       "      <th>6</th>\n",
       "      <td>1</td>\n",
       "      <td>1</td>\n",
       "    </tr>\n",
       "    <tr>\n",
       "      <th>8</th>\n",
       "      <td>1</td>\n",
       "      <td>-1</td>\n",
       "    </tr>\n",
       "    <tr>\n",
       "      <th>9</th>\n",
       "      <td>1</td>\n",
       "      <td>7</td>\n",
       "    </tr>\n",
       "    <tr>\n",
       "      <th>11</th>\n",
       "      <td>1</td>\n",
       "      <td>-1</td>\n",
       "    </tr>\n",
       "    <tr>\n",
       "      <th>13</th>\n",
       "      <td>1</td>\n",
       "      <td>2</td>\n",
       "    </tr>\n",
       "    <tr>\n",
       "      <th>15</th>\n",
       "      <td>1</td>\n",
       "      <td>3</td>\n",
       "    </tr>\n",
       "    <tr>\n",
       "      <th>16</th>\n",
       "      <td>1</td>\n",
       "      <td>2</td>\n",
       "    </tr>\n",
       "    <tr>\n",
       "      <th>19</th>\n",
       "      <td>1</td>\n",
       "      <td>4</td>\n",
       "    </tr>\n",
       "    <tr>\n",
       "      <th>20</th>\n",
       "      <td>1</td>\n",
       "      <td>4</td>\n",
       "    </tr>\n",
       "    <tr>\n",
       "      <th>21</th>\n",
       "      <td>1</td>\n",
       "      <td>-1</td>\n",
       "    </tr>\n",
       "    <tr>\n",
       "      <th>23</th>\n",
       "      <td>1</td>\n",
       "      <td>1</td>\n",
       "    </tr>\n",
       "    <tr>\n",
       "      <th>24</th>\n",
       "      <td>1</td>\n",
       "      <td>3</td>\n",
       "    </tr>\n",
       "    <tr>\n",
       "      <th>27</th>\n",
       "      <td>1</td>\n",
       "      <td>0</td>\n",
       "    </tr>\n",
       "    <tr>\n",
       "      <th>28</th>\n",
       "      <td>1</td>\n",
       "      <td>0</td>\n",
       "    </tr>\n",
       "    <tr>\n",
       "      <th>29</th>\n",
       "      <td>1</td>\n",
       "      <td>2</td>\n",
       "    </tr>\n",
       "    <tr>\n",
       "      <th>30</th>\n",
       "      <td>1</td>\n",
       "      <td>1</td>\n",
       "    </tr>\n",
       "  </tbody>\n",
       "</table>\n",
       "</div>"
      ],
      "text/plain": [
       "    primed  mood\n",
       "0        1     4\n",
       "1        1     2\n",
       "2        1     2\n",
       "3        1    -2\n",
       "6        1     1\n",
       "8        1    -1\n",
       "9        1     7\n",
       "11       1    -1\n",
       "13       1     2\n",
       "15       1     3\n",
       "16       1     2\n",
       "19       1     4\n",
       "20       1     4\n",
       "21       1    -1\n",
       "23       1     1\n",
       "24       1     3\n",
       "27       1     0\n",
       "28       1     0\n",
       "29       1     2\n",
       "30       1     1"
      ]
     },
     "execution_count": 2,
     "metadata": {},
     "output_type": "execute_result"
    }
   ],
   "source": [
    "url = 'https://raw.githubusercontent.com/daniel-saunders-phil/cogs-303/main/bargh_experiment_2_point_1_data'\n",
    "\n",
    "data = pd.read_csv(url)\n",
    "\n",
    "primed = data[data.primed == 1]\n",
    "control = data[data.primed == 0]\n",
    "primed"
   ]
  },
  {
   "cell_type": "markdown",
   "id": "c5e84c04-1066-4325-a082-03c3a5106f54",
   "metadata": {},
   "source": [
    "What kind of distribution should we use to model the outcome? Our outcome is discrete, the mood survey only goes in integers. So that suggests a binomial (or perhaps a beta-binomial. But let's start simple).\n",
    "\n",
    "Immediately though we havea problem - negative numbers. Binomials only model positive integers and zero. It's like you can get 0 cups correct, but you cannot get -1 cups correct.\n",
    "\n",
    "A nice solution is to just rescale our data so it ranges from [0,16]."
   ]
  },
  {
   "cell_type": "code",
   "execution_count": 33,
   "id": "9bf13e47",
   "metadata": {},
   "outputs": [],
   "source": [
    "mood_control = control.mood.values + 8\n",
    "mood_primed = primed.mood.values + 8"
   ]
  },
  {
   "cell_type": "markdown",
   "id": "b8b435cd-a9a0-4928-ac89-5af6fce12f44",
   "metadata": {},
   "source": [
    "Now we can estimate two proportions, each represent how happy the groups are out of the total possible amount of happiness."
   ]
  },
  {
   "cell_type": "code",
   "execution_count": 34,
   "id": "6365ded6",
   "metadata": {},
   "outputs": [
    {
     "name": "stderr",
     "output_type": "stream",
     "text": [
      "Auto-assigning NUTS sampler...\n",
      "Initializing NUTS using jitter+adapt_diag...\n",
      "Multiprocess sampling (4 chains in 4 jobs)\n",
      "NUTS: [p_control, p_primed]\n"
     ]
    },
    {
     "data": {
      "text/html": [
       "\n",
       "<style>\n",
       "    /* Turns off some styling */\n",
       "    progress {\n",
       "        /* gets rid of default border in Firefox and Opera. */\n",
       "        border: none;\n",
       "        /* Needs to be in here for Safari polyfill so background images work as expected. */\n",
       "        background-size: auto;\n",
       "    }\n",
       "    progress:not([value]), progress:not([value])::-webkit-progress-bar {\n",
       "        background: repeating-linear-gradient(45deg, #7e7e7e, #7e7e7e 10px, #5c5c5c 10px, #5c5c5c 20px);\n",
       "    }\n",
       "    .progress-bar-interrupted, .progress-bar-interrupted::-webkit-progress-bar {\n",
       "        background: #F44336;\n",
       "    }\n",
       "</style>\n"
      ],
      "text/plain": [
       "<IPython.core.display.HTML object>"
      ]
     },
     "metadata": {},
     "output_type": "display_data"
    },
    {
     "data": {
      "text/html": [
       "\n",
       "    <div>\n",
       "      <progress value='8000' class='' max='8000' style='width:300px; height:20px; vertical-align: middle;'></progress>\n",
       "      100.00% [8000/8000 00:10&lt;00:00 Sampling 4 chains, 0 divergences]\n",
       "    </div>\n",
       "    "
      ],
      "text/plain": [
       "<IPython.core.display.HTML object>"
      ]
     },
     "metadata": {},
     "output_type": "display_data"
    },
    {
     "name": "stderr",
     "output_type": "stream",
     "text": [
      "Sampling 4 chains for 1_000 tune and 1_000 draw iterations (4_000 + 4_000 draws total) took 24 seconds.\n"
     ]
    }
   ],
   "source": [
    "with pm.Model() as mediation:\n",
    "    p1 = pm.Beta('p_control',1,1)\n",
    "    p2 = pm.Beta('p_primed',1,1)\n",
    "    \n",
    "    y1 = pm.Binomial('y_control',n=16,p=p1,observed = mood_control)\n",
    "    y2 = pm.Binomial('y_primed',n=16,p=p2,observed = mood_primed)\n",
    "    \n",
    "    trace = pm.sample()"
   ]
  },
  {
   "cell_type": "markdown",
   "id": "a51feca1-20b0-445e-84cf-4535e2c6c521",
   "metadata": {},
   "source": [
    "The result shows us the primed group is a little bit happier than the control group. So that's a pretty different picture from what Bargh and colleagues told us. There is some causal influence of priming on mood, albeit, it might be small."
   ]
  },
  {
   "cell_type": "code",
   "execution_count": 35,
   "id": "446b7487",
   "metadata": {},
   "outputs": [
    {
     "data": {
      "text/plain": [
       "array([<AxesSubplot: title={'center': 'p_control'}>,\n",
       "       <AxesSubplot: title={'center': 'p_primed'}>], dtype=object)"
      ]
     },
     "execution_count": 35,
     "metadata": {},
     "output_type": "execute_result"
    },
    {
     "data": {
      "image/png": "[encoded data removed]",
      "text/plain": [
       "<Figure size 1472x552 with 2 Axes>"
      ]
     },
     "metadata": {},
     "output_type": "display_data"
    }
   ],
   "source": [
    "az.plot_posterior(trace)"
   ]
  },
  {
   "cell_type": "markdown",
   "id": "3c935f45-c350-43ef-b4bb-59f171e1ba6a",
   "metadata": {},
   "source": [
    "There inference was that priming makes 0 difference to the mood. It is easy to see that this cannot be right. If you compare these two posteriors, very little credibility is allocated to the idea that priming makes zero difference. Priming clearly does make a little bit of difference."
   ]
  },
  {
   "cell_type": "code",
   "execution_count": 36,
   "id": "7294faa2",
   "metadata": {},
   "outputs": [
    {
     "data": {
      "image/png": "[encoded data removed]",
      "text/plain": [
       "<Figure size 640x480 with 1 Axes>"
      ]
     },
     "metadata": {},
     "output_type": "display_data"
    }
   ],
   "source": [
    "diffs = trace.posterior['p_primed'].values.flatten() - trace.posterior['p_control'].values.flatten()\n",
    "plt.hist(diffs,bins=50);"
   ]
  },
  {
   "cell_type": "markdown",
   "id": "1887b1c3-fd4a-479f-82b1-bdbd41054e53",
   "metadata": {},
   "source": [
    "Okay what can we conclude from all this? Well it's still an open question whether mood could mediate the results in a way that's damaging to their conclusions. The pathway from priming to mood is still open.\n",
    "\n",
    "Bargh and colleagues have one final line of defense. If priming makes people happier, our little result is nothing to worry about. Their theory is that sadness makes you slower so only sadness provides a counter explanation for their results. If priming makes people happer and being happy makes you faster, then that just really implies the priming effect is even stronger than they thought. In other words, they thing the causal structure looks something like this:"
   ]
  },
  {
   "cell_type": "code",
   "execution_count": 23,
   "id": "3f7b96c2-8619-410d-b5a8-3f0eedd8f633",
   "metadata": {},
   "outputs": [
    {
     "data": {
      "text/plain": [
       "array([7.3, 7.3, 7.3, 8.3, 7.3, 7.3, 7.3, 7.3, 7.3, 7.3, 8.3, 7.3, 7.3,\n",
       "       7.3, 8.3, 8.3, 7.3, 8.3, 8.3, 8.3, 8.3, 7.3, 8.3, 7.3, 8.3, 8.3,\n",
       "       7.3, 8.3, 7.3, 8.3])"
      ]
     },
     "execution_count": 23,
     "metadata": {},
     "output_type": "execute_result"
    }
   ],
   "source": [
    "primed = np.random.randint(low=0,high=2,size=30)\n",
    "\n",
    "# small effect where priming improves the mood:\n",
    "\n",
    "mood = 0.1 * primed\n",
    "\n",
    "# and the being happy makes you faster but priming makes you extra slow\n",
    "\n",
    "speed = 7.3 - 1 * mood + 1.1 * primed\n",
    "speed"
   ]
  },
  {
   "cell_type": "markdown",
   "id": "479c030c-bcc5-4a9e-b9c8-9402edfa8368",
   "metadata": {},
   "source": [
    "I think this potential argument from Bargh and colleagues is silly. It all depends on assuming that only sad moods make people slower. But they didn't have evidence for that claim. They just assumed it. I think other assumptions are also plausible - maybe happy people are more content and in less of a hurry to leave. What we really need is some way of estimating the causal effect of mood on walking speed, something Bargh's data doesn't let us do. The best version of the study would combine a measure of walking speed with a measure of moods. Then we would have everything we need to partition out the different causal pathways. We'll explore that topic in more depth next unit."
   ]
  }
 ],
 "metadata": {
  "kernelspec": {
   "display_name": "pymc_env",
   "language": "python",
   "name": "python3"
  },
  "language_info": {
   "codemirror_mode": {
    "name": "ipython",
    "version": 3
   },
   "file_extension": ".py",
   "mimetype": "text/x-python",
   "name": "python",
   "nbconvert_exporter": "python",
   "pygments_lexer": "ipython3",
   "version": "3.11.3"
  }
 },
 "nbformat": 4,
 "nbformat_minor": 5
}
